{
 "cells": [
  {
   "cell_type": "markdown",
   "id": "c2a4371b-7602-474d-b21f-812c064d2c43",
   "metadata": {},
   "source": [
    "## Curso: Python para Data Science: Primeiros Passos"
   ]
  },
  {
   "cell_type": "markdown",
   "id": "abcdd2ea-a870-4f24-b136-728829c6f4b8",
   "metadata": {},
   "source": [
    "### Aula 1"
   ]
  },
  {
   "cell_type": "markdown",
   "id": "6d17f899-95a6-442f-86e7-cedfe387e9f1",
   "metadata": {},
   "source": [
    "1. Imprima a frase Escola de Dados da Alura!."
   ]
  },
  {
   "cell_type": "code",
   "execution_count": null,
   "id": "39dc5a08-c96c-429b-91ae-8be682902751",
   "metadata": {},
   "outputs": [],
   "source": [
    "print(\"Escola de Dados Alura!\")"
   ]
  },
  {
   "cell_type": "markdown",
   "id": "2c14ed47-05bd-4ab0-862c-c83586ae8d2e",
   "metadata": {},
   "source": [
    "2. Imprima seu nome e seu sobrenome seguindo a estrutura abaixo:"
   ]
  },
  {
   "cell_type": "code",
   "execution_count": null,
   "id": "6d62a3b6-7b77-4640-8372-a693a68e08b0",
   "metadata": {},
   "outputs": [],
   "source": [
    "nome = \"Diego\"\n",
    "sobrenome = \"de Mattos\"\n",
    "\n",
    "print(\"Nome:\", nome)\n",
    "print(\"Sobrenome:\", sobrenome)"
   ]
  },
  {
   "cell_type": "markdown",
   "id": "21fdb0e3-053f-43ea-8efa-ef4880b4679c",
   "metadata": {},
   "source": [
    "3. Imprima o seu primeiro nome letra a letra. Por exemplo, meu nome é Mirla, então eu obtenho a seguinte saída:\n",
    "\n",
    "M\\\n",
    "I\\\n",
    "R\\\n",
    "L\\\n",
    "A"
   ]
  },
  {
   "cell_type": "code",
   "execution_count": null,
   "id": "c4856280-0a4c-46f5-81ab-52b85fed388c",
   "metadata": {},
   "outputs": [],
   "source": [
    "for letter in nome:\n",
    "    print(letter.capitalize())"
   ]
  },
  {
   "cell_type": "markdown",
   "id": "b8fd2f7f-e575-4c5e-805f-22f42ec85e16",
   "metadata": {},
   "source": [
    "4. Imprima o dia do seu nascimento em formato dia mês ano. Lembrando que os valores de dia e ano não podem estar entre aspas. Supondo uma data de aniversário dia 28 de fevereiro de 2003, o formato deve estar como no exemplo abaixo:\n",
    "\n",
    "28 fevereiro 2003"
   ]
  },
  {
   "cell_type": "code",
   "execution_count": null,
   "id": "72846a05-8c84-4933-b434-433d7651b4ae",
   "metadata": {},
   "outputs": [],
   "source": [
    "dia = 28\n",
    "mes = \"fevereiro\"\n",
    "ano = 2003\n",
    "\n",
    "print(dia, mes, ano)"
   ]
  },
  {
   "cell_type": "markdown",
   "id": "a056766c-d6e0-4ad7-b0c2-4dd2197c0da0",
   "metadata": {},
   "source": [
    "Imprima, em um único print, o atual ano que você está fazendo esse curso. O valor do ano deve ser um dado numérico e a saída do print deve ser a seguinte:\n",
    "\n",
    "Ano atual: [ano]"
   ]
  },
  {
   "cell_type": "code",
   "execution_count": null,
   "id": "38b69a1f-4aad-477d-b5b1-616153fab00a",
   "metadata": {},
   "outputs": [],
   "source": [
    "ano = 2024\n",
    "\n",
    "print(\"Ano atual:\", ano)"
   ]
  },
  {
   "cell_type": "markdown",
   "id": "f14b5d7f-2128-443e-bdef-710f70ff8e4b",
   "metadata": {},
   "source": [
    "### Aula 2"
   ]
  },
  {
   "cell_type": "markdown",
   "id": "02162db3-d43f-4d38-a997-750498034682",
   "metadata": {},
   "source": [
    "1. Crie um programa que solicite à pessoa usuária digitar seu nome, e imprima “Olá, [nome]!”."
   ]
  },
  {
   "cell_type": "code",
   "execution_count": null,
   "id": "816be979-94ff-4992-bf23-35ef044a10cb",
   "metadata": {},
   "outputs": [],
   "source": [
    "nome = input(\"Digite seu nome:\") \n",
    "\n",
    "print(\"Olá,\", nome)"
   ]
  },
  {
   "cell_type": "markdown",
   "id": "1c30efea-7c21-478c-be58-7dd6d7761ff9",
   "metadata": {},
   "source": [
    "2. Crie um programa que solicite à pessoa usuária digitar seu nome e idade, e imprima “Olá, [nome], você tem [idade] anos.”."
   ]
  },
  {
   "cell_type": "code",
   "execution_count": null,
   "id": "8481ae94-c847-4636-8ae0-f242d746475b",
   "metadata": {},
   "outputs": [],
   "source": [
    "nome = input(\"Digite seu nome:\")\n",
    "idade = input(\"Digite sua idade:\")\n",
    "\n",
    "print(\"Olá,\", nome, \"você tem\", idade, \"anos\")"
   ]
  },
  {
   "cell_type": "markdown",
   "id": "87cdceec-f1ae-4996-a6c6-4fa46b180706",
   "metadata": {},
   "source": [
    "3. Crie um programa que solicite à pessoa usuária digitar seu nome, idade e altura em metros, e imprima “Olá, [nome], você tem [idade] anos e mede [altura] metros!”."
   ]
  },
  {
   "cell_type": "code",
   "execution_count": null,
   "id": "0f0ba4fd-8bb8-4e0f-99a4-eb8a752d1eb8",
   "metadata": {},
   "outputs": [],
   "source": [
    "nome = input(\"Digite seu nome:\")\n",
    "idade = input(\"Digite sua idade:\")\n",
    "altura = input(\"Digite sua altura em metros:\")\n",
    "\n",
    "print(\"Olá,\", nome, \"você tem\", idade, \"anos e mede\", altura, \"metros!\")"
   ]
  },
  {
   "cell_type": "markdown",
   "id": "504b2855-6925-4368-b8a5-12f65dfffc73",
   "metadata": {},
   "source": [
    "4. Programa que solicita dois valores numéricos e imprime a soma dos dois valores:"
   ]
  },
  {
   "cell_type": "code",
   "execution_count": null,
   "id": "4ffd31f8-d1a6-4fc6-8c51-89119f11352b",
   "metadata": {},
   "outputs": [],
   "source": [
    "valor1 = float(input(\"Digite o primeiro valor: \"))\n",
    "valor2 = float(input(\"Digite o segundo valor: \"))\n",
    "\n",
    "soma = valor1 + valor2\n",
    "print(\"A soma dos dois valores é:\", soma)"
   ]
  },
  {
   "cell_type": "markdown",
   "id": "94e05783-d3ad-4fbb-ba79-7f1dad17f7af",
   "metadata": {},
   "source": [
    "5. Programa que solicita três valores numéricos e imprime a soma dos três valores:"
   ]
  },
  {
   "cell_type": "code",
   "execution_count": null,
   "id": "4816760e-81c1-483c-8add-166ffc786d4f",
   "metadata": {},
   "outputs": [],
   "source": [
    "valor1 = float(input(\"Digite o primeiro valor: \"))\n",
    "valor2 = float(input(\"Digite o segundo valor: \"))\n",
    "valor3 = float(input(\"Digite o terceiro valor: \"))\n",
    "\n",
    "soma = valor1 + valor2 + valor3\n",
    "print(\"A soma dos três valores é:\", soma)"
   ]
  },
  {
   "cell_type": "markdown",
   "id": "9890219f-518d-43a3-a088-8b64b26271b8",
   "metadata": {},
   "source": [
    "6. Programa que solicita dois valores numéricos e imprime a subtração do primeiro pelo segundo valor:"
   ]
  },
  {
   "cell_type": "code",
   "execution_count": null,
   "id": "a8269323-fe23-4e69-9746-27b02382c33b",
   "metadata": {},
   "outputs": [],
   "source": [
    "valor1 = float(input(\"Digite o primeiro valor: \"))\n",
    "valor2 = float(input(\"Digite o segundo valor: \"))\n",
    "\n",
    "subtracao = valor1 - valor2\n",
    "print(\"A subtração do primeiro pelo segundo valor é:\", subtracao)"
   ]
  },
  {
   "cell_type": "markdown",
   "id": "c0c25dfc-c3e6-4d3c-9c25-c59b65a470df",
   "metadata": {},
   "source": [
    "7. Programa que solicita dois valores numéricos e imprime a multiplicação dos dois valores:"
   ]
  },
  {
   "cell_type": "code",
   "execution_count": null,
   "id": "9f5ff17c-a340-4e06-9fc8-1abeb5515faa",
   "metadata": {},
   "outputs": [],
   "source": [
    "valor1 = float(input(\"Digite o primeiro valor: \"))\n",
    "valor2 = float(input(\"Digite o segundo valor: \"))\n",
    "\n",
    "multiplicacao = valor1 * valor2\n",
    "print(\"A multiplicação dos dois valores é:\", multiplicacao)"
   ]
  },
  {
   "cell_type": "markdown",
   "id": "dd46f117-198e-444b-986b-c35a77fde81f",
   "metadata": {},
   "source": [
    "8. rograma que solicita dois valores numéricos, um numerador e um denominador, e realiza a divisão entre os dois valores. Verifica se o denominador não é 0:"
   ]
  },
  {
   "cell_type": "code",
   "execution_count": null,
   "id": "935e33ae-cc31-48e5-bb5b-8ce2bb4f9c33",
   "metadata": {},
   "outputs": [],
   "source": [
    "numerador = float(input(\"Digite o numerador: \"))\n",
    "denominador = float(input(\"Digite o denominador (diferente de 0): \"))\n",
    "\n",
    "if denominador == 0:\n",
    "    print(\"Erro: O denominador não pode ser 0.\")\n",
    "else:\n",
    "    divisao = numerador / denominador\n",
    "    print(\"A divisão entre os dois valores é:\", divisao)"
   ]
  },
  {
   "cell_type": "markdown",
   "id": "27bc0d80-0141-4bc3-ab15-7810deda7585",
   "metadata": {},
   "source": [
    "9. Programa que solicita dois valores numéricos, uma base e um expoente, e realiza a exponenciação entre esses dois valores:"
   ]
  },
  {
   "cell_type": "code",
   "execution_count": null,
   "id": "e29f4909-49af-40e4-8690-e928f53f0add",
   "metadata": {},
   "outputs": [],
   "source": [
    "base = float(input(\"Digite a base: \"))\n",
    "expoente = float(input(\"Digite o expoente: \"))\n",
    "\n",
    "exponenciacao = base ** expoente\n",
    "print(\"O resultado da exponenciação é:\", exponenciacao)"
   ]
  },
  {
   "cell_type": "markdown",
   "id": "5122aee5-6ec4-4f76-92bc-9f6eb045d59e",
   "metadata": {},
   "source": [
    "10. Programa que solicita dois valores numéricos, um numerador e um denominador, e realiza a divisão inteira entre os dois valores. Verifica se o denominador não é 0:"
   ]
  },
  {
   "cell_type": "code",
   "execution_count": null,
   "id": "f039700b-20f3-4b3e-b920-7b08ee001ced",
   "metadata": {},
   "outputs": [],
   "source": [
    "numerador = float(input(\"Digite o numerador: \"))\n",
    "denominador = float(input(\"Digite o denominador (diferente de 0): \"))\n",
    "\n",
    "if denominador == 0:\n",
    "    print(\"Erro: O denominador não pode ser 0.\")\n",
    "else:\n",
    "    divisao_inteira = numerador // denominador\n",
    "    print(\"A divisão inteira entre os dois valores é:\", divisao_inteira)"
   ]
  },
  {
   "cell_type": "markdown",
   "id": "f982d4f5-1dea-4078-a8c3-981ad8f45767",
   "metadata": {},
   "source": [
    "11. Programa que solicita dois valores numéricos, um numerador e um denominador, e retorna o resto da divisão entre os dois valores. Verifica se o denominador não é 0:"
   ]
  },
  {
   "cell_type": "code",
   "execution_count": null,
   "id": "3aa048b2-0985-475f-a154-53ac572fe557",
   "metadata": {},
   "outputs": [],
   "source": [
    "numerador = float(input(\"Digite o numerador: \"))\n",
    "denominador = float(input(\"Digite o denominador (diferente de 0): \"))\n",
    "\n",
    "if denominador == 0:\n",
    "    print(\"Erro: O denominador não pode ser 0.\")\n",
    "else:\n",
    "    resto_divisao = numerador % denominador\n",
    "    print(\"O resto da divisão entre os dois valores é:\", resto_divisao)"
   ]
  },
  {
   "cell_type": "markdown",
   "id": "95d923a4-56e1-432c-9dad-6ae3064aca97",
   "metadata": {},
   "source": [
    "12. Programa que solicita 3 notas de um estudante e imprime a média das notas:"
   ]
  },
  {
   "cell_type": "code",
   "execution_count": null,
   "id": "89ce5a01-cce0-4140-94ab-a8bef8ad9a24",
   "metadata": {},
   "outputs": [],
   "source": [
    "nota1 = float(input(\"Digite a primeira nota: \"))\n",
    "nota2 = float(input(\"Digite a segunda nota: \"))\n",
    "nota3 = float(input(\"Digite a terceira nota: \"))\n",
    "\n",
    "media = (nota1 + nota2 + nota3) / 3\n",
    "print(\"A média das notas é:\", media)"
   ]
  },
  {
   "cell_type": "markdown",
   "id": "7ede0900-e7d3-4fd5-8499-57b51e63f76b",
   "metadata": {},
   "source": [
    "13. Programa que calcula e imprime a média ponderada dos números 5, 12, 20 e 15 com pesos respectivamente iguais a 1, 2, 3 e 4:"
   ]
  },
  {
   "cell_type": "code",
   "execution_count": null,
   "id": "b86d6145-0130-4d9c-92be-36600e7a76b2",
   "metadata": {},
   "outputs": [],
   "source": [
    "valores = [5, 12, 20, 15]\n",
    "pesos = [1, 2, 3, 4]\n",
    "\n",
    "soma_ponderada = 0\n",
    "\n",
    "for i in range(len(valores)):\n",
    "    for j in range(len(pesos)):\n",
    "        if i == j:\n",
    "            soma_ponderada += valores[i]*pesos[j]\n",
    "\n",
    "soma_pesos = 0 \n",
    "for peso in pesos:\n",
    "    soma_pesos += peso\n",
    "\n",
    "media_ponderada = soma_ponderada/soma_pesos\n",
    "\n",
    "print(\"A média ponderada é:\", media_ponderada)"
   ]
  },
  {
   "cell_type": "markdown",
   "id": "dab154b8-14ab-416d-bfa6-a5200a567aab",
   "metadata": {},
   "source": [
    "14. Crie uma variável chamada “frase” e atribua a ela uma string de sua escolha. Em seguida, imprima a frase na tela."
   ]
  },
  {
   "cell_type": "code",
   "execution_count": null,
   "id": "73e56b47-fd45-4d78-b4e2-4f8cec872c16",
   "metadata": {},
   "outputs": [],
   "source": [
    "frase = \"Uma frase qualquer.\"\n",
    "print(frase)"
   ]
  },
  {
   "cell_type": "markdown",
   "id": "d733db0d-4982-40d9-8094-4e1297919d79",
   "metadata": {},
   "source": [
    "15. Crie um código que solicite uma frase e depois imprima a frase na tela."
   ]
  },
  {
   "cell_type": "code",
   "execution_count": null,
   "id": "b48bb635-c636-442e-a036-314e03b2b200",
   "metadata": {},
   "outputs": [],
   "source": [
    "frase = input(\"Digite uma frase: \")\n",
    "print(frase)"
   ]
  },
  {
   "cell_type": "markdown",
   "id": "2ed8983c-63b4-4d36-922b-09bb317e1c63",
   "metadata": {},
   "source": [
    "16. Crie um código que solicite uma frase à pessoa usuária e imprima a mesma frase digitada mas com todas as letras maiúsculas."
   ]
  },
  {
   "cell_type": "code",
   "execution_count": null,
   "id": "4992614d-68b3-41ca-b1d5-61a35b7b5c7f",
   "metadata": {},
   "outputs": [],
   "source": [
    "frase = input(\"Digite uma frase: \")\n",
    "print(frase.upper())"
   ]
  },
  {
   "cell_type": "markdown",
   "id": "69690c11-9da0-47fb-8b8d-e1fb5614d243",
   "metadata": {},
   "source": [
    "17. Crie um código que solicite uma frase à pessoa usuária e imprima a mesma frase digitada mas com todas as letras minúsculas."
   ]
  },
  {
   "cell_type": "code",
   "execution_count": null,
   "id": "1d8455c1-1cbc-4741-94b7-529b04d8ec19",
   "metadata": {},
   "outputs": [],
   "source": [
    "frase = input(\"Digite uma frase: \")\n",
    "print(frase.lower())"
   ]
  },
  {
   "cell_type": "markdown",
   "id": "f52ce934-fbb9-495d-8a1d-66a7f2a71e9c",
   "metadata": {},
   "source": [
    "18. Crie uma variável chamada “frase” e atribua a ela uma string de sua escolha. Em seguida, imprima a frase sem espaços em branco no início e no fim."
   ]
  },
  {
   "cell_type": "code",
   "execution_count": null,
   "id": "d50bd22f-fe8d-4f3f-9e19-89f7ea5155dc",
   "metadata": {},
   "outputs": [],
   "source": [
    "frase = \"    Uma frase qualquer   \"\n",
    "print(frase.strip())"
   ]
  },
  {
   "cell_type": "markdown",
   "id": "2e99fdef-b6d8-44c1-bbf6-e5bf6f5386dc",
   "metadata": {},
   "source": [
    "19. Crie um código que solicite uma frase à pessoa usuária e imprima a mesma frase sem espaços em branco no início e no fim."
   ]
  },
  {
   "cell_type": "code",
   "execution_count": null,
   "id": "55424ddc-f7c6-4cab-94e3-4ec47409faa0",
   "metadata": {},
   "outputs": [],
   "source": [
    "frase = input(\"Digite uma frase: \")\n",
    "print(frase.strip())"
   ]
  },
  {
   "cell_type": "markdown",
   "id": "a6818754-b2cd-4dbc-b257-7af7ec5f01df",
   "metadata": {},
   "source": [
    "20. Crie um código que solicite uma frase à pessoa usuária e imprima a mesma frase sem espaços em branco no início e no fim e em letras minúsculas."
   ]
  },
  {
   "cell_type": "code",
   "execution_count": null,
   "id": "66f07397-03f0-4ce5-9d41-90be59b3cc4b",
   "metadata": {},
   "outputs": [],
   "source": [
    "frase = input(\"Digite uma frase: \")\n",
    "print(frase.strip().lower())"
   ]
  },
  {
   "cell_type": "markdown",
   "id": "1b2ccb7c-97cd-44e2-9f31-28f1f1965099",
   "metadata": {},
   "source": [
    "21. Crie um código que solicite uma frase à pessoa usuária e imprima a mesma frase com todas as vogais “e” trocadas pela letra “f”."
   ]
  },
  {
   "cell_type": "code",
   "execution_count": null,
   "id": "b1e1a650-47c8-47f2-9f43-5d9fee7c43f1",
   "metadata": {},
   "outputs": [],
   "source": [
    "frase = input(\"Digite uma frase: \")\n",
    "print(frase.replace('e', 'f').replace('E', 'F'))"
   ]
  },
  {
   "cell_type": "markdown",
   "id": "3c6c4cd4-58a7-4863-b65f-d11011199c87",
   "metadata": {},
   "source": [
    "22. Crie um código que solicite uma frase à pessoa usuária e imprima a mesma frase com todas as vogais “a” trocadas pelo caractere “@”."
   ]
  },
  {
   "cell_type": "code",
   "execution_count": null,
   "id": "796e04e6-02f1-4adf-88cc-bb068a0d91ba",
   "metadata": {},
   "outputs": [],
   "source": [
    "frase = input(\"Digite uma frase: \")\n",
    "print(frase.replace('a', '@').replace('A', '@'))"
   ]
  },
  {
   "cell_type": "markdown",
   "id": "5631ed56-d440-4231-a376-537287de07c8",
   "metadata": {},
   "source": [
    "23. Crie um código que solicite uma frase à pessoa usuária e imprima a mesma frase com todas as consoantes “s” trocadas pelo caractere “$”."
   ]
  },
  {
   "cell_type": "code",
   "execution_count": null,
   "id": "2915ff17-b8bb-4651-a149-f0771a43f6f1",
   "metadata": {},
   "outputs": [],
   "source": [
    "frase = input(\"Digite uma frase: \")\n",
    "print(frase.replace('s', '$').replace('S', '$'))"
   ]
  },
  {
   "cell_type": "markdown",
   "id": "38f5834f-aa78-4f49-a529-856b6ca4979f",
   "metadata": {},
   "source": [
    "### Aula 3"
   ]
  },
  {
   "cell_type": "markdown",
   "id": "8e68ac9d-5118-4ef6-8b85-c9a11145330c",
   "metadata": {},
   "source": [
    "1. Escreva um programa que peça à pessoa usuária para fornecer dois números e exibir o número maior."
   ]
  },
  {
   "cell_type": "code",
   "execution_count": null,
   "id": "107a3ccc-ae5b-478b-a022-5fdd3fc0a6f9",
   "metadata": {},
   "outputs": [],
   "source": [
    "a = float(input(\"Digite um número: \"))\n",
    "b = float(input(\"Digite outro número: \"))\n",
    "\n",
    "if a > b: \n",
    "    print(\"O número\", a, \"é maior que\", b)\n",
    "else:\n",
    "    print(\"O número\", b, \"é maior que\", a)"
   ]
  },
  {
   "cell_type": "markdown",
   "id": "600f7c59-90f3-4133-9709-1629b0088e84",
   "metadata": {},
   "source": [
    "2. Escreva um programa que solicite o percentual de crescimento de produção de uma empresa e informe se houve um crescimento (porcentagem positiva) ou decrescimento (porcentagem negativa)."
   ]
  },
  {
   "cell_type": "code",
   "execution_count": null,
   "id": "699afd8b-5ae9-46ca-992a-4515c3d61e8d",
   "metadata": {},
   "outputs": [],
   "source": [
    "percentual_crescimento = float(input(\"Digite o percentual de crescimento de produção da empresa: \"))\n",
    "\n",
    "if percentual_crescimento > 0:\n",
    "    print(\"Houve um crescimento na produção.\")\n",
    "elif percentual_crescimento < 0:\n",
    "    print(\"Houve um decrescimento na produção.\")\n",
    "else:\n",
    "    print(\"A produção não apresentou crescimento ou decrescimento.\")"
   ]
  },
  {
   "cell_type": "markdown",
   "id": "e07e070e-ffe5-40ed-8dee-bcecc9384fe9",
   "metadata": {},
   "source": [
    "3. Escreva um programa que determine se uma letra fornecida pela pessoa usuária é uma vogal ou consoante."
   ]
  },
  {
   "cell_type": "code",
   "execution_count": null,
   "id": "afaff68f-1ec8-4748-b569-01bccdb73dca",
   "metadata": {},
   "outputs": [],
   "source": [
    "letra = input(\"Digite uma letra: \").lower()\n",
    "\n",
    "if letra in 'aeiou':\n",
    "    print(f\"A letra '{letra}' é uma vogal.\")\n",
    "elif letra.isalpha():\n",
    "    print(f\"A letra '{letra}' é uma consoante.\")\n",
    "else:\n",
    "    print(\"Por favor, digite uma única letra do alfabeto.\")"
   ]
  },
  {
   "cell_type": "markdown",
   "id": "f9ee7345-ea4c-4616-a541-62582837dde3",
   "metadata": {},
   "source": [
    "4. Escreva um programa que leia valores médios de preços de um modelo de carro por 3 anos consecutivos e exiba o valor mais alto e mais baixo entre esses três anos."
   ]
  },
  {
   "cell_type": "code",
   "execution_count": null,
   "id": "a428ae38-bbba-4c5f-b3fd-712208d6eb68",
   "metadata": {},
   "outputs": [],
   "source": [
    "preco_ano1 = float(input(\"Digite o valor médio do preço do carro no primeiro ano: \"))\n",
    "preco_ano2 = float(input(\"Digite o valor médio do preço do carro no segundo ano: \"))\n",
    "preco_ano3 = float(input(\"Digite o valor médio do preço do carro no terceiro ano: \"))\n",
    "\n",
    "precos = [preco_ano1, preco_ano2, preco_ano3]\n",
    "\n",
    "valor_mais_alto = max(precos)\n",
    "valor_mais_baixo = min(precos)\n",
    "\n",
    "print(f\"O valor mais alto entre os três anos é: R$ {valor_mais_alto:.2f}\")\n",
    "print(f\"O valor mais baixo entre os três anos é: R$ {valor_mais_baixo:.2f}\")"
   ]
  },
  {
   "cell_type": "markdown",
   "id": "dcf28aef-d736-433b-9b06-3711cf332b1a",
   "metadata": {},
   "source": [
    "5. Escreva um programa que pergunte sobre o preço de três produtos e indique qual é o produto mais barato para comprar."
   ]
  },
  {
   "cell_type": "code",
   "execution_count": null,
   "id": "4dcbb6f5-ae36-496b-aaaf-e5e638b42328",
   "metadata": {},
   "outputs": [],
   "source": [
    "preco_produto1 = float(input(\"Digite o preço do primeiro produto: R$ \"))\n",
    "preco_produto2 = float(input(\"Digite o preço do segundo produto: R$ \"))\n",
    "preco_produto3 = float(input(\"Digite o preço do terceiro produto: R$ \"))\n",
    "\n",
    "if preco_produto1 < preco_produto2 and preco_produto1 < preco_produto3:\n",
    "    produto_mais_barato = \"primeiro\"\n",
    "    preco_mais_barato = preco_produto1\n",
    "elif preco_produto2 < preco_produto1 and preco_produto2 < preco_produto3:\n",
    "    produto_mais_barato = \"segundo\"\n",
    "    preco_mais_barato = preco_produto2\n",
    "else:\n",
    "    produto_mais_barato = \"terceiro\"\n",
    "    preco_mais_barato = preco_produto3\n",
    "\n",
    "print(f\"O produto mais barato é o {produto_mais_barato} produto, que custa R$ {preco_mais_barato:.2f}.\")"
   ]
  },
  {
   "cell_type": "markdown",
   "id": "a640dd41-65a3-4c33-b876-2e4a3853a004",
   "metadata": {},
   "source": [
    "6. Escreva um programa que leia três números e os exiba em ordem decrescente."
   ]
  },
  {
   "cell_type": "code",
   "execution_count": null,
   "id": "bbd3447a-60a2-401c-9944-eab8be881e06",
   "metadata": {},
   "outputs": [],
   "source": [
    "num1 = float(input(\"Digite o primeiro número: \"))\n",
    "num2 = float(input(\"Digite o segundo número: \"))\n",
    "num3 = float(input(\"Digite o terceiro número: \"))\n",
    "\n",
    "numeros = [num1, num2, num3]\n",
    "\n",
    "numeros.sort(reverse=True)\n",
    "\n",
    "print(\"Os números em ordem decrescente são:\", numeros)"
   ]
  },
  {
   "cell_type": "markdown",
   "id": "ee15b04d-abbf-4944-bf06-27b0fda0ae11",
   "metadata": {},
   "source": [
    "7. Escreva um programa que pergunte em qual turno a pessoa usuária estuda (\"manhã\", \"tarde\" ou \"noite\") e exiba a mensagem \"Bom Dia!\", \"Boa Tarde!\", \"Boa Noite!\", ou \"Valor Inválido!\", conforme o caso."
   ]
  },
  {
   "cell_type": "code",
   "execution_count": null,
   "id": "c4ff15c2-49b8-4898-9b71-16ec70508060",
   "metadata": {},
   "outputs": [],
   "source": [
    "turno = input(\"Em qual turno você estuda? (manhã, tarde, noite): \").strip().lower()\n",
    "\n",
    "if turno == \"manhã\":\n",
    "    print(\"Bom Dia!\")\n",
    "elif turno == \"tarde\":\n",
    "    print(\"Boa Tarde!\")\n",
    "elif turno == \"noite\":\n",
    "    print(\"Boa Noite!\")\n",
    "else:\n",
    "    print(\"Valor Inválido!\")"
   ]
  },
  {
   "cell_type": "markdown",
   "id": "340b5a2a-4f18-45fa-86a3-1494c1b20096",
   "metadata": {},
   "source": [
    "8. Escreva um programa que peça um número inteiro à pessoa usuária e determine se ele é par ou ímpar. Dica: Você pode utilizar o operador módulo %."
   ]
  },
  {
   "cell_type": "code",
   "execution_count": null,
   "id": "0bbc0108-adb5-478f-ab31-a0d1496557d9",
   "metadata": {},
   "outputs": [],
   "source": [
    "numero = int(input(\"Digite um número inteiro: \"))\n",
    "\n",
    "if numero % 2 == 0:\n",
    "    print(f\"O número {numero} é par.\")\n",
    "else:\n",
    "    print(f\"O número {numero} é ímpar.\")"
   ]
  },
  {
   "cell_type": "markdown",
   "id": "781887a0-904a-4b37-a8e9-8387eed07fea",
   "metadata": {},
   "source": [
    "9. Escreva um programa que peça um número à pessoa usuária e informe se ele é inteiro ou decimal."
   ]
  },
  {
   "cell_type": "code",
   "execution_count": null,
   "id": "a88cd77e-0277-4291-9740-b1ee06375c84",
   "metadata": {},
   "outputs": [],
   "source": [
    "numero = input(\"Digite um número: \")\n",
    "\n",
    "try:\n",
    "    numero_float = float(numero)\n",
    "    \n",
    "    # Verifica se o número é inteiro ou decimal\n",
    "    if numero_float.is_integer():\n",
    "        print(f\"O número {numero_float} é inteiro.\")\n",
    "    else:\n",
    "        print(f\"O número {numero_float} é decimal.\")\n",
    "except ValueError:\n",
    "    print(\"Valor inválido! Por favor, digite um número válido.\")"
   ]
  },
  {
   "cell_type": "markdown",
   "id": "0f55d362-b387-4521-9ca7-5a93a6d77bf1",
   "metadata": {},
   "source": [
    "10. Um programa deve ser escrito para ler dois números e, em seguida, perguntar à pessoa usuária qual operação ele deseja realizar. O resultado da operação deve incluir informações sobre o número - se é par ou ímpar, positivo ou negativo e inteiro ou decimal."
   ]
  },
  {
   "cell_type": "code",
   "execution_count": null,
   "id": "58661631-b73a-4105-ba96-f3f6e2733510",
   "metadata": {},
   "outputs": [],
   "source": [
    "# Função para verificar se o número é par ou ímpar\n",
    "def par_ou_impar(numero):\n",
    "    if numero % 2 == 0:\n",
    "        return \"par\"\n",
    "    else:\n",
    "        return \"ímpar\"\n",
    "\n",
    "# Função para verificar se o número é positivo ou negativo\n",
    "def positivo_ou_negativo(numero):\n",
    "    if numero > 0:\n",
    "        return \"positivo\"\n",
    "    elif numero < 0:\n",
    "        return \"negativo\"\n",
    "    else:\n",
    "        return \"zero\"\n",
    "\n",
    "# Função para verificar se o número é inteiro ou decimal\n",
    "def inteiro_ou_decimal(numero):\n",
    "    if numero.is_integer():\n",
    "        return \"inteiro\"\n",
    "    else:\n",
    "        return \"decimal\"\n",
    "\n",
    "# Solicita dois números à pessoa usuária\n",
    "num1 = float(input(\"Digite o primeiro número: \"))\n",
    "num2 = float(input(\"Digite o segundo número: \"))\n",
    "\n",
    "# Solicita a operação desejada\n",
    "operacao = input(\"Digite a operação desejada (+, -, *, /): \")\n",
    "\n",
    "# Realiza a operação e calcula o resultado\n",
    "if operacao == \"+\":\n",
    "    resultado = num1 + num2\n",
    "elif operacao == \"-\":\n",
    "    resultado = num1 - num2\n",
    "elif operacao == \"*\":\n",
    "    resultado = num1 * num2\n",
    "elif operacao == \"/\":\n",
    "    if num2 != 0:\n",
    "        resultado = num1 / num2\n",
    "    else:\n",
    "        print(\"Erro: Divisão por zero não é permitida.\")\n",
    "        exit()\n",
    "else:\n",
    "    print(\"Operação inválida.\")\n",
    "    exit()\n",
    "\n",
    "# Verifica as características do resultado\n",
    "par_impar = par_ou_impar(resultado)\n",
    "positivo_negativo = positivo_ou_negativo(resultado)\n",
    "inteiro_decimal = inteiro_ou_decimal(resultado)\n",
    "\n",
    "# Exibe o resultado da operação e suas características\n",
    "print(f\"O resultado da operação é: {resultado}\")\n",
    "print(f\"Este número é {par_impar}, {positivo_negativo} e {inteiro_decimal}.\")"
   ]
  },
  {
   "cell_type": "markdown",
   "id": "089f9f18-dd13-4a36-9615-5822cc212d50",
   "metadata": {},
   "source": [
    "11. Escreva um programa que peça à pessoa usuária três números que representam os lados de um triângulo. O programa deve informar se os valores podem ser utilizados para formar um triângulo e, caso afirmativo, se ele é equilátero, isósceles ou escaleno. Tenha em mente algumas dicas:\n",
    "\n",
    "- Três lados formam um triângulo quando a soma de quaisquer dois lados for maior que o terceiro\n",
    "- Triângulo Equilátero: três lados iguais\n",
    "- Triângulo Isósceles: quaisquer dois lados iguais\n",
    "- Triângulo Escaleno: três lados diferentes."
   ]
  },
  {
   "cell_type": "code",
   "execution_count": null,
   "id": "9bccb8b7-83c5-4475-ab9d-4876736c9336",
   "metadata": {},
   "outputs": [],
   "source": [
    "# Função para verificar se os valores podem formar um triângulo\n",
    "def forma_triangulo(a, b, c):\n",
    "    return a + b > c and a + c > b and b + c > a\n",
    "\n",
    "# Função para determinar o tipo de triângulo\n",
    "def tipo_triangulo(a, b, c):\n",
    "    if a == b == c:\n",
    "        return \"equilátero\"\n",
    "    elif a == b or a == c or b == c:\n",
    "        return \"isósceles\"\n",
    "    else:\n",
    "        return \"escaleno\"\n",
    "\n",
    "# Solicita os três números à pessoa usuária\n",
    "lado1 = float(input(\"Digite o valor do primeiro lado do triângulo: \"))\n",
    "lado2 = float(input(\"Digite o valor do segundo lado do triângulo: \"))\n",
    "lado3 = float(input(\"Digite o valor do terceiro lado do triângulo: \"))\n",
    "\n",
    "# Verifica se os valores podem formar um triângulo\n",
    "if forma_triangulo(lado1, lado2, lado3):\n",
    "    # Determina e exibe o tipo de triângulo\n",
    "    tipo = tipo_triangulo(lado1, lado2, lado3)\n",
    "    print(f\"Os valores fornecidos formam um triângulo {tipo}.\")\n",
    "else:\n",
    "    print(\"Os valores fornecidos não podem formar um triângulo.\")"
   ]
  },
  {
   "cell_type": "markdown",
   "id": "cb2220ee-8193-40a0-932a-5307af4389e1",
   "metadata": {},
   "source": [
    "12. Um estabelecimento está vendendo combustíveis com descontos variados. Para o etanol, se a quantidade comprada for até 15 litros, o desconto será de 2% por litro. Caso contrário, será de 4% por litro. Para o diesel, se a quantidade comprada for até 15 litros, o desconto será de 3% por litro. Caso contrário, será de 5% por litro. O preço do litro de diesel é 2,00 e o preço do litro de etanol é 1,70. Escreva um programa que leia a quantidade de litros vendidos e o tipo de combustível (E para etanol e D para diesel) e calcule o valor a ser pago pelo cliente. Tenha em mente algumas dicas:\n",
    "\n",
    "- O do valor do desconto será a multiplicação entre preço do litro, quantidade de litros e o valor do desconto.\n",
    "- O valor a ser pago por um cliente será o resultado da multiplicação do preço do litro pela quantidade de litros menos o valor de desconto resultante do cálculo."
   ]
  },
  {
   "cell_type": "code",
   "execution_count": null,
   "id": "d4019940-6094-4b52-a07e-91f404fd4fd5",
   "metadata": {},
   "outputs": [],
   "source": [
    "# Define os preços dos combustíveis\n",
    "preco_etanol = 1.70\n",
    "preco_diesel = 2.00\n",
    "\n",
    "# Solicita a quantidade de litros e o tipo de combustível\n",
    "quantidade_litros = float(input(\"Digite a quantidade de litros comprados: \"))\n",
    "tipo_combustivel = input(\"Digite o tipo de combustível (E para etanol, D para diesel): \").strip().upper()\n",
    "\n",
    "# Calcula o valor a ser pago com base no tipo de combustível e quantidade comprada\n",
    "if tipo_combustivel == 'E':\n",
    "    if quantidade_litros <= 15:\n",
    "        desconto = 0.02\n",
    "    else:\n",
    "        desconto = 0.04\n",
    "    preco_por_litro = preco_etanol\n",
    "elif tipo_combustivel == 'D':\n",
    "    if quantidade_litros <= 15:\n",
    "        desconto = 0.03\n",
    "    else:\n",
    "        desconto = 0.05\n",
    "    preco_por_litro = preco_diesel\n",
    "else:\n",
    "    print(\"Tipo de combustível inválido!\")\n",
    "    exit()\n",
    "\n",
    "# Calcula o valor do desconto\n",
    "valor_desconto = preco_por_litro * quantidade_litros * desconto\n",
    "\n",
    "# Calcula o valor total a ser pago\n",
    "valor_total = (preco_por_litro * quantidade_litros) - valor_desconto\n",
    "\n",
    "# Exibe o valor a ser pago\n",
    "print(f\"O valor a ser pago pelo cliente é: R$ {valor_total:.2f}\")"
   ]
  },
  {
   "cell_type": "markdown",
   "id": "6523b6af-9445-4a0a-8a6b-48dea7642397",
   "metadata": {},
   "source": [
    "13. Em uma empresa de venda de imóveis você precisa criar um código que analise os dados de vendas anuais para ajudar a diretoria na tomada de decisão. O código precisa coletar os dados de quantidade de venda durante os anos de 2022 e 2023 e fazer um cálculo de variação percentual. A partir do valor da variação, deve ser enviada às seguintes sugestões:\n",
    "\n",
    "- Para variação acima de 20%: bonificação para o time de vendas.\n",
    "- Para variação entre 2% e 20%: pequena bonificação para time de vendas.\n",
    "- Para variação entre 2% e -10%: planejamento de políticas de incentivo às vendas.\n",
    "- Para bonificações abaixo de -10%: corte de gastos."
   ]
  },
  {
   "cell_type": "code",
   "execution_count": null,
   "id": "f7f78c20-7e48-4450-a43b-116e9dce9b22",
   "metadata": {},
   "outputs": [],
   "source": [
    "# Solicita a quantidade de vendas para os anos de 2022 e 2023\n",
    "vendas_2022 = int(input(\"Digite a quantidade de vendas em 2022: \"))\n",
    "vendas_2023 = int(input(\"Digite a quantidade de vendas em 2023: \"))\n",
    "\n",
    "# Calcula a variação percentual\n",
    "variacao_percentual = ((vendas_2023 - vendas_2022) / vendas_2022) * 100\n",
    "\n",
    "# Determina a sugestão baseada na variação percentual\n",
    "if variacao_percentual > 20:\n",
    "    sugestao = \"Bonificação para o time de vendas.\"\n",
    "elif 2 < variacao_percentual <= 20:\n",
    "    sugestao = \"Pequena bonificação para o time de vendas.\"\n",
    "elif -10 <= variacao_percentual <= 2:\n",
    "    sugestao = \"Planejamento de políticas de incentivo às vendas.\"\n",
    "else:\n",
    "    sugestao = \"Corte de gastos.\"\n",
    "\n",
    "# Exibe a variação percentual e a sugestão\n",
    "print(f\"Variação percentual das vendas: {variacao_percentual:.2f}%\")\n",
    "print(f\"Sugestão: {sugestao}\")"
   ]
  },
  {
   "cell_type": "markdown",
   "id": "033f33d6-ca69-47e7-b4f0-4975107498d2",
   "metadata": {},
   "source": [
    "### Aula 4"
   ]
  },
  {
   "cell_type": "markdown",
   "id": "fa220dca-cfad-4afe-bbf4-7c1021cc6482",
   "metadata": {},
   "source": [
    "1. Escreva um programa que peça dois números inteiros e imprima todos os números inteiros entre eles."
   ]
  },
  {
   "cell_type": "code",
   "execution_count": null,
   "id": "7ed620c4-1e65-4abc-8b30-bb29be322889",
   "metadata": {},
   "outputs": [],
   "source": [
    "# Input do usuário \n",
    "a = int(input(\"Digite um número inteiro: \"))\n",
    "b = int(input(\"Digite outro número inteiro: \"))\n",
    "\n",
    "# Condição de ordem\n",
    "if a > b:\n",
    "    # Loop excluindo a e b\n",
    "    for n in range(b + 1, a):\n",
    "        print(n)\n",
    "elif a < b:\n",
    "    for n in range(a + 1, b):\n",
    "        print(n)\n",
    "else:\n",
    "    print(\"Os números são iguais\")"
   ]
  },
  {
   "cell_type": "markdown",
   "id": "d979fb10-8f39-41de-a4ef-73882165fe53",
   "metadata": {},
   "source": [
    "2. Escreva um programa para calcular quantos dias levará para a colônia de uma bactéria A ultrapassar ou igualar a colônia de uma bactéria B, com base nas taxas de crescimento de 3% e 1,5% respectivamente. Considere que a colônia A inicia com 4 elementos e a B com 10."
   ]
  },
  {
   "cell_type": "code",
   "execution_count": null,
   "id": "29eec4af-bae0-414f-af82-df67aa96a16e",
   "metadata": {},
   "outputs": [],
   "source": [
    "# Variaveis iniciais\n",
    "a = 4\n",
    "b = 10\n",
    "dias = 0 \n",
    "\n",
    "while a < b:\n",
    "    # Calcula as taxas de crescimento de a e b\n",
    "    taxa_a = 0.03*a\n",
    "    taxa_b = 0.015*b\n",
    "    # Soma as taxas a a e b\n",
    "    a += taxa_a\n",
    "    b += taxa_b\n",
    "    # Soma 1 dia até que a = b\n",
    "    dias += 1\n",
    "\n",
    "print(\"O número de dias para bactéria A ultrapassar ou igualar a B é igual a\", dias, \"dias\")"
   ]
  },
  {
   "cell_type": "markdown",
   "id": "f72f3e8a-7971-4182-89e1-b941c8fb741f",
   "metadata": {},
   "source": [
    "3. Para tratar uma quantidade de 15 dados de avaliações de pessoas usuárias de um serviço da empresa, precisamos verificar se as notas são válidas. Então, escreva um programa que vai receber a nota de 0 a 5 de todos os dados e verificar se é um valor válido. Caso seja inserido uma nota acima de 5 ou abaixo de 0, repita até que a pessoa usuária insira um valor válido."
   ]
  },
  {
   "cell_type": "code",
   "execution_count": null,
   "id": "3c2713f8-b6e7-46c8-b55f-d8d590da78e8",
   "metadata": {},
   "outputs": [],
   "source": [
    "verifica = True\n",
    "\n",
    "while verifica:\n",
    "    avaliacao = float(input(\"Digite a nota de avaliação entre 0 e 5: \"))\n",
    "    if avaliacao >= 0 and avaliacao <= 5: \n",
    "        verifica = False"
   ]
  },
  {
   "cell_type": "markdown",
   "id": "f090e315-34fc-48c2-831d-f756ebdc3ca0",
   "metadata": {},
   "source": [
    "4. Desenvolva um programa que leia um conjunto indeterminado de temperaturas em Celsius e informe a média delas. A leitura deve ser encerrada ao ser enviado o valor -273°C."
   ]
  },
  {
   "cell_type": "code",
   "execution_count": null,
   "id": "30c5c8a5-f162-4526-a3e4-2b41bbdd0e2b",
   "metadata": {},
   "outputs": [],
   "source": [
    "# Inicializa uma lista para armazenar as temperaturas\n",
    "temperaturas = []\n",
    "\n",
    "# Loop para ler as temperaturas até que seja inserido o valor -273°C\n",
    "while True:\n",
    "    temperatura = float(input(\"Digite uma temperatura em Celsius (ou -273 para encerrar): \"))\n",
    "    \n",
    "    if temperatura == -273:\n",
    "        break\n",
    "    \n",
    "    temperaturas.append(temperatura)\n",
    "\n",
    "# Calcula a média das temperaturas, se houverem valores na lista\n",
    "if temperaturas:\n",
    "    media_temperaturas = sum(temperaturas) / len(temperaturas)\n",
    "    print(f\"A média das temperaturas é: {media_temperaturas:.2f}°C\")\n",
    "else:\n",
    "    print(\"Nenhuma temperatura válida foi inserida.\")"
   ]
  },
  {
   "cell_type": "markdown",
   "id": "070dc7ca-6669-4a29-9112-42b48db24947",
   "metadata": {},
   "source": [
    "5. Escreva um programa que calcule o fatorial de um número inteiro fornecido pela pessoa usuária. Lembrando que o fatorial de um número inteiro é a multiplicação desse número por todos os seus antecessores até o número 1. Por exemplo, o fatorial de 5 é 5 x 4 x 3 x 2 x 1 = 120."
   ]
  },
  {
   "cell_type": "code",
   "execution_count": null,
   "id": "4d16f7af-9bf5-4272-96f5-1259c9cc840a",
   "metadata": {},
   "outputs": [],
   "source": [
    "# Solicita um número inteiro à pessoa usuária\n",
    "numero = int(input(\"Digite um número inteiro para calcular seu fatorial: \"))\n",
    "\n",
    "# Inicializa a variável para armazenar o resultado do fatorial\n",
    "fatorial = 1\n",
    "\n",
    "# Verifica se o número é negativo, zero ou positivo\n",
    "if numero < 0:\n",
    "    print(\"Fatorial não é definido para números negativos.\")\n",
    "elif numero == 0:\n",
    "    print(\"O fatorial de 0 é 1.\")\n",
    "else:\n",
    "    # Calcula o fatorial\n",
    "    for i in range(1, numero + 1):\n",
    "        fatorial *= i\n",
    "    # Exibe o resultado\n",
    "    print(f\"O fatorial de {numero} é {fatorial}.\")"
   ]
  },
  {
   "cell_type": "markdown",
   "id": "d1356828-a575-4ffc-b218-8cfc34c98941",
   "metadata": {},
   "source": [
    "6. Escreva um programa que gere a tabuada de um número inteiro de 1 a 10, de acordo com a escolha da pessoa usuária. Como exemplo, para o número 2, a tabuada deve ser mostrada no seguinte formato:"
   ]
  },
  {
   "cell_type": "code",
   "execution_count": null,
   "id": "9129c7aa-1c90-4f3f-8374-b53047a44c8d",
   "metadata": {},
   "outputs": [],
   "source": [
    "# Solicita um número inteiro entre 1 e 10 à pessoa usuária\n",
    "numero = int(input(\"Digite um número inteiro entre 1 e 10 para ver a tabuada: \"))\n",
    "\n",
    "# Verifica se o número está no intervalo válido\n",
    "if 1 <= numero <= 10:\n",
    "    # Gera e exibe a tabuada do número\n",
    "    print(f\"Tabuada do {numero}:\")\n",
    "    for i in range(1, 11):\n",
    "        resultado = numero * i\n",
    "        print(f\"{numero} x {i} = {resultado}\")\n",
    "else:\n",
    "    print(\"Por favor, digite um número inteiro entre 1 e 10.\")"
   ]
  },
  {
   "cell_type": "markdown",
   "id": "ca62269e-8525-445e-96c5-8ef9f925befc",
   "metadata": {},
   "source": [
    "7. Os números primos possuem várias aplicações dentro da Ciência de Dados em criptografia e segurança, por exemplo. Um número primo é aquele que é divisível apenas por um e por ele mesmo. Assim, faça um programa que peça um número inteiro e determine se ele é ou não um número primo."
   ]
  },
  {
   "cell_type": "code",
   "execution_count": null,
   "id": "095fca1e-8dc6-4eec-9111-5147c1e1b207",
   "metadata": {},
   "outputs": [],
   "source": [
    "# Solicita um número inteiro à pessoa usuária\n",
    "numero = int(input(\"Digite um número inteiro para verificar se é primo: \"))\n",
    "\n",
    "# Verifica se o número é menor ou igual a 1\n",
    "if numero <= 1:\n",
    "    print(f\"{numero} não é um número primo.\")\n",
    "else:\n",
    "    # Inicializa uma variável para indicar se o número é primo\n",
    "    eh_primo = True\n",
    "    \n",
    "    # Verifica se o número tem divisores além de 1 e ele mesmo\n",
    "    for i in range(2, int(numero**0.5) + 1):\n",
    "        if numero % i == 0:\n",
    "            eh_primo = False\n",
    "            break\n",
    "    \n",
    "    # Exibe o resultado\n",
    "    if eh_primo:\n",
    "        print(f\"{numero} é um número primo.\")\n",
    "    else:\n",
    "        print(f\"{numero} não é um número primo.\")"
   ]
  },
  {
   "cell_type": "code",
   "execution_count": null,
   "id": "96f10fe5-f59f-4c80-a211-8ed2a00e9c7c",
   "metadata": {},
   "outputs": [],
   "source": [
    "# Inicializa os contadores para os intervalos de idades\n",
    "intervalo_0_25 = 0\n",
    "intervalo_26_50 = 0\n",
    "intervalo_51_75 = 0\n",
    "intervalo_76_100 = 0\n",
    "\n",
    "# Loop para ler as idades até que seja inserido um número negativo\n",
    "while True:\n",
    "    idade = int(input(\"Digite a idade do cliente (ou um número negativo para encerrar): \"))\n",
    "    \n",
    "    if idade < 0:\n",
    "        break\n",
    "    \n",
    "    # Incrementa o contador apropriado com base na idade fornecida\n",
    "    if 0 <= idade <= 25:\n",
    "        intervalo_0_25 += 1\n",
    "    elif 26 <= idade <= 50:\n",
    "        intervalo_26_50 += 1\n",
    "    elif 51 <= idade <= 75:\n",
    "        intervalo_51_75 += 1\n",
    "    elif 76 <= idade <= 100:\n",
    "        intervalo_76_100 += 1\n",
    "\n",
    "# Exibe a distribuição das idades nos intervalos\n",
    "print(\"Distribuição das idades dos clientes:\")\n",
    "print(f\"[0-25]: {intervalo_0_25} cliente(s)\")\n",
    "print(f\"[26-50]: {intervalo_26_50} cliente(s)\")\n",
    "print(f\"[51-75]: {intervalo_51_75} cliente(s)\")\n",
    "print(f\"[76-100]: {intervalo_76_100} cliente(s)\")"
   ]
  },
  {
   "cell_type": "markdown",
   "id": "4eb4d54e-6c30-49fa-b0fb-32b57f2c3a26",
   "metadata": {},
   "source": [
    "9. Em uma eleição para gerência em uma empresa com 20 pessoas colaboradoras, existem quatro candidatos(as). Escreva um programa que calcule o(a) vencedor(a) da eleição. A votação ocorreu da seguinte maneira:\n",
    "\n",
    "- Cada colaborador(a) votou em uma das quatro pessoas candidatas (que representamos pelos números 1, 2, 3 e 4).\n",
    "- Também foram contabilizados os votos nulos (representados pelo número 5) e os votos em branco (representados pelo número 6).\n",
    "\n",
    "Ao final da votação, o programa deve exibir o número total de votos para cada candidato(a), os nulos e os votos em branco. Além disso, deve calcular e exibir a porcentagem de votos nulos em relação ao total de votos e a porcentagem de votos em branco em relação ao total de votos."
   ]
  },
  {
   "cell_type": "code",
   "execution_count": null,
   "id": "b2a8b566-0ce6-4e0d-a4e2-8f58de72e1ca",
   "metadata": {},
   "outputs": [],
   "source": [
    "# Inicializa os contadores de votos para cada candidato(a) e para votos nulos e em branco\n",
    "votos_candidato_1 = 0\n",
    "votos_candidato_2 = 0\n",
    "votos_candidato_3 = 0\n",
    "votos_candidato_4 = 0\n",
    "votos_nulos = 0\n",
    "votos_em_branco = 0\n",
    "\n",
    "# Solicita os votos das 20 pessoas colaboradoras\n",
    "for i in range(1, 21):\n",
    "    voto = int(input(f\"Digite o voto do colaborador(a) {i} (1-4 para candidatos, 5 para nulo, 6 para em branco): \"))\n",
    "    \n",
    "    # Incrementa o contador apropriado com base no voto fornecido\n",
    "    if voto == 1:\n",
    "        votos_candidato_1 += 1\n",
    "    elif voto == 2:\n",
    "        votos_candidato_2 += 1\n",
    "    elif voto == 3:\n",
    "        votos_candidato_3 += 1\n",
    "    elif voto == 4:\n",
    "        votos_candidato_4 += 1\n",
    "    elif voto == 5:\n",
    "        votos_nulos += 1\n",
    "    elif voto == 6:\n",
    "        votos_em_branco += 1\n",
    "    else:\n",
    "        print(\"Voto inválido! Por favor, insira um número entre 1 e 6.\")\n",
    "\n",
    "# Calcula o total de votos\n",
    "total_votos = votos_candidato_1 + votos_candidato_2 + votos_candidato_3 + votos_candidato_4 + votos_nulos + votos_em_branco\n",
    "\n",
    "# Calcula as porcentagens de votos nulos e em branco\n",
    "porcentagem_nulos = (votos_nulos / total_votos) * 100\n",
    "porcentagem_em_branco = (votos_em_branco / total_votos) * 100\n",
    "\n",
    "# Exibe o número total de votos para cada candidato(a) e para votos nulos e em branco\n",
    "print(\"\\nResultados da votação:\")\n",
    "print(f\"Candidato(a) 1: {votos_candidato_1} voto(s)\")\n",
    "print(f\"Candidato(a) 2: {votos_candidato_2} voto(s)\")\n",
    "print(f\"Candidato(a) 3: {votos_candidato_3} voto(s)\")\n",
    "print(f\"Candidato(a) 4: {votos_candidato_4} voto(s)\")\n",
    "print(f\"Votos nulos: {votos_nulos}\")\n",
    "print(f\"Votos em branco: {votos_em_branco}\")\n",
    "\n",
    "# Exibe as porcentagens de votos nulos e em branco\n",
    "print(f\"\\nPorcentagem de votos nulos: {porcentagem_nulos:.2f}%\")\n",
    "print(f\"Porcentagem de votos em branco: {porcentagem_em_branco:.2f}%\")\n",
    "\n",
    "# Determina o(a) vencedor(a) da eleição\n",
    "votos = [votos_candidato_1, votos_candidato_2, votos_candidato_3, votos_candidato_4]\n",
    "vencedor = votos.index(max(votos)) + 1\n",
    "\n",
    "print(f\"\\nO(a) vencedor(a) da eleição é o(a) candidato(a) {vencedor}!\")"
   ]
  },
  {
   "cell_type": "markdown",
   "id": "eeed84e4-543c-4db5-bf59-6629179fdde0",
   "metadata": {},
   "source": [
    "### Aula 5"
   ]
  },
  {
   "cell_type": "markdown",
   "id": "93122726-854b-4be2-8c07-b12e0326e861",
   "metadata": {},
   "source": [
    "1. Faça um programa que tenha a seguinte lista contendo os valores de gastos de uma empresa de papel [2172.54, 3701.35, 3518.09, 3456.61, 3249.38, 2840.82, 3891.45, 3075.26, 2317.64, 3219.08]. Com esses valores, faça um programa que calcule a média de gastos. Dica: use as funções built-in sum() e len()."
   ]
  },
  {
   "cell_type": "code",
   "execution_count": null,
   "id": "a3f73b61-b71f-43fb-9d50-fc7d1dd7f1f0",
   "metadata": {},
   "outputs": [],
   "source": [
    "# Lista de gastos da empresa de papel\n",
    "gastos = [2172.54, 3701.35, 3518.09, 3456.61, 3249.38, 2840.82, 3891.45, 3075.26, 2317.64, 3219.08]\n",
    "\n",
    "# Calcula a soma dos gastos\n",
    "total_gastos = sum(gastos)\n",
    "\n",
    "# Calcula a quantidade de valores na lista\n",
    "numero_gastos = len(gastos)\n",
    "\n",
    "# Calcula a média dos gastos\n",
    "media_gastos = total_gastos / numero_gastos\n",
    "\n",
    "# Exibe a média dos gastos\n",
    "print(f\"A média dos gastos da empresa é: R$ {media_gastos:.2f}\")"
   ]
  },
  {
   "cell_type": "markdown",
   "id": "7cc1f17e-1852-4016-91f2-396254b2b1df",
   "metadata": {},
   "source": [
    "2. Com os mesmos dados da questão anterior, defina quantas compras foram realizadas acima de 3000 reais e calcule a porcentagem quanto ao total de compras."
   ]
  },
  {
   "cell_type": "code",
   "execution_count": null,
   "id": "4b15cee5-b01d-4c3d-88f1-7d541c1711c2",
   "metadata": {},
   "outputs": [],
   "source": [
    "# Lista de gastos da empresa de papel\n",
    "gastos = [2172.54, 3701.35, 3518.09, 3456.61, 3249.38, 2840.82, 3891.45, 3075.26, 2317.64, 3219.08]\n",
    "\n",
    "# Conta quantas compras foram realizadas acima de 3000 reais\n",
    "compras_acima_3000 = [gasto for gasto in gastos if gasto > 3000]\n",
    "quantidade_acima_3000 = len(compras_acima_3000)\n",
    "\n",
    "# Calcula o total de compras\n",
    "total_compras = len(gastos)\n",
    "\n",
    "# Calcula a porcentagem de compras acima de 3000 reais\n",
    "porcentagem_acima_3000 = (quantidade_acima_3000 / total_compras) * 100\n",
    "\n",
    "# Exibe a quantidade de compras acima de 3000 reais e a porcentagem\n",
    "print(f\"Quantidade de compras acima de 3000 reais: {quantidade_acima_3000}\")\n",
    "print(f\"Porcentagem de compras acima de 3000 reais: {porcentagem_acima_3000:.2f}%\")"
   ]
  },
  {
   "cell_type": "markdown",
   "id": "1237dddb-d3ae-4b2b-a14f-e970bfe5b5ed",
   "metadata": {},
   "source": [
    "3. Faça um código que colete em uma lista 5 números inteiros quaisquer e imprima a lista. Exemplo: [1,4,7,2,4]."
   ]
  },
  {
   "cell_type": "code",
   "execution_count": null,
   "id": "bd1fec30-4f2c-45e5-a963-52257d823a7c",
   "metadata": {},
   "outputs": [],
   "source": [
    "# Inicializa uma lista vazia para armazenar os números inteiros\n",
    "numeros = []\n",
    "\n",
    "# Coleta 5 números inteiros quaisquer da pessoa usuária\n",
    "for i in range(5):\n",
    "    numero = int(input(f\"Digite o {i+1}º número inteiro: \"))\n",
    "    numeros.append(numero)\n",
    "\n",
    "# Imprime a lista de números inteiros\n",
    "print(\"A lista de números inteiros é:\", numeros)"
   ]
  },
  {
   "cell_type": "markdown",
   "id": "3ef07c8c-4164-4735-bc29-bd6ff9f46365",
   "metadata": {},
   "source": [
    "4. Colete novamente 5 inteiros e imprima a lista em ordem inversa à enviada."
   ]
  },
  {
   "cell_type": "code",
   "execution_count": null,
   "id": "fe24b45b-c4a1-4547-ba0d-28b0ba5fd114",
   "metadata": {},
   "outputs": [],
   "source": [
    "# Inicializa uma lista vazia para armazenar os números inteiros\n",
    "numeros = []\n",
    "\n",
    "# Coleta 5 números inteiros quaisquer da pessoa usuária\n",
    "for i in range(5):\n",
    "    numero = int(input(f\"Digite o {i+1}º número inteiro: \"))\n",
    "    numeros.append(numero)\n",
    "\n",
    "# Imprime a lista de números inteiros em ordem inversa\n",
    "print(\"A lista de números inteiros em ordem inversa é:\", numeros[::-1])"
   ]
  },
  {
   "cell_type": "markdown",
   "id": "2f172501-7c98-49f0-a42e-760f2e1aa449",
   "metadata": {},
   "source": [
    "5. Faça um programa que, ao inserir um número qualquer, cria uma lista contendo todos os números primos entre 1 e o número digitado."
   ]
  },
  {
   "cell_type": "code",
   "execution_count": null,
   "id": "b3cbd7c0-3caf-40d2-98cb-c75783998109",
   "metadata": {},
   "outputs": [],
   "source": [
    "# Função para verificar se um número é primo\n",
    "def eh_primo(numero):\n",
    "    if numero <= 1:\n",
    "        return False\n",
    "    for i in range(2, int(numero ** 0.5) + 1):\n",
    "        if numero % i == 0:\n",
    "            return False\n",
    "    return True\n",
    "\n",
    "# Solicita um número inteiro da pessoa usuária\n",
    "numero = int(input(\"Digite um número inteiro: \"))\n",
    "\n",
    "# Inicializa uma lista para armazenar os números primos\n",
    "primos = []\n",
    "\n",
    "# Itera de 1 até o número digitado e adiciona os números primos à lista\n",
    "for i in range(1, numero + 1):\n",
    "    if eh_primo(i):\n",
    "        primos.append(i)\n",
    "\n",
    "# Imprime a lista de números primos\n",
    "print(\"Os números primos entre 1 e\", numero, \"são:\", primos)"
   ]
  },
  {
   "cell_type": "markdown",
   "id": "13c84214-d0b3-4dc1-8ee2-c8fa7b3b27bb",
   "metadata": {},
   "source": [
    "6. Escreva um programa que peça uma data informando o dia, mês e ano e determine se ela é válida para uma análise."
   ]
  },
  {
   "cell_type": "code",
   "execution_count": null,
   "id": "bb21a189-d838-49a1-8212-490dc5972183",
   "metadata": {},
   "outputs": [],
   "source": [
    "# Função para verificar se um ano é bissexto\n",
    "def eh_bissexto(ano):\n",
    "    if (ano % 4 == 0 and ano % 100 != 0) or (ano % 400 == 0):\n",
    "        return True\n",
    "    return False\n",
    "\n",
    "# Função para verificar se uma data é válida\n",
    "def data_valida(dia, mes, ano):\n",
    "    if ano < 1:\n",
    "        return False\n",
    "    if mes < 1 or mes > 12:\n",
    "        return False\n",
    "    if dia < 1:\n",
    "        return False\n",
    "    # Dias máximos em cada mês\n",
    "    dias_no_mes = [31, 29 if eh_bissexto(ano) else 28, 31, 30, 31, 30, 31, 31, 30, 31, 30, 31]\n",
    "    if dia > dias_no_mes[mes - 1]:\n",
    "        return False\n",
    "    return True\n",
    "\n",
    "# Solicita o dia, mês e ano da pessoa usuária\n",
    "dia = int(input(\"Digite o dia: \"))\n",
    "mes = int(input(\"Digite o mês: \"))\n",
    "ano = int(input(\"Digite o ano: \"))\n",
    "\n",
    "# Verifica se a data é válida\n",
    "if data_valida(dia, mes, ano):\n",
    "    print(\"A data é válida.\")\n",
    "else:\n",
    "    print(\"A data não é válida.\")"
   ]
  },
  {
   "cell_type": "markdown",
   "id": "68d283ae-6197-4cc8-a941-b9a6f4cf4508",
   "metadata": {},
   "source": [
    "7. Para um estudo envolvendo o nível de multiplicação de bactérias em uma colônia, foi coletado o número de bactérias por dia (em milhares) e pode ser observado a seguir: [1.2, 2.1, 3.3, 5.0, 7.8, 11.3, 16.6, 25.1, 37.8, 56.9]. Tendo esses valores, faça um código que gere uma lista contendo o percentual de crescimento de bactérias por dia, comparando o número de bactérias em cada dia com o número de bactérias do dia anterior. Dica: para calcular o percentual de crescimento usamos a seguinte equação: 100 * (amostra_atual - amostra_passada) / (amostra_passada)."
   ]
  },
  {
   "cell_type": "code",
   "execution_count": null,
   "id": "a2412c97-e895-4f1f-8878-3126a24e3856",
   "metadata": {},
   "outputs": [],
   "source": [
    "# Lista com o número de bactérias por dia (em milhares)\n",
    "bacterias = [1.2, 2.1, 3.3, 5.0, 7.8, 11.3, 16.6, 25.1, 37.8, 56.9]\n",
    "\n",
    "# Inicializa uma lista para armazenar os percentuais de crescimento\n",
    "percentuais_crescimento = []\n",
    "\n",
    "# Calcula o percentual de crescimento para cada dia\n",
    "for i in range(1, len(bacterias)):\n",
    "    crescimento = 100 * (bacterias[i] - bacterias[i - 1]) / bacterias[i - 1]\n",
    "    percentuais_crescimento.append(crescimento)\n",
    "\n",
    "# Imprime a lista de percentuais de crescimento\n",
    "print(\"Percentual de crescimento de bactérias por dia:\")\n",
    "print(percentuais_crescimento)"
   ]
  },
  {
   "cell_type": "markdown",
   "id": "24c578ae-223e-4885-a03a-cf3805ec92eb",
   "metadata": {},
   "source": [
    "8. Para uma seleção de produtos alimentícios, precisamos separar o conjunto de IDs dados por números inteiros sabendo que os produtos com ID par são doces e os com ID ímpar são amargos. Monte um código que colete 10 IDs. Depois, calcule e mostre a quantidade de produtos doces e amargos."
   ]
  },
  {
   "cell_type": "code",
   "execution_count": null,
   "id": "4677346b-89e9-4e3a-ad98-84691317370a",
   "metadata": {},
   "outputs": [],
   "source": [
    "# Inicializa contadores para produtos doces e amargos\n",
    "quantidade_doces = 0\n",
    "quantidade_amargos = 0\n",
    "\n",
    "# Coleta 10 IDs de produtos alimentícios\n",
    "for i in range(10):\n",
    "    id_produto = int(input(f\"Digite o ID do produto {i+1}: \"))\n",
    "    \n",
    "    # Verifica se o ID é par ou ímpar e incrementa o contador apropriado\n",
    "    if id_produto % 2 == 0:\n",
    "        quantidade_doces += 1\n",
    "    else:\n",
    "        quantidade_amargos += 1\n",
    "\n",
    "# Exibe a quantidade de produtos doces e amargos\n",
    "print(f\"Quantidade de produtos doces: {quantidade_doces}\")\n",
    "print(f\"Quantidade de produtos amargos: {quantidade_amargos}\")"
   ]
  },
  {
   "cell_type": "markdown",
   "id": "271c679a-97ba-43bc-8a1a-bbce05c8d00b",
   "metadata": {},
   "source": [
    "9. Desenvolva um programa que informa a nota de um(a) aluno(a) de acordo com suas respostas. Ele deve pedir a resposta desse(a) aluno(a) para cada questão e é preciso verificar se a resposta foi igual ao gabarito. Cada questão vale um ponto e existem as alternativas A, B, C ou D.\n",
    "\n",
    "Gabarito da prova:\\\n",
    "01 - D\\\n",
    "02 - A\\\n",
    "03 - C\\\n",
    "04 - B\\\n",
    "05 - A\\\n",
    "06 - D\\\n",
    "07 - C\\\n",
    "08 - C\\\n",
    "09 - A\\\n",
    "10 - B"
   ]
  },
  {
   "cell_type": "code",
   "execution_count": null,
   "id": "9420bf83-5706-42c4-a8af-5e9cdc5e5a72",
   "metadata": {},
   "outputs": [],
   "source": [
    "# Gabarito da prova\n",
    "gabarito = ['D', 'A', 'C', 'B', 'A', 'D', 'C', 'C', 'A', 'B']\n",
    "\n",
    "# Inicializa a pontuação do(a) aluno(a)\n",
    "nota = 0\n",
    "\n",
    "# Solicita as respostas do(a) aluno(a) para cada questão\n",
    "for i in range(10):\n",
    "    resposta = input(f\"Digite a resposta para a questão {i+1} (A, B, C ou D): \").strip().upper()\n",
    "    \n",
    "    # Verifica se a resposta está correta\n",
    "    if resposta == gabarito[i]:\n",
    "        nota += 1\n",
    "\n",
    "# Exibe a nota do(a) aluno(a)\n",
    "print(f\"A nota do(a) aluno(a) é: {nota} de 10.\")"
   ]
  },
  {
   "cell_type": "markdown",
   "id": "f7a300e1-e8b6-4b09-934f-6e7fd7daeb1f",
   "metadata": {},
   "source": [
    "10. Um instituto de meteorologia deseja fazer um estudo de temperatura média de cada mês do ano. Para isso, você precisa fazer um código que colete e armazene essas temperaturas médias em uma lista. Depois, calcule a média anual das temperaturas e mostre todas as temperaturas acima da média anual e em que mês elas ocorreram, mostrando os meses por extenso (Janeiro, Fevereiro, etc.)."
   ]
  },
  {
   "cell_type": "code",
   "execution_count": null,
   "id": "7fddcf65-7cbb-4873-9112-e8af80785340",
   "metadata": {},
   "outputs": [],
   "source": [
    "# Lista dos meses do ano por extenso\n",
    "meses = [\"Janeiro\", \"Fevereiro\", \"Março\", \"Abril\", \"Maio\", \"Junho\",\n",
    "         \"Julho\", \"Agosto\", \"Setembro\", \"Outubro\", \"Novembro\", \"Dezembro\"]\n",
    "\n",
    "# Inicializa uma lista para armazenar as temperaturas médias mensais\n",
    "temperaturas = []\n",
    "\n",
    "# Coleta as temperaturas médias de cada mês do ano\n",
    "for mes in meses:\n",
    "    temperatura = float(input(f\"Digite a temperatura média de {mes}: \"))\n",
    "    temperaturas.append(temperatura)\n",
    "\n",
    "# Calcula a média anual das temperaturas\n",
    "media_anual = sum(temperaturas) / len(temperaturas)\n",
    "\n",
    "# Exibe a média anual das temperaturas\n",
    "print(f\"\\nA média anual das temperaturas é: {media_anual:.2f}°C\")\n",
    "\n",
    "# Exibe as temperaturas acima da média anual e os meses correspondentes\n",
    "print(\"\\nTemperaturas acima da média anual:\")\n",
    "for i in range(len(temperaturas)):\n",
    "    if temperaturas[i] > media_anual:\n",
    "        print(f\"{meses[i]}: {temperaturas[i]:.2f}°C\")"
   ]
  },
  {
   "cell_type": "markdown",
   "id": "d6b34468-49e2-48f8-a391-db34e63257af",
   "metadata": {},
   "source": [
    "11. Uma empresa de e-commerce está interessada em analisar as vendas dos seus produtos. Os dados das vendas foram armazenados em um dicionário:\n",
    "\n",
    "{'Produto A': 300, 'Produto B': 80, 'Produto C': 60,\n",
    " 'Produto D': 200, 'Produto E': 250, 'Produto F': 30}\n",
    "\n",
    "Escreva um código que calcule o total de vendas e o produto mais vendido."
   ]
  },
  {
   "cell_type": "code",
   "execution_count": null,
   "id": "7322fe82-0e53-4079-8f19-121f2d00566c",
   "metadata": {},
   "outputs": [],
   "source": [
    "# Dicionário com os dados das vendas\n",
    "vendas = {\n",
    "    'Produto A': 300,\n",
    "    'Produto B': 80,\n",
    "    'Produto C': 60,\n",
    "    'Produto D': 200,\n",
    "    'Produto E': 250,\n",
    "    'Produto F': 30\n",
    "}\n",
    "\n",
    "# Calcula o total de vendas\n",
    "total_vendas = sum(vendas.values())\n",
    "\n",
    "# Identifica o produto mais vendido\n",
    "produto_mais_vendido = max(vendas, key=vendas.get)\n",
    "\n",
    "# Exibe o total de vendas e o produto mais vendido\n",
    "print(f\"Total de vendas: {total_vendas}\")\n",
    "print(f\"Produto mais vendido: {produto_mais_vendido} com {vendas[produto_mais_vendido]} vendas\")"
   ]
  },
  {
   "cell_type": "markdown",
   "id": "6373b3bc-917e-434d-b435-cb536eece5fc",
   "metadata": {},
   "source": [
    "12. Uma pesquisa de mercado foi feita para decidir qual design de marca infantil mais agrada as crianças. A pesquisa foi feita e o votos computados podem ser observados abaixo:\n",
    "\n",
    "'''\\\n",
    "Tabela de votos da marca\\\n",
    "Design 1 - 1334 votos\\\n",
    "Design 2 - 982 votos\\\n",
    "Design 3 - 1751 votos\\\n",
    "Design 4 - 210 votos\\\n",
    "Design 5 - 1811 votos\\\n",
    "'''\n",
    "\n",
    "Adapte os dados fornecidos para uma estrutura de dicionário. A partir dele, informe o design vencedor e a porcentagem de votos recebidos."
   ]
  },
  {
   "cell_type": "code",
   "execution_count": null,
   "id": "4c06d9de-8bb6-4b9d-90d6-fdb1cf6f76f3",
   "metadata": {},
   "outputs": [],
   "source": [
    "# Dicionário com os dados dos votos\n",
    "votos = {\n",
    "    'Design 1': 1334,\n",
    "    'Design 2': 982,\n",
    "    'Design 3': 1751,\n",
    "    'Design 4': 210,\n",
    "    'Design 5': 1811\n",
    "}\n",
    "\n",
    "# Calcula o total de votos\n",
    "total_votos = sum(votos.values())\n",
    "\n",
    "# Identifica o design vencedor\n",
    "design_vencedor = max(votos, key=votos.get)\n",
    "\n",
    "# Calcula a porcentagem de votos recebidos pelo design vencedor\n",
    "percentual_vencedor = (votos[design_vencedor] / total_votos) * 100\n",
    "\n",
    "# Exibe o design vencedor e a porcentagem de votos recebidos\n",
    "print(f\"Design vencedor: {design_vencedor} com {votos[design_vencedor]} votos\")\n",
    "print(f\"Porcentagem de votos recebidos: {percentual_vencedor:.2f}%\")"
   ]
  },
  {
   "cell_type": "markdown",
   "id": "e6d2b72d-b49e-49f1-96c9-c9533cd6dd12",
   "metadata": {},
   "source": [
    "13. As pessoas colaboradoras de um setor da empresa que você trabalha vão receber um abono correspondente a 10% do salário devido ao ótimo desempenho do time. O setor financeiro solicitou sua ajuda para a verificação das consequências financeiras que esse abono irá gerar nos recursos. Assim, foi encaminhada para você uma lista com os salários que receberão o abono: [1172, 1644, 2617, 5130, 5532, 6341, 6650, 7238, 7685, 7782, 7903]. O abono de cada colaborador(a) não pode ser inferior a 200. Em código, transforme cada um dos salários em chaves de um dicionário e o abono de cada salário no elemento. Depois, informe o total de gastos com o abono, quantos(as) colaboradores(as) receberam o abono mínimo e qual o maior valor de abono fornecido."
   ]
  },
  {
   "cell_type": "code",
   "execution_count": null,
   "id": "5ea74aca-00da-464b-a938-3a6fb21d19f8",
   "metadata": {},
   "outputs": [],
   "source": [
    "# Lista de salários\n",
    "salarios = [1172, 1644, 2617, 5130, 5532, 6341, 6650, 7238, 7685, 7782, 7903]\n",
    "\n",
    "# Inicializa o dicionário para armazenar os abonos\n",
    "abonos = {}\n",
    "\n",
    "# Variáveis para armazenar o total de gastos com abono e a quantidade de colaboradores que receberam o abono mínimo\n",
    "total_abono = 0\n",
    "colaboradores_abono_minimo = 0\n",
    "\n",
    "# Calcula o abono para cada salário e armazena no dicionário\n",
    "for salario in salarios:\n",
    "    abono = max(salario * 0.1, 200)\n",
    "    abonos[salario] = abono\n",
    "    total_abono += abono\n",
    "    if abono == 200:\n",
    "        colaboradores_abono_minimo += 1\n",
    "\n",
    "# Encontra o maior valor de abono fornecido\n",
    "maior_abono = max(abonos.values())\n",
    "\n",
    "# Exibe o total de gastos com o abono, a quantidade de colaboradores que receberam o abono mínimo e o maior valor de abono\n",
    "print(f\"Total de gastos com o abono: R$ {total_abono:.2f}\")\n",
    "print(f\"Quantidade de colaboradores que receberam o abono mínimo: {colaboradores_abono_minimo}\")\n",
    "print(f\"Maior valor de abono fornecido: R$ {maior_abono:.2f}\")"
   ]
  },
  {
   "cell_type": "markdown",
   "id": "a823d993-3a4e-446d-b59c-e7ff266c522b",
   "metadata": {},
   "source": [
    "14. Uma equipe de cientistas de dados está estudando a diversidade biológica em uma floresta. A equipe fez a coleta de informações sobre o número de espécies de plantas e animais em cada área dessa floresta e armazenou essas informações em um dicionário. Nele, a chave descreve a área dos dados e os valores nas listas correspondem às espécies de plantas e animais nas áreas, respectivamente.\n",
    "\n",
    "{'Área Norte': [2819, 7236],\\\n",
    " 'Área Leste': [1440, 9492],\\\n",
    " 'Área Sul': [5969, 7496],\\\n",
    " 'Área Oeste': [14446, 49688],\\\n",
    " 'Área Centro': [22558, 45148]}\n",
    "\n",
    "Escreva um código para calcular a média de espécies por área e identificar a área com a maior diversidade biológica. Dica: use as funções built-in sum() e len()."
   ]
  },
  {
   "cell_type": "code",
   "execution_count": null,
   "id": "fc235ba1-913c-4b79-a6b8-3d30abfe6324",
   "metadata": {},
   "outputs": [],
   "source": [
    "# Dicionário com as informações das espécies por área\n",
    "diversidade = {\n",
    "    'Área Norte': [2819, 7236],\n",
    "    'Área Leste': [1440, 9492],\n",
    "    'Área Sul': [5969, 7496],\n",
    "    'Área Oeste': [14446, 49688],\n",
    "    'Área Centro': [22558, 45148]\n",
    "}\n",
    "\n",
    "# Inicializa variáveis para armazenar a soma total das espécies e o número total de áreas\n",
    "soma_total_especies = 0\n",
    "numero_areas = len(diversidade)\n",
    "\n",
    "# Inicializa variáveis para identificar a área com a maior diversidade biológica\n",
    "maior_diversidade = 0\n",
    "area_maior_diversidade = \"\"\n",
    "\n",
    "# Calcula a soma das espécies e a média por área\n",
    "for area, especies in diversidade.items():\n",
    "    soma_especies = sum(especies)\n",
    "    media_especies = soma_especies / len(especies)\n",
    "    print(f\"A média de espécies na {area} é: {media_especies:.2f}\")\n",
    "    \n",
    "    # Atualiza a soma total das espécies\n",
    "    soma_total_especies += soma_especies\n",
    "    \n",
    "    # Verifica se esta área tem a maior diversidade biológica\n",
    "    if soma_especies > maior_diversidade:\n",
    "        maior_diversidade = soma_especies\n",
    "        area_maior_diversidade = area\n",
    "\n",
    "# Calcula a média total de espécies\n",
    "media_total_especies = soma_total_especies / numero_areas\n",
    "\n",
    "print(f\"\\nA média total de espécies por área é: {media_total_especies:.2f}\")\n",
    "print(f\"A área com a maior diversidade biológica é: {area_maior_diversidade} com {maior_diversidade} espécies\")"
   ]
  },
  {
   "cell_type": "markdown",
   "id": "2b323042-0f3b-47ab-b1de-2f31cadaa1ab",
   "metadata": {},
   "source": [
    "15) O setor de RH da sua empresa te pediu uma ajuda para analisar as idades de colaboradores(as) de 4 setores da empresa. Para isso, foram fornecidos os seguintes dados:\n",
    "\n",
    "{'Setor A': [22, 26, 30, 30, 35, 38, 40, 56, 57, 65],\\\n",
    " 'Setor B': [22, 24, 26, 33, 41, 49, 50, 54, 60, 64],\\\n",
    " 'Setor C': [23, 26, 26, 29, 34, 35, 36, 41, 52, 56],\\\n",
    " 'Setor D': [19, 20, 25, 27, 34, 39, 42, 44, 50, 65]}\n",
    " \n",
    "Sabendo que cada setor tem 10 colaboradores(as), construa um código que calcule a média de idade de cada setor, a idade média geral entre todos os setores e quantas pessoas estão acima da idade média geral."
   ]
  },
  {
   "cell_type": "code",
   "execution_count": null,
   "id": "60e3e910-7768-435b-865d-fff86f185a41",
   "metadata": {},
   "outputs": [],
   "source": [
    "# Dados fornecidos\n",
    "idades = {\n",
    "    'Setor A': [22, 26, 30, 30, 35, 38, 40, 56, 57, 65],\n",
    "    'Setor B': [22, 24, 26, 33, 41, 49, 50, 54, 60, 64],\n",
    "    'Setor C': [23, 26, 26, 29, 34, 35, 36, 41, 52, 56],\n",
    "    'Setor D': [19, 20, 25, 27, 34, 39, 42, 44, 50, 65]\n",
    "}\n",
    "\n",
    "# Inicializa variáveis para armazenar a soma total das idades e o número total de colaboradores(as)\n",
    "soma_total_idades = 0\n",
    "total_colaboradores = 0\n",
    "\n",
    "# Inicializa um dicionário para armazenar a média de idade de cada setor\n",
    "media_setores = {}\n",
    "\n",
    "# Calcula a média de idade de cada setor e a soma total das idades\n",
    "for setor, lista_idades in idades.items():\n",
    "    soma_idades_setor = sum(lista_idades)\n",
    "    media_idades_setor = soma_idades_setor / len(lista_idades)\n",
    "    media_setores[setor] = media_idades_setor\n",
    "    \n",
    "    soma_total_idades += soma_idades_setor\n",
    "    total_colaboradores += len(lista_idades)\n",
    "\n",
    "# Calcula a idade média geral\n",
    "media_geral = soma_total_idades / total_colaboradores\n",
    "\n",
    "# Conta quantas pessoas estão acima da idade média geral\n",
    "pessoas_acima_media = sum(1 for lista_idades in idades.values() for idade in lista_idades if idade > media_geral)\n",
    "\n",
    "# Exibe a média de idade de cada setor\n",
    "for setor, media in media_setores.items():\n",
    "    print(f\"A média de idade do {setor} é: {media:.2f}\")\n",
    "\n",
    "# Exibe a idade média geral e a quantidade de pessoas acima da média geral\n",
    "print(f\"\\nA idade média geral entre todos os setores é: {media_geral:.2f}\")\n",
    "print(f\"Quantidade de pessoas acima da idade média geral: {pessoas_acima_media}\")"
   ]
  }
 ],
 "metadata": {
  "kernelspec": {
   "display_name": "Python 3 (Spyder)",
   "language": "python3",
   "name": "python3"
  },
  "language_info": {
   "codemirror_mode": {
    "name": "ipython",
    "version": 3
   },
   "file_extension": ".py",
   "mimetype": "text/x-python",
   "name": "python",
   "nbconvert_exporter": "python",
   "pygments_lexer": "ipython3",
   "version": "3.11.8"
  }
 },
 "nbformat": 4,
 "nbformat_minor": 5
}
