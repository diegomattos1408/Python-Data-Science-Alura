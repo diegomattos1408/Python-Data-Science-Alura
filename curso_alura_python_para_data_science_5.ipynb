{
 "cells": [
  {
   "cell_type": "markdown",
   "id": "2a367bb1-9ea2-4d66-9d0d-ed681c6ab84b",
   "metadata": {},
   "source": [
    "# Pandas - Selecionando e agrupando dados"
   ]
  },
  {
   "cell_type": "markdown",
   "id": "7ac34360-a64f-46a9-a51a-05d4b3e920d0",
   "metadata": {},
   "source": [
    "### Aula 1 - Conhecendo os dados"
   ]
  },
  {
   "cell_type": "markdown",
   "id": "1c38fd6e-a524-41ae-b3b4-a68216b976f6",
   "metadata": {},
   "source": [
    "1) Encontre os valores únicos das colunas \"Nível 1 - Setor\" e \"Estado\" para identificar as atividades econômicas presentes na base de dados e se todos os Estados do Brasil estão presentes no DataFrame."
   ]
  },
  {
   "cell_type": "code",
   "execution_count": null,
   "id": "9a66974d-750b-4789-9d93-a981942323c7",
   "metadata": {},
   "outputs": [],
   "source": [
    "import pandas as pd\n",
    "\n",
    "df = pd.read_excel(\"1-SEEG10_GERAL-BR_UF_2022.10.27-FINAL-SITE.xlsx\", sheet_name= \"GEE Estados\")"
   ]
  },
  {
   "cell_type": "code",
   "execution_count": null,
   "id": "e26b6fff-8c97-44c3-a475-c2ecd0a08c7b",
   "metadata": {},
   "outputs": [],
   "source": [
    "df.head()"
   ]
  },
  {
   "cell_type": "code",
   "execution_count": null,
   "id": "50d6ba48-8699-4f92-a5c7-dc51f3ec3e80",
   "metadata": {},
   "outputs": [],
   "source": [
    "df[\"Nível 1 - Setor\"].unique()"
   ]
  },
  {
   "cell_type": "code",
   "execution_count": null,
   "id": "0553ea09-6114-4e79-9ad5-a8c4b9e452f5",
   "metadata": {},
   "outputs": [],
   "source": [
    "df[\"Estado\"].unique()"
   ]
  },
  {
   "cell_type": "markdown",
   "id": "eed0701e-d7c6-4b06-8e83-708e44d9f410",
   "metadata": {},
   "source": [
    "2) Filtre o DataFrame somente com os dados dos Estados da região Sul do Brasil."
   ]
  },
  {
   "cell_type": "code",
   "execution_count": null,
   "id": "9a3cdad9-4548-4c86-a3d1-f36e3c7ba171",
   "metadata": {},
   "outputs": [],
   "source": [
    "df_sul = df[df['Estado'].isin(['SC','RS','PR'])]\n",
    "\n",
    "df_sul.head()"
   ]
  },
  {
   "cell_type": "markdown",
   "id": "05b81f2d-1d5d-4e98-bd35-d05ae55a3586",
   "metadata": {},
   "source": [
    "3) Filtre o DataFrame somente com os dados de \"Mudança de Uso da Terra e Floresta\" que sejam do Estado do Amazonas."
   ]
  },
  {
   "cell_type": "code",
   "execution_count": null,
   "id": "00ba916f-bdd4-4496-831c-1c1f535d01ee",
   "metadata": {},
   "outputs": [],
   "source": [
    "df_amazonas = df[(df['Nível 1 - Setor'] == 'Mudança de Uso da Terra e Floresta') & (df['Estado'] == 'AM')]\n",
    "\n",
    "df_amazonas.head()"
   ]
  },
  {
   "cell_type": "markdown",
   "id": "1247eef4-a351-40ec-8716-a958b865464a",
   "metadata": {},
   "source": [
    "4) Encontre o valor máximo de emissão do ano de 2021 para os dados de \"Agropecuária\" no Estado do Pará.imo de emissão do ano de 2021 para os dados de \"Agropecuária\" no Estado do Pará."
   ]
  },
  {
   "cell_type": "code",
   "execution_count": null,
   "id": "e5b225b6-ca4e-4c57-88cf-f5794617d5f9",
   "metadata": {},
   "outputs": [],
   "source": [
    "df_para_max = df.loc[(df['Nível 1 - Setor'] == 'Agropecuária') & (df['Estado'] == 'PA'), 2021].max()\n",
    "\n",
    "df_para_max"
   ]
  },
  {
   "cell_type": "markdown",
   "id": "5bf3bc04-0509-40be-9ce6-3004f6cacd71",
   "metadata": {},
   "source": [
    "### Aula 2 - Agrupamento de dados"
   ]
  },
  {
   "cell_type": "markdown",
   "id": "cb9d5b17-63bb-4e49-af20-4e8b708db1e5",
   "metadata": {},
   "source": [
    "1) Faça um agrupamento de dados com base na coluna \"Nível 1 - Setor\" para visualizar o dicionário contendo as chaves de grupos formados e a lista de índices de cada grupo."
   ]
  },
  {
   "cell_type": "code",
   "execution_count": null,
   "id": "a7f312d8-ac30-4fc2-9f31-afd61d30acab",
   "metadata": {},
   "outputs": [],
   "source": [
    "grouped = df.groupby(\"Nível 1 - Setor\").groups\n",
    "\n",
    "group_dict = {setor: list(indices) for setor, indices in grouped.items()}\n",
    "\n",
    "print(group_dict.keys())"
   ]
  },
  {
   "cell_type": "markdown",
   "id": "ccae7bdb-1239-4e52-ae6c-2c634074f3f5",
   "metadata": {},
   "source": [
    "2) Faça um agrupamento de dados com base na coluna \"Nível 1 - Setor\" e localize os dados do grupo \"Agropecuária\"."
   ]
  },
  {
   "cell_type": "code",
   "execution_count": null,
   "id": "1eb5ec62-56ed-4b63-8e7a-9a6d16b83d82",
   "metadata": {},
   "outputs": [],
   "source": [
    "grouped_agropecuaria = df.groupby('Nível 1 - Setor').get_group('Agropecuária')\n",
    "\n",
    "grouped_agropecuaria.head()"
   ]
  },
  {
   "cell_type": "markdown",
   "id": "eae06217-df30-4335-9f20-08fdd78a0fdd",
   "metadata": {},
   "source": [
    "3) Faça um agrupamento de dados com base na coluna \"Nível 1 - Setor\" para identificar a média de emissão de cada atividade econômica no ano de 2021."
   ]
  },
  {
   "cell_type": "code",
   "execution_count": null,
   "id": "81f786dc-50b4-47a7-ad07-c027d4ad8d57",
   "metadata": {},
   "outputs": [],
   "source": [
    "df_2021 = df[[\"Nível 1 - Setor\", 2021]]\n",
    "\n",
    "mean_emissions_2021 = df_2021.groupby(\"Nível 1 - Setor\")[2021].mean().reset_index()\n",
    "\n",
    "mean_emissions_2021.columns = [\"Nível 1 - Setor\", \"Média de Emissões 2021\"]\n",
    "\n",
    "mean_emissions_2021"
   ]
  },
  {
   "cell_type": "markdown",
   "id": "037264ca-1fd0-49ec-8677-f45264248304",
   "metadata": {},
   "source": [
    "4) Faça um agrupamento de dados com base na coluna \"Nível 1 - Setor\" para identificar a soma de emissão de cada atividade econômica. Ordene os dados da maior para menor emissão."
   ]
  },
  {
   "cell_type": "code",
   "execution_count": null,
   "id": "b443cdc0-93d8-4486-a8ad-8dd737cbf775",
   "metadata": {},
   "outputs": [],
   "source": [
    "colunas_info = list(df.loc[:, \"Nível 1 - Setor\": \"Produto\"].columns)\n",
    "\n",
    "colunas_emissao = list(df.loc[:1970:2021].columns)\n",
    "\n",
    "df_melt_ano = df.melt(id_vars = colunas_info, value_vars = colunas_emissao, var_name = \"Ano\", value_name = \"Emissão\")\n",
    "\n",
    "df_melt_ano.head()"
   ]
  },
  {
   "cell_type": "code",
   "execution_count": null,
   "id": "1d4b0c8c-2792-4b30-bb91-e1f96f703638",
   "metadata": {},
   "outputs": [],
   "source": [
    "df_ano = df_melt_ano.groupby('Nível 1 - Setor')[['Emissão']].sum().sort_values('Emissão', ascending = False)\n",
    "\n",
    "df_ano"
   ]
  }
 ],
 "metadata": {
  "kernelspec": {
   "display_name": "Python 3 (Spyder)",
   "language": "python3",
   "name": "python3"
  },
  "language_info": {
   "codemirror_mode": {
    "name": "ipython",
    "version": 3
   },
   "file_extension": ".py",
   "mimetype": "text/x-python",
   "name": "python",
   "nbconvert_exporter": "python",
   "pygments_lexer": "ipython3",
   "version": "3.11.8"
  }
 },
 "nbformat": 4,
 "nbformat_minor": 5
}
