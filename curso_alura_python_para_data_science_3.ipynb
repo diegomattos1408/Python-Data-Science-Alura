{
 "cells": [
  {
   "cell_type": "markdown",
   "id": "6770c053-ea99-4f91-90a3-0abe437ee811",
   "metadata": {},
   "source": [
    "# Pandas: conhecendo a biblioteca"
   ]
  },
  {
   "cell_type": "markdown",
   "id": "04746468-f9fd-4fa3-b1dd-0b233044a168",
   "metadata": {},
   "source": [
    "### Aula 1 - Conhecendo a base de dados"
   ]
  },
  {
   "cell_type": "markdown",
   "id": "9e68832c-7a94-42a4-9e98-ea3b1b03a8d2",
   "metadata": {},
   "source": [
    "1) Importe o arquivo alunos.csv e armazene seu conteúdo em um DataFrame Pandas."
   ]
  },
  {
   "cell_type": "code",
   "execution_count": 7,
   "id": "b2ee195c-824c-48ed-b892-35d5f4a5772c",
   "metadata": {},
   "outputs": [],
   "source": [
    "import pandas as pd\n",
    "\n",
    "alunos = pd.read_csv(\"alunos.csv\")"
   ]
  },
  {
   "cell_type": "markdown",
   "id": "c4b284f6-957f-47f9-9a60-8c8a99164b68",
   "metadata": {},
   "source": [
    "2) Visualize as primeiras 7 linhas do DataFrame e as 5 últimas."
   ]
  },
  {
   "cell_type": "code",
   "execution_count": 8,
   "id": "06608321-9114-4602-a75c-a8e8bfe32158",
   "metadata": {},
   "outputs": [
    {
     "data": {
      "text/html": [
       "<div>\n",
       "<style scoped>\n",
       "    .dataframe tbody tr th:only-of-type {\n",
       "        vertical-align: middle;\n",
       "    }\n",
       "\n",
       "    .dataframe tbody tr th {\n",
       "        vertical-align: top;\n",
       "    }\n",
       "\n",
       "    .dataframe thead th {\n",
       "        text-align: right;\n",
       "    }\n",
       "</style>\n",
       "<table border=\"1\" class=\"dataframe\">\n",
       "  <thead>\n",
       "    <tr style=\"text-align: right;\">\n",
       "      <th></th>\n",
       "      <th>Nome</th>\n",
       "      <th>Idade</th>\n",
       "      <th>Notas</th>\n",
       "      <th>Aprovado</th>\n",
       "    </tr>\n",
       "  </thead>\n",
       "  <tbody>\n",
       "    <tr>\n",
       "      <th>0</th>\n",
       "      <td>Ary</td>\n",
       "      <td>20</td>\n",
       "      <td>7.5</td>\n",
       "      <td>True</td>\n",
       "    </tr>\n",
       "    <tr>\n",
       "      <th>1</th>\n",
       "      <td>Ana</td>\n",
       "      <td>18</td>\n",
       "      <td>NaN</td>\n",
       "      <td>False</td>\n",
       "    </tr>\n",
       "    <tr>\n",
       "      <th>2</th>\n",
       "      <td>Cátia</td>\n",
       "      <td>27</td>\n",
       "      <td>2.5</td>\n",
       "      <td>False</td>\n",
       "    </tr>\n",
       "    <tr>\n",
       "      <th>3</th>\n",
       "      <td>Denis</td>\n",
       "      <td>18</td>\n",
       "      <td>5.0</td>\n",
       "      <td>False</td>\n",
       "    </tr>\n",
       "    <tr>\n",
       "      <th>4</th>\n",
       "      <td>Beto</td>\n",
       "      <td>21</td>\n",
       "      <td>10.0</td>\n",
       "      <td>True</td>\n",
       "    </tr>\n",
       "    <tr>\n",
       "      <th>5</th>\n",
       "      <td>Bruna</td>\n",
       "      <td>23</td>\n",
       "      <td>NaN</td>\n",
       "      <td>False</td>\n",
       "    </tr>\n",
       "    <tr>\n",
       "      <th>6</th>\n",
       "      <td>Dara</td>\n",
       "      <td>21</td>\n",
       "      <td>7.0</td>\n",
       "      <td>True</td>\n",
       "    </tr>\n",
       "  </tbody>\n",
       "</table>\n",
       "</div>"
      ],
      "text/plain": [
       "    Nome  Idade  Notas  Aprovado\n",
       "0    Ary     20    7.5      True\n",
       "1    Ana     18    NaN     False\n",
       "2  Cátia     27    2.5     False\n",
       "3  Denis     18    5.0     False\n",
       "4   Beto     21   10.0      True\n",
       "5  Bruna     23    NaN     False\n",
       "6   Dara     21    7.0      True"
      ]
     },
     "execution_count": 8,
     "metadata": {},
     "output_type": "execute_result"
    }
   ],
   "source": [
    "alunos.head(7)"
   ]
  },
  {
   "cell_type": "markdown",
   "id": "0b866ca0-c02a-4550-84da-19f0c666eb73",
   "metadata": {},
   "source": [
    "3) Confira a quantidade de linhas e colunas desse DataFrame."
   ]
  },
  {
   "cell_type": "code",
   "execution_count": 9,
   "id": "eb83554f-79a8-4ed4-8926-8f587a512a0f",
   "metadata": {},
   "outputs": [
    {
     "data": {
      "text/plain": [
       "(18, 4)"
      ]
     },
     "execution_count": 9,
     "metadata": {},
     "output_type": "execute_result"
    }
   ],
   "source": [
    "alunos.shape"
   ]
  },
  {
   "cell_type": "markdown",
   "id": "54f3fa7e-7f0d-4088-80b5-ad9ff1930879",
   "metadata": {},
   "source": [
    "4) Explore as colunas do DataFrame e analise os tipos dos dados presentes em cada coluna."
   ]
  },
  {
   "cell_type": "code",
   "execution_count": 10,
   "id": "3437475e-c4c3-46d0-9c67-1ebe3eec2246",
   "metadata": {},
   "outputs": [
    {
     "name": "stdout",
     "output_type": "stream",
     "text": [
      "<class 'pandas.core.frame.DataFrame'>\n",
      "RangeIndex: 18 entries, 0 to 17\n",
      "Data columns (total 4 columns):\n",
      " #   Column    Non-Null Count  Dtype  \n",
      "---  ------    --------------  -----  \n",
      " 0   Nome      18 non-null     object \n",
      " 1   Idade     18 non-null     int64  \n",
      " 2   Notas     12 non-null     float64\n",
      " 3   Aprovado  18 non-null     bool   \n",
      "dtypes: bool(1), float64(1), int64(1), object(1)\n",
      "memory usage: 582.0+ bytes\n"
     ]
    }
   ],
   "source": [
    "alunos.info()"
   ]
  },
  {
   "cell_type": "markdown",
   "id": "183a2048-1f0a-42d7-bdfc-397ef8c3404f",
   "metadata": {},
   "source": [
    "Extra: Calcule algumas estatísticas descritivas básicas dos dados do DataFrame (média, desvio padrão, etc). "
   ]
  },
  {
   "cell_type": "code",
   "execution_count": 11,
   "id": "26d5b308-fd27-4d37-82bc-ad1ce3c62cf9",
   "metadata": {},
   "outputs": [
    {
     "data": {
      "text/html": [
       "<div>\n",
       "<style scoped>\n",
       "    .dataframe tbody tr th:only-of-type {\n",
       "        vertical-align: middle;\n",
       "    }\n",
       "\n",
       "    .dataframe tbody tr th {\n",
       "        vertical-align: top;\n",
       "    }\n",
       "\n",
       "    .dataframe thead th {\n",
       "        text-align: right;\n",
       "    }\n",
       "</style>\n",
       "<table border=\"1\" class=\"dataframe\">\n",
       "  <thead>\n",
       "    <tr style=\"text-align: right;\">\n",
       "      <th></th>\n",
       "      <th>Idade</th>\n",
       "      <th>Notas</th>\n",
       "    </tr>\n",
       "  </thead>\n",
       "  <tbody>\n",
       "    <tr>\n",
       "      <th>count</th>\n",
       "      <td>18.000000</td>\n",
       "      <td>12.000000</td>\n",
       "    </tr>\n",
       "    <tr>\n",
       "      <th>mean</th>\n",
       "      <td>25.500000</td>\n",
       "      <td>6.800000</td>\n",
       "    </tr>\n",
       "    <tr>\n",
       "      <th>std</th>\n",
       "      <td>6.070662</td>\n",
       "      <td>2.204953</td>\n",
       "    </tr>\n",
       "    <tr>\n",
       "      <th>min</th>\n",
       "      <td>18.000000</td>\n",
       "      <td>2.500000</td>\n",
       "    </tr>\n",
       "    <tr>\n",
       "      <th>25%</th>\n",
       "      <td>21.000000</td>\n",
       "      <td>5.450000</td>\n",
       "    </tr>\n",
       "    <tr>\n",
       "      <th>50%</th>\n",
       "      <td>24.500000</td>\n",
       "      <td>7.000000</td>\n",
       "    </tr>\n",
       "    <tr>\n",
       "      <th>75%</th>\n",
       "      <td>28.750000</td>\n",
       "      <td>8.250000</td>\n",
       "    </tr>\n",
       "    <tr>\n",
       "      <th>max</th>\n",
       "      <td>37.000000</td>\n",
       "      <td>10.000000</td>\n",
       "    </tr>\n",
       "  </tbody>\n",
       "</table>\n",
       "</div>"
      ],
      "text/plain": [
       "           Idade      Notas\n",
       "count  18.000000  12.000000\n",
       "mean   25.500000   6.800000\n",
       "std     6.070662   2.204953\n",
       "min    18.000000   2.500000\n",
       "25%    21.000000   5.450000\n",
       "50%    24.500000   7.000000\n",
       "75%    28.750000   8.250000\n",
       "max    37.000000  10.000000"
      ]
     },
     "execution_count": 11,
     "metadata": {},
     "output_type": "execute_result"
    }
   ],
   "source": [
    "alunos.describe()"
   ]
  },
  {
   "cell_type": "markdown",
   "id": "4cfda42b-5506-4aa3-9cf0-447f9bf920ac",
   "metadata": {},
   "source": [
    "### Aula 2 - Análise exploratória de dados"
   ]
  },
  {
   "cell_type": "code",
   "execution_count": 15,
   "id": "5c9311c1-9f77-4fc0-bc0a-8a1ac4ee295e",
   "metadata": {},
   "outputs": [
    {
     "data": {
      "text/html": [
       "<div>\n",
       "<style scoped>\n",
       "    .dataframe tbody tr th:only-of-type {\n",
       "        vertical-align: middle;\n",
       "    }\n",
       "\n",
       "    .dataframe tbody tr th {\n",
       "        vertical-align: top;\n",
       "    }\n",
       "\n",
       "    .dataframe thead th {\n",
       "        text-align: right;\n",
       "    }\n",
       "</style>\n",
       "<table border=\"1\" class=\"dataframe\">\n",
       "  <thead>\n",
       "    <tr style=\"text-align: right;\">\n",
       "      <th></th>\n",
       "      <th>Tipo</th>\n",
       "      <th>Bairro</th>\n",
       "      <th>Quartos</th>\n",
       "      <th>Vagas</th>\n",
       "      <th>Suites</th>\n",
       "      <th>Area</th>\n",
       "      <th>Valor</th>\n",
       "      <th>Condominio</th>\n",
       "      <th>IPTU</th>\n",
       "    </tr>\n",
       "  </thead>\n",
       "  <tbody>\n",
       "    <tr>\n",
       "      <th>0</th>\n",
       "      <td>Quitinete</td>\n",
       "      <td>Copacabana</td>\n",
       "      <td>1</td>\n",
       "      <td>0</td>\n",
       "      <td>0</td>\n",
       "      <td>40</td>\n",
       "      <td>1700.0</td>\n",
       "      <td>500.0</td>\n",
       "      <td>60.0</td>\n",
       "    </tr>\n",
       "    <tr>\n",
       "      <th>1</th>\n",
       "      <td>Casa</td>\n",
       "      <td>Jardim Botânico</td>\n",
       "      <td>2</td>\n",
       "      <td>0</td>\n",
       "      <td>1</td>\n",
       "      <td>100</td>\n",
       "      <td>7000.0</td>\n",
       "      <td>NaN</td>\n",
       "      <td>NaN</td>\n",
       "    </tr>\n",
       "    <tr>\n",
       "      <th>2</th>\n",
       "      <td>Conjunto Comercial/Sala</td>\n",
       "      <td>Barra da Tijuca</td>\n",
       "      <td>0</td>\n",
       "      <td>4</td>\n",
       "      <td>0</td>\n",
       "      <td>150</td>\n",
       "      <td>5200.0</td>\n",
       "      <td>4020.0</td>\n",
       "      <td>1111.0</td>\n",
       "    </tr>\n",
       "    <tr>\n",
       "      <th>3</th>\n",
       "      <td>Apartamento</td>\n",
       "      <td>Centro</td>\n",
       "      <td>1</td>\n",
       "      <td>0</td>\n",
       "      <td>0</td>\n",
       "      <td>15</td>\n",
       "      <td>800.0</td>\n",
       "      <td>390.0</td>\n",
       "      <td>20.0</td>\n",
       "    </tr>\n",
       "    <tr>\n",
       "      <th>4</th>\n",
       "      <td>Apartamento</td>\n",
       "      <td>Higienópolis</td>\n",
       "      <td>1</td>\n",
       "      <td>0</td>\n",
       "      <td>0</td>\n",
       "      <td>48</td>\n",
       "      <td>800.0</td>\n",
       "      <td>230.0</td>\n",
       "      <td>NaN</td>\n",
       "    </tr>\n",
       "  </tbody>\n",
       "</table>\n",
       "</div>"
      ],
      "text/plain": [
       "                      Tipo           Bairro  ...  Condominio    IPTU\n",
       "0                Quitinete       Copacabana  ...       500.0    60.0\n",
       "1                     Casa  Jardim Botânico  ...         NaN     NaN\n",
       "2  Conjunto Comercial/Sala  Barra da Tijuca  ...      4020.0  1111.0\n",
       "3              Apartamento           Centro  ...       390.0    20.0\n",
       "4              Apartamento     Higienópolis  ...       230.0     NaN\n",
       "\n",
       "[5 rows x 9 columns]"
      ]
     },
     "execution_count": 15,
     "metadata": {},
     "output_type": "execute_result"
    }
   ],
   "source": [
    "url = 'https://raw.githubusercontent.com/alura-cursos/pandas-conhecendo-a-biblioteca/main/base-de-dados/aluguel.csv'\n",
    "aluguel = pd.read_csv(url, sep=\";\")\n",
    "\n",
    "aluguel.head()"
   ]
  },
  {
   "cell_type": "markdown",
   "id": "1c4ba673-2a27-4112-bf63-c18632eff6ca",
   "metadata": {},
   "source": [
    "1) Calcular a média de quartos por apartamento."
   ]
  },
  {
   "cell_type": "code",
   "execution_count": 17,
   "id": "6d93effe-348d-406b-9031-513b9c08f424",
   "metadata": {},
   "outputs": [
    {
     "data": {
      "text/plain": [
       "1.7713895631067962"
      ]
     },
     "execution_count": 17,
     "metadata": {},
     "output_type": "execute_result"
    }
   ],
   "source": [
    "aluguel[\"Quartos\"].mean()"
   ]
  },
  {
   "cell_type": "markdown",
   "id": "e18cbb25-62ad-4d51-a608-be8f8128cd00",
   "metadata": {},
   "source": [
    "2) Conferir quantos bairros únicos existem na nossa base de dados."
   ]
  },
  {
   "cell_type": "code",
   "execution_count": 22,
   "id": "47007287-99d2-4f0d-8c9e-024dc7818bb9",
   "metadata": {},
   "outputs": [
    {
     "data": {
      "text/plain": [
       "162"
      ]
     },
     "execution_count": 22,
     "metadata": {},
     "output_type": "execute_result"
    }
   ],
   "source": [
    "aluguel[\"Bairro\"].nunique()"
   ]
  },
  {
   "cell_type": "markdown",
   "id": "5dd213f3-3f6b-47fd-bcb8-915f371f0160",
   "metadata": {},
   "source": [
    "3) Analisar quais bairros possuem a média de valor de aluguel mais elevadas."
   ]
  },
  {
   "cell_type": "code",
   "execution_count": 23,
   "id": "4e1eb0cb-bd55-45af-9db8-69002da2714d",
   "metadata": {},
   "outputs": [
    {
     "data": {
      "text/plain": [
       "Bairro\n",
       "Jacarepaguá      314143.489637\n",
       "Irajá            154610.470588\n",
       "Caju             120264.782609\n",
       "Vasco da Gama    120000.000000\n",
       "Cidade Nova       88166.692308\n",
       "Name: Valor, dtype: float64"
      ]
     },
     "execution_count": 23,
     "metadata": {},
     "output_type": "execute_result"
    }
   ],
   "source": [
    "media_aluguel_por_bairro = aluguel.groupby('Bairro')['Valor'].mean()\n",
    "\n",
    "media_aluguel_por_bairro = media_aluguel_por_bairro.sort_values(ascending=False)\n",
    "\n",
    "media_aluguel_por_bairro.head()"
   ]
  },
  {
   "cell_type": "markdown",
   "id": "1520b1a4-ef85-4811-8915-e3c37bd996f6",
   "metadata": {},
   "source": [
    "4) Criar um gráfico de barras horizontais que apresente os 5 bairros com as médias de valores de aluguel mais elevadas."
   ]
  },
  {
   "cell_type": "code",
   "execution_count": 25,
   "id": "d27e33c1-ff1c-4ef2-b074-88c74d4c3484",
   "metadata": {},
   "outputs": [
    {
     "data": {
      "image/png": "[encoded data removed]",
      "text/plain": [
       "<Figure size 720x432 with 1 Axes>"
      ]
     },
     "metadata": {},
     "output_type": "display_data"
    }
   ],
   "source": [
    "import matplotlib.pyplot as plt\n",
    "\n",
    "top_5_bairros = media_aluguel_por_bairro.head(5)\n",
    "\n",
    "plt.figure(figsize=(10, 6))\n",
    "top_5_bairros.plot(kind='barh', color='skyblue')\n",
    "plt.xlabel('Média do Valor do Aluguel')\n",
    "plt.ylabel('Bairro')\n",
    "plt.title('Top 5 Bairros com as Médias de Valores de Aluguel Mais Elevadas')\n",
    "plt.gca().invert_yaxis() \n",
    "plt.show()"
   ]
  },
  {
   "cell_type": "markdown",
   "id": "25be8f69-7fb4-42ec-b6cf-74880d099c76",
   "metadata": {},
   "source": [
    "### Aula 4"
   ]
  },
  {
   "cell_type": "markdown",
   "id": "d2b5fc9d-c87a-4b89-ae01-64413ce42af4",
   "metadata": {},
   "source": [
    "1) Os alunos participaram de uma atividade extracurricular e ganharam pontos extras. Esses pontos extras correspondem a 40% da nota atual de cada um deles. Com base nisso, crie uma coluna chamada \"Pontos_extras\" que contenha os pontos extras de cada aluno, ou seja, 40% da nota atual deles."
   ]
  },
  {
   "cell_type": "code",
   "execution_count": 29,
   "id": "ba374928-2740-4982-a0e1-ce82e2752526",
   "metadata": {},
   "outputs": [
    {
     "data": {
      "text/html": [
       "<div>\n",
       "<style scoped>\n",
       "    .dataframe tbody tr th:only-of-type {\n",
       "        vertical-align: middle;\n",
       "    }\n",
       "\n",
       "    .dataframe tbody tr th {\n",
       "        vertical-align: top;\n",
       "    }\n",
       "\n",
       "    .dataframe thead th {\n",
       "        text-align: right;\n",
       "    }\n",
       "</style>\n",
       "<table border=\"1\" class=\"dataframe\">\n",
       "  <thead>\n",
       "    <tr style=\"text-align: right;\">\n",
       "      <th></th>\n",
       "      <th>Nome</th>\n",
       "      <th>Idade</th>\n",
       "      <th>Notas</th>\n",
       "      <th>Aprovado</th>\n",
       "      <th>Pontos_extras</th>\n",
       "    </tr>\n",
       "  </thead>\n",
       "  <tbody>\n",
       "    <tr>\n",
       "      <th>0</th>\n",
       "      <td>Ary</td>\n",
       "      <td>20</td>\n",
       "      <td>7.5</td>\n",
       "      <td>True</td>\n",
       "      <td>3.0</td>\n",
       "    </tr>\n",
       "    <tr>\n",
       "      <th>1</th>\n",
       "      <td>Ana</td>\n",
       "      <td>18</td>\n",
       "      <td>NaN</td>\n",
       "      <td>False</td>\n",
       "      <td>NaN</td>\n",
       "    </tr>\n",
       "    <tr>\n",
       "      <th>2</th>\n",
       "      <td>Cátia</td>\n",
       "      <td>27</td>\n",
       "      <td>2.5</td>\n",
       "      <td>False</td>\n",
       "      <td>1.0</td>\n",
       "    </tr>\n",
       "    <tr>\n",
       "      <th>3</th>\n",
       "      <td>Denis</td>\n",
       "      <td>18</td>\n",
       "      <td>5.0</td>\n",
       "      <td>False</td>\n",
       "      <td>2.0</td>\n",
       "    </tr>\n",
       "    <tr>\n",
       "      <th>4</th>\n",
       "      <td>Beto</td>\n",
       "      <td>21</td>\n",
       "      <td>10.0</td>\n",
       "      <td>True</td>\n",
       "      <td>4.0</td>\n",
       "    </tr>\n",
       "  </tbody>\n",
       "</table>\n",
       "</div>"
      ],
      "text/plain": [
       "    Nome  Idade  Notas  Aprovado  Pontos_extras\n",
       "0    Ary     20    7.5      True            3.0\n",
       "1    Ana     18    NaN     False            NaN\n",
       "2  Cátia     27    2.5     False            1.0\n",
       "3  Denis     18    5.0     False            2.0\n",
       "4   Beto     21   10.0      True            4.0"
      ]
     },
     "execution_count": 29,
     "metadata": {},
     "output_type": "execute_result"
    }
   ],
   "source": [
    "alunos['Pontos_extras'] = alunos.apply(lambda row: row['Notas'] * 0.40, axis=1)\n",
    "\n",
    "alunos.head()"
   ]
  },
  {
   "cell_type": "markdown",
   "id": "ef22ce32-2ef2-403d-ad7a-8822e864d089",
   "metadata": {},
   "source": [
    "2) Crie mais uma coluna, chamada \"Notas_finais\" que possua as notas de cada aluno somada com os pontos extras."
   ]
  },
  {
   "cell_type": "code",
   "execution_count": 31,
   "id": "ad669804-9ea3-4ba2-8896-97629ea0e9fb",
   "metadata": {},
   "outputs": [
    {
     "data": {
      "text/html": [
       "<div>\n",
       "<style scoped>\n",
       "    .dataframe tbody tr th:only-of-type {\n",
       "        vertical-align: middle;\n",
       "    }\n",
       "\n",
       "    .dataframe tbody tr th {\n",
       "        vertical-align: top;\n",
       "    }\n",
       "\n",
       "    .dataframe thead th {\n",
       "        text-align: right;\n",
       "    }\n",
       "</style>\n",
       "<table border=\"1\" class=\"dataframe\">\n",
       "  <thead>\n",
       "    <tr style=\"text-align: right;\">\n",
       "      <th></th>\n",
       "      <th>Nome</th>\n",
       "      <th>Idade</th>\n",
       "      <th>Notas</th>\n",
       "      <th>Aprovado</th>\n",
       "      <th>Pontos_extras</th>\n",
       "      <th>Notas_finais</th>\n",
       "    </tr>\n",
       "  </thead>\n",
       "  <tbody>\n",
       "    <tr>\n",
       "      <th>0</th>\n",
       "      <td>Ary</td>\n",
       "      <td>20</td>\n",
       "      <td>7.5</td>\n",
       "      <td>True</td>\n",
       "      <td>3.0</td>\n",
       "      <td>10.5</td>\n",
       "    </tr>\n",
       "    <tr>\n",
       "      <th>1</th>\n",
       "      <td>Ana</td>\n",
       "      <td>18</td>\n",
       "      <td>NaN</td>\n",
       "      <td>False</td>\n",
       "      <td>NaN</td>\n",
       "      <td>NaN</td>\n",
       "    </tr>\n",
       "    <tr>\n",
       "      <th>2</th>\n",
       "      <td>Cátia</td>\n",
       "      <td>27</td>\n",
       "      <td>2.5</td>\n",
       "      <td>False</td>\n",
       "      <td>1.0</td>\n",
       "      <td>3.5</td>\n",
       "    </tr>\n",
       "    <tr>\n",
       "      <th>3</th>\n",
       "      <td>Denis</td>\n",
       "      <td>18</td>\n",
       "      <td>5.0</td>\n",
       "      <td>False</td>\n",
       "      <td>2.0</td>\n",
       "      <td>7.0</td>\n",
       "    </tr>\n",
       "    <tr>\n",
       "      <th>4</th>\n",
       "      <td>Beto</td>\n",
       "      <td>21</td>\n",
       "      <td>10.0</td>\n",
       "      <td>True</td>\n",
       "      <td>4.0</td>\n",
       "      <td>14.0</td>\n",
       "    </tr>\n",
       "  </tbody>\n",
       "</table>\n",
       "</div>"
      ],
      "text/plain": [
       "    Nome  Idade  Notas  Aprovado  Pontos_extras  Notas_finais\n",
       "0    Ary     20    7.5      True            3.0          10.5\n",
       "1    Ana     18    NaN     False            NaN           NaN\n",
       "2  Cátia     27    2.5     False            1.0           3.5\n",
       "3  Denis     18    5.0     False            2.0           7.0\n",
       "4   Beto     21   10.0      True            4.0          14.0"
      ]
     },
     "execution_count": 31,
     "metadata": {},
     "output_type": "execute_result"
    }
   ],
   "source": [
    "alunos[\"Notas_finais\"] = alunos.apply(lambda row: row['Notas']  + row[\"Pontos_extras\"], axis=1)\n",
    "\n",
    "alunos.head()"
   ]
  },
  {
   "cell_type": "markdown",
   "id": "5a8c255f-4257-48e1-a7bd-b58a6160bd31",
   "metadata": {},
   "source": [
    "3) Como houve uma pontuação extra, alguns alunos que não tinham sido aprovados antes podem ter sido aprovados agora. Com base nisso, crie uma coluna chamada \"Aprovado_final\" com os seguintes valores:\n",
    "\n",
    "True: caso o aluno esteja aprovado (nota final deve ser maior ou igual a 6);\\\n",
    "False: caso o aluno esteja reprovado (nota final deve ser menor que 6)."
   ]
  },
  {
   "cell_type": "code",
   "execution_count": 45,
   "id": "d96861e6-2cda-48e3-a423-516a697ffe3e",
   "metadata": {},
   "outputs": [
    {
     "data": {
      "text/html": [
       "<div>\n",
       "<style scoped>\n",
       "    .dataframe tbody tr th:only-of-type {\n",
       "        vertical-align: middle;\n",
       "    }\n",
       "\n",
       "    .dataframe tbody tr th {\n",
       "        vertical-align: top;\n",
       "    }\n",
       "\n",
       "    .dataframe thead th {\n",
       "        text-align: right;\n",
       "    }\n",
       "</style>\n",
       "<table border=\"1\" class=\"dataframe\">\n",
       "  <thead>\n",
       "    <tr style=\"text-align: right;\">\n",
       "      <th></th>\n",
       "      <th>Nome</th>\n",
       "      <th>Idade</th>\n",
       "      <th>Notas</th>\n",
       "      <th>Aprovado</th>\n",
       "      <th>Pontos_extras</th>\n",
       "      <th>Notas_finais</th>\n",
       "      <th>Aprovado_final</th>\n",
       "    </tr>\n",
       "  </thead>\n",
       "  <tbody>\n",
       "    <tr>\n",
       "      <th>0</th>\n",
       "      <td>Ary</td>\n",
       "      <td>20</td>\n",
       "      <td>7.5</td>\n",
       "      <td>True</td>\n",
       "      <td>3.0</td>\n",
       "      <td>10.5</td>\n",
       "      <td>True</td>\n",
       "    </tr>\n",
       "    <tr>\n",
       "      <th>1</th>\n",
       "      <td>Ana</td>\n",
       "      <td>18</td>\n",
       "      <td>NaN</td>\n",
       "      <td>False</td>\n",
       "      <td>NaN</td>\n",
       "      <td>NaN</td>\n",
       "      <td>False</td>\n",
       "    </tr>\n",
       "    <tr>\n",
       "      <th>2</th>\n",
       "      <td>Cátia</td>\n",
       "      <td>27</td>\n",
       "      <td>2.5</td>\n",
       "      <td>False</td>\n",
       "      <td>1.0</td>\n",
       "      <td>3.5</td>\n",
       "      <td>False</td>\n",
       "    </tr>\n",
       "    <tr>\n",
       "      <th>3</th>\n",
       "      <td>Denis</td>\n",
       "      <td>18</td>\n",
       "      <td>5.0</td>\n",
       "      <td>False</td>\n",
       "      <td>2.0</td>\n",
       "      <td>7.0</td>\n",
       "      <td>True</td>\n",
       "    </tr>\n",
       "    <tr>\n",
       "      <th>4</th>\n",
       "      <td>Beto</td>\n",
       "      <td>21</td>\n",
       "      <td>10.0</td>\n",
       "      <td>True</td>\n",
       "      <td>4.0</td>\n",
       "      <td>14.0</td>\n",
       "      <td>True</td>\n",
       "    </tr>\n",
       "  </tbody>\n",
       "</table>\n",
       "</div>"
      ],
      "text/plain": [
       "    Nome  Idade  Notas  Aprovado  Pontos_extras  Notas_finais  Aprovado_final\n",
       "0    Ary     20    7.5      True            3.0          10.5            True\n",
       "1    Ana     18    NaN     False            NaN           NaN           False\n",
       "2  Cátia     27    2.5     False            1.0           3.5           False\n",
       "3  Denis     18    5.0     False            2.0           7.0            True\n",
       "4   Beto     21   10.0      True            4.0          14.0            True"
      ]
     },
     "execution_count": 45,
     "metadata": {},
     "output_type": "execute_result"
    }
   ],
   "source": [
    "alunos['Aprovado_final'] = alunos.apply(lambda row: True if row[\"Notas_finais\"] >= 6 else False, axis=1)\n",
    "\n",
    "alunos.head()"
   ]
  },
  {
   "cell_type": "markdown",
   "id": "7928633a-6053-4571-ae1c-0d28c33eb8bc",
   "metadata": {},
   "source": [
    "4) Faça uma seleção e verifique quais alunos não tinham sido aprovados anteriormente, mas foram aprovados após a soma dos pontos extras."
   ]
  },
  {
   "cell_type": "code",
   "execution_count": 46,
   "id": "d5fd6ccd-22c8-455c-bc32-905512e8c294",
   "metadata": {},
   "outputs": [
    {
     "data": {
      "text/plain": [
       "['Denis', 'Alice', 'Igor']"
      ]
     },
     "execution_count": 46,
     "metadata": {},
     "output_type": "execute_result"
    }
   ],
   "source": [
    "alunos_aprovados_pos = []\n",
    "\n",
    "alunos.apply(lambda row: alunos_aprovados_pos.append(row[\"Nome\"]) if row[\"Aprovado\"] == False and row[\"Aprovado_final\"] == True else None, axis=1)\n",
    "\n",
    "alunos_aprovados_pos"
   ]
  }
 ],
 "metadata": {
  "kernelspec": {
   "display_name": "Python 3 (Spyder)",
   "language": "python3",
   "name": "python3"
  },
  "language_info": {
   "codemirror_mode": {
    "name": "ipython",
    "version": 3
   },
   "file_extension": ".py",
   "mimetype": "text/x-python",
   "name": "python",
   "nbconvert_exporter": "python",
   "pygments_lexer": "ipython3",
   "version": "3.11.8"
  }
 },
 "nbformat": 4,
 "nbformat_minor": 5
}
