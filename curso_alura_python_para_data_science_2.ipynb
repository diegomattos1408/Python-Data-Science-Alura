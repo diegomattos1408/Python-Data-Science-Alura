{
 "cells": [
  {
   "cell_type": "markdown",
   "id": "e20331f0-9e5c-4b20-a331-8c758526d563",
   "metadata": {},
   "source": [
    "## Python para Data Science: trabalhando com funções, estruturas de dados e exceções"
   ]
  },
  {
   "cell_type": "markdown",
   "id": "383c343e-25f2-4ec4-ba53-80ab68b31b01",
   "metadata": {},
   "source": [
    "### Aula 1 - Bibliotecas"
   ]
  },
  {
   "cell_type": "markdown",
   "id": "024f5af1-e84b-4d54-acf4-062d416cc517",
   "metadata": {},
   "source": [
    "1. Escreva um código para instalar a versão 3.7.1 da biblioteca matplotlib."
   ]
  },
  {
   "cell_type": "markdown",
   "id": "4f14dddf-120a-4b63-9988-324174b97c8f",
   "metadata": {},
   "source": [
    "!pip install matplotlib==3.7.1"
   ]
  },
  {
   "cell_type": "markdown",
   "id": "5637ce42-ad6e-4549-a5b9-28a4c0b4413c",
   "metadata": {},
   "source": [
    "2. Escreva um código para importar a biblioteca numpy com o alias np."
   ]
  },
  {
   "cell_type": "code",
   "execution_count": null,
   "id": "0c185242-843f-43bd-8d5f-d46b2b6a2c50",
   "metadata": {},
   "outputs": [],
   "source": [
    "import numpy as np"
   ]
  },
  {
   "cell_type": "markdown",
   "id": "35e2de89-9c5a-460e-837a-814a44c49f99",
   "metadata": {},
   "source": [
    "3. Crie um programa que leia a seguinte lista de números e escolha um número desta aleatoriamente.\n",
    "\n",
    "lista = [8, 12, 54, 23, 43, 1, 90, 87, 105, 77]"
   ]
  },
  {
   "cell_type": "code",
   "execution_count": null,
   "id": "6b8b01ca-b6ef-4a6d-8955-48cad3e5c921",
   "metadata": {},
   "outputs": [],
   "source": [
    "import random\n",
    "\n",
    "# Lista de números\n",
    "lista = [8, 12, 54, 23, 43, 1, 90, 87, 105, 77]\n",
    "\n",
    "# Escolhe um número aleatoriamente da lista\n",
    "numero_aleatorio = random.choice(lista)\n",
    "\n",
    "# Imprime o número escolhido\n",
    "print(\"Número escolhido aleatoriamente:\", numero_aleatorio)"
   ]
  },
  {
   "cell_type": "markdown",
   "id": "d6af1320-d675-4e07-965d-37c9de1b0d81",
   "metadata": {},
   "source": [
    "4. Crie um programa que sorteia, aleatoriamente, um número inteiro positivo menor que 100."
   ]
  },
  {
   "cell_type": "code",
   "execution_count": null,
   "id": "42e7ac6c-1325-444a-b0c8-841d40d1e2e9",
   "metadata": {},
   "outputs": [],
   "source": [
    "import random\n",
    "\n",
    "# Sorteia um número inteiro positivo menor que 100\n",
    "numero_aleatorio = random.randint(0, 99)\n",
    "\n",
    "# Imprime o número sorteado\n",
    "print(\"Número sorteado aleatoriamente:\", numero_aleatorio)"
   ]
  },
  {
   "cell_type": "markdown",
   "id": "c29fb288-1dce-441e-b5e8-cc56659e1169",
   "metadata": {},
   "source": [
    "5. Crie um programa que solicite à pessoa usuária digitar dois números inteiros e calcular a potência do 1º número elevado ao 2º."
   ]
  },
  {
   "cell_type": "code",
   "execution_count": null,
   "id": "392b9668-845f-4d5c-8fe9-198f2a32b33c",
   "metadata": {},
   "outputs": [],
   "source": [
    "# Solicita dois números inteiros à pessoa usuária\n",
    "base = int(input(\"Digite o primeiro número (base): \"))\n",
    "expoente = int(input(\"Digite o segundo número (expoente): \"))\n",
    "\n",
    "# Calcula a potência\n",
    "resultado = base ** expoente\n",
    "\n",
    "# Imprime o resultado\n",
    "print(f\"{base} elevado a {expoente} é igual a {resultado}\")"
   ]
  },
  {
   "cell_type": "markdown",
   "id": "66ca9982-960e-40a8-a079-d394aab744a4",
   "metadata": {},
   "source": [
    "6. Um programa deve ser escrito para sortear uma pessoa seguidora de uma rede social para ganhar um prêmio. A lista de participantes é numerada e devemos escolher aleatoriamente um número de acordo com a quantidade de participantes. Peça à pessoa usuária para fornecer o número de participantes do sorteio e devolva para ela o número sorteado."
   ]
  },
  {
   "cell_type": "code",
   "execution_count": null,
   "id": "32e2308e-dfdf-4b70-b520-8c7c3d430aa8",
   "metadata": {},
   "outputs": [],
   "source": [
    "import random\n",
    "\n",
    "# Solicita à pessoa usuária fornecer o número de participantes\n",
    "num_participantes = int(input(\"Digite o número de participantes do sorteio: \"))\n",
    "\n",
    "# Verifica se o número de participantes é maior que 0\n",
    "if num_participantes > 0:\n",
    "    # Sorteia um número aleatoriamente entre 1 e o número de participantes\n",
    "    numero_sorteado = random.randint(1, num_participantes)\n",
    "\n",
    "    # Imprime o número sorteado\n",
    "    print(f\"O número sorteado é: {numero_sorteado}\")\n",
    "else:\n",
    "    print(\"O número de participantes deve ser maior que 0.\")"
   ]
  },
  {
   "cell_type": "markdown",
   "id": "6f0e5da1-424a-496e-a44b-3ee49696fa0c",
   "metadata": {},
   "source": [
    "7. Você recebeu uma demanda para gerar números de token para acessar o aplicativo de uma empresa. O token precisa ser par e variar de 1000 até 9998. Escreva um código que solicita à pessoa usuária o seu nome e exibe uma mensagem junto a esse token gerado aleatoriamente.\n",
    "\n",
    "\"Olá, [nome], o seu token de acesso é [token]! Seja bem-vindo(a)!\""
   ]
  },
  {
   "cell_type": "code",
   "execution_count": null,
   "id": "7db586d4-4e4f-4d7f-b518-f626036b2e50",
   "metadata": {},
   "outputs": [],
   "source": [
    "# Solicita o nome da pessoa usuária\n",
    "nome = input(\"Digite o seu nome: \")\n",
    "\n",
    "# Gera um token par entre 1000 e 9998\n",
    "token = random.choice(range(1000, 9999, 2))\n",
    "\n",
    "# Exibe a mensagem com o token gerado\n",
    "print(f\"Olá, {nome}, o seu token de acesso é {token}! Seja bem-vindo(a)!\")"
   ]
  },
  {
   "cell_type": "markdown",
   "id": "715e95f4-97e1-4860-a507-6b82178a7074",
   "metadata": {},
   "source": [
    "8. Para diversificar e atrair novos(as) clientes, uma lanchonete criou um item misterioso em seu cardápio chamado \"salada de frutas surpresa\". Neste item, são escolhidas aleatoriamente 3 frutas de uma lista de 12 para compor a salada de frutas da pessoa cliente. Crie o código que faça essa seleção aleatória de acordo com a lista abaixo:\n",
    "\n",
    "frutas = [\"maçã\", \"banana\", \"uva\", \"pêra\", \n",
    "          \"manga\", \"coco\", \"melancia\", \"mamão\",\n",
    "          \"laranja\", \"abacaxi\", \"kiwi\", \"ameixa\"]"
   ]
  },
  {
   "cell_type": "code",
   "execution_count": null,
   "id": "40e617d9-8e2e-4421-beb2-38500c47ab8e",
   "metadata": {},
   "outputs": [],
   "source": [
    "# Lista de frutas\n",
    "frutas = [\"maçã\", \"banana\", \"uva\", \"pêra\", \n",
    "          \"manga\", \"coco\", \"melancia\", \"mamão\",\n",
    "          \"laranja\", \"abacaxi\", \"kiwi\", \"ameixa\"]\n",
    "\n",
    "# Seleciona aleatoriamente 3 frutas da lista\n",
    "salada_de_frutas_surpresa = random.sample(frutas, 3)\n",
    "\n",
    "# Imprime as frutas selecionadas\n",
    "print(\"A salada de frutas surpresa contém:\", salada_de_frutas_surpresa)"
   ]
  },
  {
   "cell_type": "markdown",
   "id": "7b28b8b3-2f39-4a5b-bd41-ebff0586b86a",
   "metadata": {},
   "source": [
    "9. Você recebeu um desafio de calcular a raiz quadrada de uma lista de números, identificando quais resultaram em um número inteiro. A lista é a seguinte:\\\n",
    "numeros = [2, 8, 15, 23, 91, 112, 256]\\\n",
    "No final, informe quais números possuem raízes inteiras e seus respectivos valores.\\\n",
    "Saída:\\\n",
    "1,5 é inteiro? : False\\\n",
    "2 é inteiro? : True"
   ]
  },
  {
   "cell_type": "code",
   "execution_count": null,
   "id": "3878c4ac-57e4-49c6-a51f-9e6feda2e923",
   "metadata": {},
   "outputs": [],
   "source": [
    "import math\n",
    "\n",
    "# Lista de números\n",
    "numeros = [2, 8, 15, 23, 91, 112, 256]\n",
    "\n",
    "# Lista para armazenar números com raízes inteiras\n",
    "numeros_com_raizes_inteiras = []\n",
    "\n",
    "# Verifica a raiz quadrada de cada número na lista\n",
    "for num in numeros:\n",
    "    raiz = math.sqrt(num)\n",
    "    if raiz // 1 == raiz:\n",
    "        numeros_com_raizes_inteiras.append((num, int(raiz)))\n",
    "\n",
    "# Imprime os números que possuem raízes inteiras e seus respectivos valores\n",
    "print(\"Números com raízes inteiras e seus respectivos valores:\")\n",
    "for numero, raiz in numeros_com_raizes_inteiras:\n",
    "    print(f\"Número: {numero}, Raiz quadrada: {raiz}\")"
   ]
  },
  {
   "cell_type": "markdown",
   "id": "4123883b-740f-4893-b39a-894da9e011b5",
   "metadata": {},
   "source": [
    "10. Faça um programa para uma loja que vende grama para jardins. Essa loja trabalha com jardins circulares e o preço do metro quadrado da grama é de R$ 25,00. Peça à pessoa usuária o raio da área circular e devolva o valor em reais do quanto precisará pagar."
   ]
  },
  {
   "cell_type": "code",
   "execution_count": null,
   "id": "31dadba1-64fb-4853-b771-ed2adbc0cd07",
   "metadata": {},
   "outputs": [],
   "source": [
    "# Preço por metro quadrado da grama\n",
    "preco_metro_quadrado = 25.00\n",
    "\n",
    "# Solicita o raio da área circular à pessoa usuária\n",
    "raio = float(input(\"Digite o raio da área circular em metros: \"))\n",
    "\n",
    "# Calcula a área do círculo\n",
    "area = math.pi * math.pow(raio, 2)\n",
    "\n",
    "# Calcula o valor total a ser pago\n",
    "valor_total = area * preco_metro_quadrado\n",
    "\n",
    "# Imprime o valor total\n",
    "print(f\"O valor a ser pago pela grama é: R$ {valor_total:.2f}\")"
   ]
  },
  {
   "cell_type": "markdown",
   "id": "44c1c611-19a2-44a9-8f64-4af185b618f4",
   "metadata": {},
   "source": [
    "### Aula 2 - Funções"
   ]
  },
  {
   "cell_type": "markdown",
   "id": "6bd03fdf-0f59-4faa-8634-5d38c62d97c6",
   "metadata": {},
   "source": [
    "1. Escreva um código que lê a lista abaixo e faça:\n",
    "\n",
    "lista = [16, 14, 63, 65, 17, 99, 70, 11, 20, 48, 79, 32, 17, 89, 12, 25, 66]\n",
    "\n",
    "A leitura do tamanho da lista\\\n",
    "A leitura do maior e menor valor\\\n",
    "A soma dos valores da lista\\\n",
    "Ao final exiba uma mensagem dizendo:\n",
    "\n",
    "\"A lista possui [tam] números em que o maior número é [maior] e o menor número é [menor]. A soma dos valores presentes nela é igual a [soma]\""
   ]
  },
  {
   "cell_type": "code",
   "execution_count": null,
   "id": "d59449f2-4822-4cf7-80cd-c3f17d9ceefb",
   "metadata": {},
   "outputs": [],
   "source": [
    "# Lista fornecida\n",
    "lista = [16, 14, 63, 65, 17, 99, 70, 11, 20, 48, 79, 32, 17, 89, 12, 25, 66]\n",
    "\n",
    "# Leitura do tamanho da lista\n",
    "tamanho_lista = len(lista)\n",
    "\n",
    "# Leitura do maior e menor valor da lista\n",
    "maior_valor = max(lista)\n",
    "menor_valor = min(lista)\n",
    "\n",
    "# Soma dos valores da lista\n",
    "soma_valores = sum(lista)\n",
    "\n",
    "# Exibe a mensagem com as informações\n",
    "mensagem = (f\"A lista possui {tamanho_lista} números em que o maior número é {maior_valor} \"\n",
    "            f\"e o menor número é {menor_valor}. A soma dos valores presentes nela é igual a {soma_valores}\")\n",
    "\n",
    "print(mensagem)"
   ]
  },
  {
   "cell_type": "markdown",
   "id": "83acb192-bba9-447a-9436-0b9b9a762302",
   "metadata": {},
   "source": [
    "2. Escreva uma função que gere a tabuada de um número inteiro de 1 a 10, de acordo com a escolha da pessoa usuária. Como exemplo, para o número 7, a tabuada deve ser mostrada no seguinte formato:\n",
    "\n",
    "Tabuada do 7:\\\n",
    "7 x 0 = 0\\\n",
    "7 x 1 = 7\\\n",
    "[...]\\\n",
    "7 x 10 = 70"
   ]
  },
  {
   "cell_type": "code",
   "execution_count": null,
   "id": "7dc21e60-cf67-4a1b-9fe5-8136641b45e1",
   "metadata": {},
   "outputs": [],
   "source": [
    "def gerar_tabuada(numero):\n",
    "    print(f\"Tabuada do {numero}:\")\n",
    "    for i in range(11):\n",
    "        resultado = numero * i\n",
    "        print(f\"{numero} x {i} = {resultado}\")\n",
    "\n",
    "numero_escolhido = int(input(\"Digite um número inteiro para ver a tabuada: \"))\n",
    "gerar_tabuada(numero_escolhido)"
   ]
  },
  {
   "cell_type": "markdown",
   "id": "6a458f56-d5ef-49e8-8c86-7caec9f309a2",
   "metadata": {},
   "source": [
    "3. Crie a função que leia a lista abaixo e retorne uma nova lista com os múltiplos de 3:\n",
    "\n",
    "[97, 80, 94, 88, 80, 1, 16, 53, 62, 32, 24, 99]\\\n",
    "\n",
    "Utilize o return na função e salve a nova lista na variável mult_3."
   ]
  },
  {
   "cell_type": "code",
   "execution_count": null,
   "id": "533d79fd-f65e-4502-854b-2309f632a32e",
   "metadata": {},
   "outputs": [],
   "source": [
    "def encontrar_multiplos_de_3(lista):\n",
    "    # Cria uma nova lista com os múltiplos de 3\n",
    "    multiplos_de_3 = [numero for numero in lista if numero % 3 == 0]\n",
    "    return multiplos_de_3\n",
    "\n",
    "# Lista fornecida\n",
    "lista = [97, 80, 94, 88, 80, 1, 16, 53, 62, 32, 24, 99]\n",
    "\n",
    "# Chama a função e salva a nova lista na variável mult_3\n",
    "mult_3 = encontrar_multiplos_de_3(lista)\n",
    "\n",
    "# Imprime a nova lista com os múltiplos de 3\n",
    "print(\"Múltiplos de 3 na lista:\", mult_3)"
   ]
  },
  {
   "cell_type": "markdown",
   "id": "64503765-2278-4a4b-9b57-8d68d9fe0ca8",
   "metadata": {},
   "source": [
    "4. Crie uma lista dos quadrados dos números da seguinte lista [1, 2, 3, 4, 5, 6, 7, 8, 9, 10]. Lembre-se de utilizar as funções lambda e map() para calcular o quadrado de cada elemento da lista."
   ]
  },
  {
   "cell_type": "code",
   "execution_count": null,
   "id": "446e7170-510f-4135-ae92-3a72abc5a39f",
   "metadata": {},
   "outputs": [],
   "source": [
    "# Lista fornecida\n",
    "lista = [1, 2, 3, 4, 5, 6, 7, 8, 9, 10]\n",
    "\n",
    "# Usa a função lambda e map() para calcular o quadrado de cada elemento da lista\n",
    "quadrados = list(map(lambda x: x**2, lista))\n",
    "\n",
    "# Imprime a lista dos quadrados\n",
    "print(\"Lista dos quadrados:\", quadrados)"
   ]
  },
  {
   "cell_type": "markdown",
   "id": "df8a877c-f7a4-44be-b054-2455bab75892",
   "metadata": {},
   "source": [
    "5. Você foi contratado(a) como cientista de dados de uma associação de skate. Para analisar as notas recebidas de skatistas em algumas competições ao longo do ano, você precisa criar um código que calcula a pontuação dos(as) atletas. Para isso, o seu código deve receber 5 notas digitadas pelas pessoas juradas.\n",
    "\n",
    "Para calcular a pontuação de um(a) skatista, você precisa eliminar a maior e a menor pontuação dentre as 5 notas e tirar a média das 3 notas que sobraram. Retorne a média para apresentar o texto:\n",
    "\n",
    "\"Nota da manobra: [media]\""
   ]
  },
  {
   "cell_type": "code",
   "execution_count": null,
   "id": "1e050be5-c3c5-4728-b6a4-6e21daa98f82",
   "metadata": {},
   "outputs": [],
   "source": [
    "def calcular_pontuacao():\n",
    "    # Solicita as 5 notas das pessoas juradas\n",
    "    notas = []\n",
    "    for i in range(5):\n",
    "        nota = float(input(f\"Digite a nota {i+1}: \"))\n",
    "        notas.append(nota)\n",
    "    \n",
    "    # Elimina a maior e a menor pontuação\n",
    "    maior_nota = max(notas)\n",
    "    menor_nota = min(notas)\n",
    "    notas.remove(maior_nota)\n",
    "    notas.remove(menor_nota)\n",
    "    \n",
    "    # Calcula a média das 3 notas restantes\n",
    "    media = sum(notas) / len(notas)\n",
    "    \n",
    "    # Retorna a média com o texto especificado\n",
    "    return f\"Nota da manobra: {media:.2f}\"\n",
    "\n",
    "# Chama a função e imprime o resultado\n",
    "print(calcular_pontuacao())"
   ]
  },
  {
   "cell_type": "markdown",
   "id": "b6542410-d1a5-4b70-ae2e-c7e0b6a9df4c",
   "metadata": {},
   "source": [
    "6. Para atender a uma demanda de uma instituição de ensino para a análise do desempenho de seus(suas) estudantes, você precisa criar uma função que receba uma lista de 4 notas e retorne:\n",
    "\n",
    "maior nota\\\n",
    "menor nota\\\n",
    "média\\\n",
    "situação (Aprovado(a) ou Reprovado(a))\\\n",
    "Para testar o comportamento da função, os dados podem ser exibidos em um texto:\n",
    "\n",
    "\"O(a) estudante obteve uma média de [media], com a sua maior nota de [maior] pontos e a menor nota de [menor] pontos e foi [situacao]\""
   ]
  },
  {
   "cell_type": "code",
   "execution_count": null,
   "id": "6ec1f8bf-9919-4499-977b-cc10e1da963e",
   "metadata": {},
   "outputs": [],
   "source": [
    "def analisar_desempenho(notas):\n",
    "    # Calcula a maior nota\n",
    "    maior_nota = max(notas)\n",
    "    \n",
    "    # Calcula a menor nota\n",
    "    menor_nota = min(notas)\n",
    "    \n",
    "    # Calcula a média das notas\n",
    "    media = sum(notas) / len(notas)\n",
    "    \n",
    "    # Determina a situação (Aprovado(a) ou Reprovado(a))\n",
    "    situacao = \"Aprovado(a)\" if media >= 6 else \"Reprovado(a)\"\n",
    "    \n",
    "    return maior_nota, menor_nota, media, situacao\n",
    "\n",
    "# Solicita as 4 notas do(a) estudante\n",
    "notas = []\n",
    "for i in range(4):\n",
    "    nota = float(input(f\"Digite a nota {i+1}: \"))\n",
    "    notas.append(nota)\n",
    "\n",
    "# Chama a função e obtém os resultados\n",
    "maior_nota, menor_nota, media, situacao = analisar_desempenho(notas)\n",
    "\n",
    "# Exibe o texto com os resultados\n",
    "print(f\"O(a) estudante obteve uma média de {media:.2f}, com a sua maior nota de {maior_nota} pontos e a menor nota de {menor_nota} pontos e foi {situacao}\")"
   ]
  },
  {
   "cell_type": "markdown",
   "id": "6624ec50-dc16-4823-b0f8-baeb2e532b88",
   "metadata": {},
   "source": [
    "7. Você recebeu uma demanda para tratar 2 listas com os nomes e sobrenomes de cada estudante concatenando-as para apresentar seus nomes completos na forma Nome Sobrenome. As listas são:\n",
    "\n",
    "nomes = [\"joão\", \"MaRia\", \"JOSÉ\"]\\\n",
    "sobrenomes = [\"SILVA\", \"souza\", \"Tavares\"]\n",
    "\n",
    "O texto exibido ao fim deve ser parecido com:\\\n",
    "\"Nome completo: Ana Silva\""
   ]
  },
  {
   "cell_type": "code",
   "execution_count": null,
   "id": "db30fe45-d245-44a8-a7f9-0b11b38be6ac",
   "metadata": {},
   "outputs": [],
   "source": [
    "# Listas fornecidas\n",
    "nomes = [\"joão\", \"MaRia\", \"JOSÉ\"]\n",
    "sobrenomes = [\"SILVA\", \"souza\", \"Tavares\"]\n",
    "\n",
    "# Inicializa uma lista para armazenar os nomes completos\n",
    "nomes_completos = []\n",
    "\n",
    "# Concatena os nomes e sobrenomes, tratando a formatação\n",
    "for nome, sobrenome in zip(nomes, sobrenomes):\n",
    "    nome_completo = nome.capitalize() + \" \" + sobrenome.capitalize()\n",
    "    nomes_completos.append(nome_completo)\n",
    "\n",
    "# Exibe os nomes completos\n",
    "for nome_completo in nomes_completos:\n",
    "    print(f\"Nome completo: {nome_completo}\")"
   ]
  },
  {
   "cell_type": "markdown",
   "id": "89b85715-ee9a-48ee-b383-44efd50daca5",
   "metadata": {},
   "source": [
    "8. Como cientista de dados em um time de futebol, você precisa implementar novas formas de coleta de dados sobre o desempenho de jogadores e do time como um todo. Sua primeira ação é criar uma forma de calcular a pontuação do time no campeonato nacional a partir dos dados de gols marcados e sofridos em cada jogo.\n",
    "\n",
    "Escreva uma função chamada calcula_pontos que recebe como parâmetros duas listas de números inteiros, representando os gols marcados e sofridos pelo time em cada partida do campeonato. A função deve retornar a pontuação do time e o aproveitamento em percentual, levando em consideração que a vitória vale 3 pontos, o empate vale 1 ponto e a derrota 0 pontos.\n",
    "\n",
    "Para teste, utilize as seguintes listas de gols marcados e sofridos:\n",
    "\n",
    "gols_marcados = [2, 1, 3, 1, 0]\\\n",
    "gols_sofridos = [1, 2, 2, 1, 3]\\\n",
    "\n",
    "Provável texto exibido:\n",
    "\n",
    "\"A pontuação do time foi de [pontos] e seu aproveitamento foi de [aprov]%\""
   ]
  },
  {
   "cell_type": "code",
   "execution_count": null,
   "id": "c63521c6-e136-4da4-a0de-820e4325989a",
   "metadata": {},
   "outputs": [],
   "source": [
    "def calcula_pontos(gols_marcados, gols_sofridos):\n",
    "    # Inicializa a pontuação do time\n",
    "    pontos = 0\n",
    "    total_jogos = len(gols_marcados)\n",
    "    \n",
    "    # Calcula a pontuação do time\n",
    "    for marcados, sofridos in zip(gols_marcados, gols_sofridos):\n",
    "        if marcados > sofridos:\n",
    "            pontos += 3  # Vitória\n",
    "        elif marcados == sofridos:\n",
    "            pontos += 1  # Empate\n",
    "        # Derrota não adiciona pontos\n",
    "    \n",
    "    # Calcula a pontuação máxima possível\n",
    "    pontos_maximos = total_jogos * 3\n",
    "    \n",
    "    # Calcula o aproveitamento em percentual\n",
    "    aproveitamento = (pontos / pontos_maximos) * 100\n",
    "    \n",
    "    return pontos, aproveitamento\n",
    "\n",
    "# Listas de gols marcados e sofridos\n",
    "gols_marcados = [2, 1, 3, 1, 0]\n",
    "gols_sofridos = [1, 2, 2, 1, 3]\n",
    "\n",
    "# Calcula a pontuação e o aproveitamento do time\n",
    "pontos, aproveitamento = calcula_pontos(gols_marcados, gols_sofridos)\n",
    "\n",
    "# Exibe os resultados\n",
    "print(f\"A pontuação do time foi de {pontos} e seu aproveitamento foi de {aproveitamento:.2f}%\")"
   ]
  },
  {
   "cell_type": "markdown",
   "id": "e986d60e-fc9f-4d38-b2b2-5dcc7eb50cbb",
   "metadata": {},
   "source": [
    "10. Você iniciou um estágio em uma empresa que trabalha com processamento de linguagem natural (NLP). Sua líder requisitou que você criasse um trecho de código que recebe uma frase digitada pela pessoa usuária e filtre apenas as palavras com tamanho maior ou igual a 5, exibindo-as em uma lista. Essa demanda é voltada para a análise do padrão de comportamento de pessoas na escrita de palavras acima dessa quantidade de caracteres.\n",
    "\n",
    "Dica: utilize as funções lambda e filter() para filtrar essas palavras. Lembrando que a função embutida filter() recebe uma função (no nosso exemplo uma função lambda) e filtra um iterável de acordo com a função. Para tratar a frase use replace() para trocar a ',' '.', '!' e '?' por espaço.\n",
    "\n",
    "Use a frase \"Aprender Python aqui na Alura é muito bom\" para testar o código."
   ]
  },
  {
   "cell_type": "code",
   "execution_count": null,
   "id": "3ebc1900-3ee2-4536-8d15-e9ebb38ea61d",
   "metadata": {},
   "outputs": [],
   "source": [
    "def filtrar_palavras(frase):\n",
    "    # Substitui ',' '.' '!' e '?' por espaço\n",
    "    frase = frase.replace(',', ' ').replace('.', ' ').replace('!', ' ').replace('?', ' ')\n",
    "    \n",
    "    # Divide a frase em palavras\n",
    "    palavras = frase.split()\n",
    "    \n",
    "    # Filtra as palavras com tamanho maior ou igual a 5\n",
    "    palavras_filtradas = list(filter(lambda palavra: len(palavra) >= 5, palavras))\n",
    "    \n",
    "    return palavras_filtradas\n",
    "\n",
    "# Solicita uma frase da pessoa usuária\n",
    "frase = input(\"Digite uma frase: \")\n",
    "\n",
    "# Filtra as palavras e exibe a lista\n",
    "palavras_filtradas = filtrar_palavras(frase)\n",
    "print(\"Palavras com tamanho maior ou igual a 5:\", palavras_filtradas)\n",
    "\n",
    "# Testa com a frase fornecida no exemplo\n",
    "frase_teste = \"Aprender Python aqui na Alura é muito bom\"\n",
    "print(\"Teste com a frase:\", frase_teste)\n",
    "print(\"Palavras com tamanho maior ou igual a 5:\", filtrar_palavras(frase_teste))"
   ]
  },
  {
   "cell_type": "markdown",
   "id": "ca2fc892-c6fb-46fb-93f8-a6653ed5eb74",
   "metadata": {},
   "source": [
    "### Aula 3 - Estrutura de dados"
   ]
  },
  {
   "cell_type": "markdown",
   "id": "1396df13-b37d-4d06-b6ce-cc5e38cdd864",
   "metadata": {},
   "source": [
    "1. Crie um código para imprimir a soma dos elementos de cada uma das listas contidas na seguinte lista:\n",
    "\n",
    "lista_de_listas = [[4,6,5,9], [1,0,7,2], [3,4,1,8]]"
   ]
  },
  {
   "cell_type": "code",
   "execution_count": null,
   "id": "963f8db8-48af-43d7-acb1-23218c60fbc0",
   "metadata": {},
   "outputs": [],
   "source": [
    "# Lista fornecida\n",
    "lista_de_listas = [[4, 6, 5, 9], [1, 0, 7, 2], [3, 4, 1, 8]]\n",
    "\n",
    "# Itera sobre cada lista dentro da lista de listas\n",
    "for sublista in lista_de_listas:\n",
    "    # Calcula a soma dos elementos da sublista\n",
    "    soma = sum(sublista)\n",
    "    # Imprime a soma\n",
    "    print(f\"A soma dos elementos da lista {sublista} é: {soma}\")"
   ]
  },
  {
   "cell_type": "markdown",
   "id": "50ef01da-0279-42eb-8cb1-4a9766f06041",
   "metadata": {},
   "source": [
    "2. Crie um código para gerar uma lista que armazena o terceiro elemento de cada tupla contida na seguinte lista de tuplas:\n",
    "\n",
    "lista_de_tuplas = [('Pedro', 1.74, 81), ('Júlia', 1.65, 67), ('Otávio', 1.81, 83)]"
   ]
  },
  {
   "cell_type": "code",
   "execution_count": null,
   "id": "dfb18528-3dbc-4c3e-b1e4-f15f9b140be1",
   "metadata": {},
   "outputs": [],
   "source": [
    "# Lista fornecida\n",
    "lista_de_tuplas = [('Pedro', 1.74, 81), ('Júlia', 1.65, 67), ('Otávio', 1.81, 83)]\n",
    "\n",
    "# Inicializa a lista para armazenar o terceiro elemento de cada tupla\n",
    "terceiros_elementos = []\n",
    "\n",
    "# Itera sobre cada tupla na lista de tuplas\n",
    "for tupla in lista_de_tuplas:\n",
    "    # Adiciona o terceiro elemento de cada tupla à lista\n",
    "    terceiros_elementos.append(tupla[2])\n",
    "\n",
    "# Imprime a lista de terceiros elementos\n",
    "print(\"Lista de terceiros elementos:\", terceiros_elementos)"
   ]
  },
  {
   "cell_type": "markdown",
   "id": "418e013e-2a4d-4575-8197-6536c228fc99",
   "metadata": {},
   "source": [
    "3. A partir da lista: lista = ['Pedro', 'Júlia', 'Otávio', 'Eduardo'], crie um código para gerar uma lista de tuplas em que cada tupla tenha o primeiro elemento como a posição do nome na lista original e o segundo elemento sendo o próprio nome."
   ]
  },
  {
   "cell_type": "code",
   "execution_count": null,
   "id": "6ae94f7f-dadd-4e9e-868d-c57e08273d9c",
   "metadata": {},
   "outputs": [],
   "source": [
    "# Lista fornecida\n",
    "lista = ['Pedro', 'Júlia', 'Otávio', 'Eduardo']\n",
    "\n",
    "# Inicializa a lista para armazenar as tuplas\n",
    "lista_de_tuplas = []\n",
    "\n",
    "# Itera sobre a lista com índices\n",
    "for i, nome in enumerate(lista):\n",
    "    # Adiciona a tupla (índice, nome) à lista de tuplas\n",
    "    lista_de_tuplas.append((i, nome))\n",
    "\n",
    "# Imprime a lista de tuplas\n",
    "print(\"Lista de tuplas:\", lista_de_tuplas)"
   ]
  },
  {
   "cell_type": "markdown",
   "id": "4e65a3ac-9d0b-4b48-9c74-2d20be02ad88",
   "metadata": {},
   "source": [
    "4. Crie uma lista usando o list comprehension que armazena somente o valor numérico de cada tupla caso o primeiro elemento seja 'Apartamento', a partir da seguinte lista de tuplas:\n",
    "\n",
    "aluguel = [('Apartamento', 1700), ('Apartamento', 1400), ('Casa', 2150), ('Apartamento', 1900), ('Casa', 1100)]"
   ]
  },
  {
   "cell_type": "code",
   "execution_count": null,
   "id": "ff7bc8bb-4a4f-4250-95a2-6e2f995cbcae",
   "metadata": {},
   "outputs": [],
   "source": [
    "# Lista fornecida\n",
    "aluguel = [('Apartamento', 1700), ('Apartamento', 1400), ('Casa', 2150), ('Apartamento', 1900), ('Casa', 1100)]\n",
    "\n",
    "# Cria uma lista com os valores numéricos de 'Apartamento' usando list comprehension\n",
    "valores_apartamento = [valor for tipo, valor in aluguel if tipo == 'Apartamento']\n",
    "\n",
    "# Imprime a lista de valores numéricos\n",
    "print(\"Valores numéricos de Apartamentos:\", valores_apartamento)"
   ]
  },
  {
   "cell_type": "markdown",
   "id": "b6524ac2-d842-42bf-aa02-c3e8ba737d08",
   "metadata": {},
   "source": [
    "5. Crie um dicionário usando o dict comprehension em que as chaves estão na lista meses = ['Jan', 'Fev', 'Mar', 'Abr', 'Mai', 'Jun', 'Jul', 'Ago', 'Set', 'Out', 'Nov', 'Dez'] e os valores estão em despesa = [860, 490, 1010, 780, 900, 630, 590, 770, 620, 560, 840, 360]."
   ]
  },
  {
   "cell_type": "code",
   "execution_count": null,
   "id": "9a1ae7c0-c998-40e3-8dc8-5e6cd9bc523f",
   "metadata": {},
   "outputs": [],
   "source": [
    "meses = ['Jan', 'Fev', 'Mar', 'Abr', 'Mai', 'Jun', 'Jul', 'Ago', 'Set', 'Out', 'Nov', 'Dez']\n",
    "despesa = [860, 490, 1010, 780, 900, 630, 590, 770, 620, 560, 840, 360]\n",
    "\n",
    "# Criando o dicionário usando dict comprehension\n",
    "despesas_por_mes = {mes: valor for mes, valor in zip(meses, despesa)}\n",
    "\n",
    "print(despesas_por_mes)"
   ]
  },
  {
   "cell_type": "markdown",
   "id": "ec7c365a-e1af-46e1-b543-e6de478cfe2c",
   "metadata": {},
   "source": [
    "6. Uma loja possui um banco de dados com a informação de venda de cada representante e de cada ano e precisa filtrar somente os dados do ano 2022 com venda maior do que 6000. A loja forneceu uma amostra contendo apenas as colunas com os anos e os valores de venda para que você ajude a realizar a filtragem dos dados a partir de um código:\n",
    "\n",
    "- vendas = [('2023', 4093), ('2021', 4320), ('2021', 5959), ('2022', 8883), ('2023', 9859), ('2022', 5141), ('2022', 7688), ('2022', 9544), ('2023', 4794), ('2021', 7178), ('2022', 3030), ('2021', 7471), ('2022', 4226), ('2022', 8190), ('2021', 9680), ('2022', 5616)]\n",
    "\n",
    "Crie uma lista usando list comprehension para filtrar os valores de 2022 e que sejam maiores que 6000."
   ]
  },
  {
   "cell_type": "code",
   "execution_count": null,
   "id": "03710483-cd50-4f65-823f-c4cff603f3b1",
   "metadata": {},
   "outputs": [],
   "source": [
    "vendas = [\n",
    "    ('2023', 4093), ('2021', 4320), ('2021', 5959), ('2022', 8883), ('2023', 9859),\n",
    "    ('2022', 5141), ('2022', 7688), ('2022', 9544), ('2023', 4794), ('2021', 7178),\n",
    "    ('2022', 3030), ('2021', 7471), ('2022', 4226), ('2022', 8190), ('2021', 9680),\n",
    "    ('2022', 5616)\n",
    "]\n",
    "\n",
    "# Filtrando os valores de 2022 que sejam maiores que 6000\n",
    "vendas_2022_filtradas = [venda for ano, venda in vendas if ano == '2022' and venda > 6000]\n",
    "\n",
    "print(vendas_2022_filtradas)"
   ]
  },
  {
   "cell_type": "markdown",
   "id": "3a305ccf-c247-4b4c-a568-df17fa0bb08e",
   "metadata": {},
   "source": [
    "7. Uma clínica analisa dados de pacientes e armazena o valor numérico da glicose em um banco de dados e gostaria de rotular os dados da seguinte maneira:\n",
    "\n",
    "- Glicose igual ou inferior a 70: 'Hipoglicemia'\n",
    "- Glicose entre 70 a 99: 'Normal'\n",
    "- Glicose entre 100 e 125: 'Alterada'\n",
    "- Glicose superior a 125: 'Diabetes'\n",
    "\n",
    "A clínica disponibilizou parte dos valores e sua tarefa é criar uma lista de tuplas usando list comprehension contendo o rótulo e o valor da glicemia em cada tupla.\n",
    "\n",
    "- glicemia = [129, 82, 60, 97, 101, 65, 62, 167, 87, 53, 58, 92, 66, 120, 109, 62, 86, 96, 103, 88, 155, 52, 89, 73]"
   ]
  },
  {
   "cell_type": "code",
   "execution_count": null,
   "id": "040bf49d-b587-47c1-875f-9f5a82811d6a",
   "metadata": {},
   "outputs": [],
   "source": [
    "glicemia = [129, 82, 60, 97, 101, 65, 62, 167, 87, 53, 58, 92, 66, 120, 109, 62, 86, 96, 103, 88, 155, 52, 89, 73]\n",
    "\n",
    "dados_pacientes = []\n",
    "\n",
    "for estado in glicemia:\n",
    "    if estado <= 70:\n",
    "        dados_pacientes.append(\"Hipoglicemia\")\n",
    "    elif estado > 70 and estado < 99:\n",
    "        dados_pacientes.append(\"Normal\")\n",
    "    elif estado >= 100 and estado <= 125:\n",
    "        dados_pacientes.append(\"Alterada\")\n",
    "    elif estado > 125:\n",
    "        dados_pacientes.append(\"Diabetes\")\n",
    "\n",
    "print(dados_pacientes)"
   ]
  },
  {
   "cell_type": "markdown",
   "id": "33c80495-9c6e-4634-86f7-864093236115",
   "metadata": {},
   "source": [
    "8. Um e-commerce possui as informações de id de venda, quantidade vendida e preço do produto divididos nas seguintes listas:\n",
    "\n",
    "- id = [0, 1, 2, 3, 4, 5, 6, 7, 8, 9]\n",
    "- quantidade = [15, 12, 1, 15, 2, 11, 2, 12, 2, 4]\n",
    "- preco = [93.0, 102.0, 18.0, 41.0, 122.0, 14.0, 71.0, 48.0, 14.0, 144.0]\n",
    "\n",
    "O e-commerce precisa estruturar esses dados em uma tabela contendo o valor total da venda, que é obtida multiplicando a quantidade pelo preço unitário. Além disso, a tabela precisa conter um cabeçalho indicando as colunas: 'id', 'quantidade', 'preco' e 'total'.\n",
    "\n",
    "Crie uma lista de tuplas em que cada tupla tenha id, quantidade, preço e valor total, na qual a primeira tupla é o cabeçalho da tabela."
   ]
  },
  {
   "cell_type": "code",
   "execution_count": null,
   "id": "fe78514a-1f83-410d-9cd9-db7e5189528e",
   "metadata": {},
   "outputs": [],
   "source": [
    "id = [0, 1, 2, 3, 4, 5, 6, 7, 8, 9]\n",
    "quantidade = [15, 12, 1, 15, 2, 11, 2, 12, 2, 4]\n",
    "preco = [93.0, 102.0, 18.0, 41.0, 122.0, 14.0, 71.0, 48.0, 14.0, 144.0]\n",
    "\n",
    "total = []\n",
    "\n",
    "for q in range(len(quantidade)):\n",
    "    for p in range(len(preco)):\n",
    "        if q == p:\n",
    "            total.append(quantidade[q]*preco[p])\n",
    "\n",
    "head = [\"id\", \"quantidade\", \"preco\", \"total\"]\n",
    "\n",
    "table = [head]\n",
    "data = [id, quantidade, preco, total]\n",
    "\n",
    "for i in range(len(id)):\n",
    "    table.append([id[i], quantidade[i], preco[i], total[i]])\n",
    "\n",
    "result = tuple(map(tuple, table))\n",
    "\n",
    "print(result)"
   ]
  },
  {
   "cell_type": "markdown",
   "id": "1007f984-9c90-49af-ab0d-d476dc482246",
   "metadata": {},
   "source": [
    "9. Uma empresa possui filiais espalhadas nos Estados da região Sudeste do Brasil. Em uma das tabelas de cadastro das filiais há uma coluna contendo a informação de qual é o Estado a que pertence: estados = ['SP', 'ES', 'MG', 'MG', 'SP', 'MG', 'ES', 'ES', 'ES', 'SP', 'SP', 'MG', 'ES', 'SP', 'RJ', 'MG', 'RJ', 'SP', 'MG', 'SP', 'ES', 'SP', 'MG'].\n",
    "\n",
    "- A empresa sempre está abrindo novas filiais, de modo que a tabela está constantemente recebendo novos registros e o gestor gostaria de possuir a informação atualizada da quantidade de filiais em cada Estado.\n",
    "- A partir da coluna com a informação dos Estados, crie um dicionário usando dict comprehension com a chave sendo o nome de um Estado e o valor sendo a contagem de vezes em que o Estado aparece na lista."
   ]
  },
  {
   "cell_type": "code",
   "execution_count": null,
   "id": "6711f7da-93d9-496b-a535-7a38a598c81d",
   "metadata": {},
   "outputs": [],
   "source": [
    "estados = ['SP', 'ES', 'MG', 'MG', 'SP', 'MG', 'ES', 'ES', 'ES', 'SP', 'SP', 'MG', 'ES', 'SP', 'RJ', 'MG', 'RJ', 'SP', 'MG', 'SP', 'ES', 'SP', 'MG']\n",
    "\n",
    "# Criando o dicionário usando dict comprehension\n",
    "contagem_filiais = {estado: estados.count(estado) for estado in set(estados)}\n",
    "\n",
    "print(contagem_filiais)"
   ]
  },
  {
   "cell_type": "markdown",
   "id": "8282650a-9134-4e2c-bd9c-437b79df1233",
   "metadata": {},
   "source": [
    "10. Nessa mesma tabela de cadastro de filiais, há uma coluna com as informações da quantidade de pessoas colaboradoras e o(a) gestor(a) gostaria de ter um agrupamento da soma dessas pessoas para cada estado. As informações contidas na tabela são:\n",
    "\n",
    "- funcionarios = [('SP', 16), ('ES', 8), ('MG', 9), ('MG', 6), ('SP', 10), ('MG', 4), ('ES',9), ('ES', 7), ('ES', 12), ('SP', 7), ('SP', 11), ('MG',8), ('ES',8), ('SP',9), ('RJ', 13), ('MG', 5), ('RJ', 9), ('SP', 12), ('MG', 10), ('SP', 7), ('ES', 14), ('SP', 10), ('MG', 12)]\n",
    "\n",
    "A partir da lista de tuplas, crie um dicionário em que as chaves são os nomes dos Estados únicos e os valores são as listas com o número de colaboradores(as) referentes ao Estado. Crie também um dicionário em que as chaves são os nomes dos Estados e os valores são a soma de colaboradores(as) por Estado."
   ]
  },
  {
   "cell_type": "code",
   "execution_count": null,
   "id": "1ec10449-da26-4bbf-a1b5-6def1c91e0c1",
   "metadata": {},
   "outputs": [],
   "source": [
    "funcionarios = [('SP', 16), ('ES', 8), ('MG', 9), ('MG', 6), ('SP', 10), ('MG', 4), \n",
    "                ('ES',9), ('ES', 7), ('ES', 12), ('SP', 7), ('SP', 11), ('MG',8), \n",
    "                ('ES',8), ('SP',9), ('RJ', 13), ('MG', 5), ('RJ', 9), ('SP', 12), \n",
    "                ('MG', 10), ('SP', 7), ('ES', 14), ('SP', 10), ('MG', 12)]\n",
    "\n",
    "dict = {}\n",
    "\n",
    "for estado, valor in funcionarios:\n",
    "    if estado not in dict:\n",
    "        dict[estado] = []\n",
    "    dict[estado].append(valor)\n",
    "\n",
    "for estado in dict:\n",
    "    dict[estado] = sum(dict[estado])\n",
    "\n",
    "print(dict)"
   ]
  },
  {
   "cell_type": "markdown",
   "id": "a4122b59-12a7-4333-b829-faa8805f4747",
   "metadata": {},
   "source": [
    "### Aula 4 - Lidando com exceções"
   ]
  },
  {
   "cell_type": "markdown",
   "id": "d39488f9-ce0f-4d19-b8f4-239621944d99",
   "metadata": {},
   "source": [
    "1. Faça um programa que solicite à pessoa usuária digitar dois números float e calcular a divisão entre esses números. O código deve conter um tratamento de erro, indicando o tipo de erro que foi gerado caso a divisão não seja possível de realizar. Teste o programa com o segundo valor numérico do input igual a 0. Também teste utilizando caracteres textuais no input para checar os tipos de erro que ocorrem."
   ]
  },
  {
   "cell_type": "code",
   "execution_count": null,
   "id": "841157f4-4f1b-49da-961c-37e936a44b32",
   "metadata": {},
   "outputs": [],
   "source": [
    "a = float(input(\"Digite um número fracionado: \"))\n",
    "b = float(input(\"Digite um outro número fracionado: \"))\n",
    "\n",
    "try:\n",
    "    print(a/b)\n",
    "except:\n",
    "    print(\"Nesse caso não há divisão com zero\")"
   ]
  },
  {
   "cell_type": "markdown",
   "id": "32816f0d-2763-4060-9355-69d31b152e56",
   "metadata": {},
   "source": [
    "2. Faça um programa que solicite à pessoa usuária digitar um texto que será uma chave a ser pesquisada no seguinte dicionário: idades = {'Júlia': 16, 'Carol': 23, 'Alberto': 19, 'Roberta': 17}, armazenando o resultado do valor em uma variável. O código deve conter um tratamento de erro KeyError, imprimindo a informação 'Nome não encontrado', caso ocorra o erro; e imprimir o valor caso não ocorra nenhum. Teste o programa com um nome presente em uma das chaves do dicionário e com um que não esteja no dicionário para verificar a mensagem de erro."
   ]
  },
  {
   "cell_type": "code",
   "execution_count": null,
   "id": "c06973f3-dcb2-4ab2-851d-21e1794794d0",
   "metadata": {},
   "outputs": [],
   "source": [
    "idades = {'Júlia': 16, 'Carol': 23, 'Alberto': 19, 'Roberta': 17}\n",
    "\n",
    "nome = input(\"Digite um nome: \")\n",
    "\n",
    "try:\n",
    "    idade = idades[nome]\n",
    "    print(f\"A idade de {nome} é {idade}.\")\n",
    "except KeyError:\n",
    "    print(\"Nome não encontrado\")"
   ]
  },
  {
   "cell_type": "markdown",
   "id": "2f586be9-aec6-4632-b17e-20778bb80cbc",
   "metadata": {},
   "source": [
    "3. Crie uma função que recebe uma lista como parâmetro e converta todos os valores da lista para float. A função deve conter um tratamento de erro indicando o tipo de erro gerado e retornar a lista caso não tenha ocorrido nenhum erro. Por fim, deve ter a cláusula finally para imprimir o texto: 'Fim da execução da função'."
   ]
  },
  {
   "cell_type": "code",
   "execution_count": null,
   "id": "e7ccc2de-0868-4f26-9f27-35bfb7d7cbee",
   "metadata": {},
   "outputs": [],
   "source": [
    "def converte_lista_para_float(lista):\n",
    "    try:\n",
    "        # Convertendo todos os valores da lista para float\n",
    "        lista_convertida = [float(item) for item in lista]\n",
    "        return lista_convertida\n",
    "    except ValueError as e:\n",
    "        print(f\"Erro de valor: {e}\")\n",
    "    except TypeError as e:\n",
    "        print(f\"Erro de tipo: {e}\")\n",
    "    except Exception as e:\n",
    "        print(f\"Erro inesperado: {e}\")\n",
    "    finally:\n",
    "        print(\"Fim da execução da função\")\n",
    "\n",
    "# Testando a função\n",
    "lista = [\"1.2\", \"2.3\", \"3.4\"]\n",
    "resultado = converte_lista_para_float(lista)\n",
    "print(\"Lista convertida:\", resultado)\n",
    "\n",
    "lista_com_erro = [\"1.2\", \"dois\", \"3.4\"]\n",
    "resultado_com_erro = converte_lista_para_float(lista_com_erro)\n",
    "print(\"Lista com erro convertida:\", resultado_com_erro)"
   ]
  },
  {
   "cell_type": "markdown",
   "id": "1f6ca031-4e8a-4623-a3c9-f03b1020c6b8",
   "metadata": {},
   "source": [
    "4. Crie uma função que recebe duas listas como parâmetros e agrupe os elementos um a um das listas, formando uma lista de tuplas de 3 elementos, no qual o primeiro e segundo elemento da tupla são os valores na posição i das listas e o terceiro elemento é a soma dos valores na posição i das listas. A função deve conter um tratamento de erro indicando o tipo de erro gerado e retornar como resultado a lista de tuplas. Caso as listas enviadas como parâmetro tenham tamanhos diferentes, a função deve retornar um IndexError com a frase: 'A quantidade de elementos em cada lista é diferente.' Dados para testar a função:\n",
    "\n",
    "- Valores sem erro:\\\n",
    "lista1 = [4,6,7,9,10]\\\n",
    "lista2 = [-4,6,8,7,9]\n",
    "\n",
    "- Listas com tamanhos diferentes:\\\n",
    "lista1 = [4,6,7,9,10,4]\\\n",
    "lista2 = [-4,6,8,7,9]\n",
    "\n",
    "- Listas com valores incoerentes:\\\n",
    "lista1 = [4,6,7,9,'A']\\\n",
    "lista2 = [-4,'E',8,7,9]\n"
   ]
  },
  {
   "cell_type": "code",
   "execution_count": null,
   "id": "fb24da75-bbf3-4738-8209-7a9d2f15f544",
   "metadata": {},
   "outputs": [],
   "source": [
    "def agrupar_e_somar_listas(lista1, lista2):\n",
    "    try:\n",
    "        if len(lista1) != len(lista2):\n",
    "            raise IndexError(\"A quantidade de elementos em cada lista é diferente.\")\n",
    "        \n",
    "        lista_agrupada = [(lista1[i], lista2[i], lista1[i] + lista2[i]) for i in range(len(lista1))]\n",
    "        return lista_agrupada\n",
    "    \n",
    "    except IndexError as e:\n",
    "        print(e)\n",
    "        return []\n",
    "    except TypeError as e:\n",
    "        print(f\"Erro de tipo: {e}\")\n",
    "        return []\n",
    "    except Exception as e:\n",
    "        print(f\"Erro inesperado: {e}\")\n",
    "        return []\n",
    "\n",
    "# Testando a função com valores sem erro\n",
    "lista1 = [4, 6, 7, 9, 10]\n",
    "lista2 = [-4, 6, 8, 7, 9]\n",
    "resultado = agrupar_e_somar_listas(lista1, lista2)\n",
    "print(\"Resultado com valores sem erro:\", resultado)\n",
    "\n",
    "# Testando a função com listas de tamanhos diferentes\n",
    "lista1_dif = [4, 6, 7, 9, 10, 4]\n",
    "lista2_dif = [-4, 6, 8, 7, 9]\n",
    "resultado_dif = agrupar_e_somar_listas(lista1_dif, lista2_dif)\n",
    "print(\"Resultado com listas de tamanhos diferentes:\", resultado_dif)\n",
    "\n",
    "# Testando a função com valores incoerentes\n",
    "lista1_incoerente = [4, 6, 7, 9, 'A']\n",
    "lista2_incoerente = [-4, 'E', 8, 7, 9]\n",
    "resultado_incoerente = agrupar_e_somar_listas(lista1_incoerente, lista2_incoerente)\n",
    "print(\"Resultado com valores incoerentes:\", resultado_incoerente)"
   ]
  },
  {
   "cell_type": "markdown",
   "id": "bab5f9a4-44b8-4d9f-b948-0cef09d47d91",
   "metadata": {},
   "source": [
    "5. Como desafio, você recebeu a tarefa de desenvolver um código que contabiliza as pontuações de estudantes de uma instituição de ensino de acordo com suas respostas num teste. Este código deve ser testado para um exemplo de 3 estudantes com uma lista de listas em que cada lista possui as respostas de 5 questões objetivas de cada estudante. Cada questão vale um ponto e as alternativas possíveis são A, B, C ou D. Caso alguma alternativa em um dos testes não esteja entre as alternativas possíveis, você deve lançar um ValueError com a mensagem \"A alternativa [alternativa] não é uma opção de alternativa válida\". O cálculo das 3 notas só será realizado mediante as entradas com as alternativas A, B, C ou D em todos os testes. Se não for lançada a exceção, será exibida uma lista com as notas em cada teste. Os dados para o teste do código são:\n",
    "\n",
    "- Gabarito da prova:\\\n",
    "gabarito = ['D', 'A', 'B', 'C', 'A']\n",
    "\n",
    "- Notas sem exceção:\\\n",
    "testes_sem_ex = [['D', 'A', 'B', 'C', 'A'], ['C', 'A', 'A', 'C', 'A'], ['D', 'B', 'A', 'C', 'A']]\n",
    "\n",
    "- Notas com exceção:\\\n",
    "testes_com_ex = [['D', 'A', 'B', 'C', 'A'], ['C', 'A', 'A', 'E', 'A'], ['D', 'B', 'A', 'C', 'A']]"
   ]
  },
  {
   "cell_type": "code",
   "execution_count": null,
   "id": "792cf32f-4481-4f53-8b50-28bcacbf4493",
   "metadata": {},
   "outputs": [],
   "source": [
    "def calcular_notas(gabarito, testes):\n",
    "    # Verificar se todas as respostas são válidas (A, B, C ou D)\n",
    "    for teste in testes:\n",
    "        for resposta in teste:\n",
    "            if resposta not in ['A', 'B', 'C', 'D']:\n",
    "                raise ValueError(f\"A alternativa {resposta} não é uma opção de alternativa válida\")\n",
    "    \n",
    "    # Calcular as notas de cada estudante\n",
    "    notas = []\n",
    "    for teste in testes:\n",
    "        nota = sum(1 for resposta, correta in zip(teste, gabarito) if resposta == correta)\n",
    "        notas.append(nota)\n",
    "    \n",
    "    return notas\n",
    "\n",
    "# Gabarito da prova\n",
    "gabarito = ['D', 'A', 'B', 'C', 'A']\n",
    "\n",
    "# Notas sem exceção\n",
    "testes_sem_ex = [['D', 'A', 'B', 'C', 'A'], ['C', 'A', 'A', 'C', 'A'], ['D', 'B', 'A', 'C', 'A']]\n",
    "\n",
    "# Notas com exceção\n",
    "testes_com_ex = [['D', 'A', 'B', 'C', 'A'], ['C', 'A', 'A', 'E', 'A'], ['D', 'B', 'A', 'C', 'A']]\n",
    "\n",
    "# Testando com entradas válidas\n",
    "try:\n",
    "    notas_sem_ex = calcular_notas(gabarito, testes_sem_ex)\n",
    "    print(\"Notas sem exceção:\", notas_sem_ex)\n",
    "except ValueError as e:\n",
    "    print(e)\n",
    "\n",
    "# Testando com entradas inválidas\n",
    "try:\n",
    "    notas_com_ex = calcular_notas(gabarito, testes_com_ex)\n",
    "    print(\"Notas com exceção:\", notas_com_ex)\n",
    "except ValueError as e:\n",
    "    print(e)"
   ]
  },
  {
   "cell_type": "markdown",
   "id": "162a9d63-7beb-4b62-9058-1343762aec81",
   "metadata": {},
   "source": [
    "6. Você está trabalhando com processamento de linguagem natural (NLP) e, dessa vez, sua líder requisitou que você criasse um trecho de código que recebe uma lista com as palavras separadas de uma frase gerada pelo ChatGPT. Você precisa criar uma função que avalia cada palavra desse texto e verificar se o tratamento para retirar os símbolos de pontuação (',' '.', '!' e '?') foi realizado. Caso contrário, será lançada uma exceção do tipo ValueError apontando o 1º caso em que foi detectado o uso de uma pontuação por meio da frase \"O texto apresenta pontuações na palavra \"[palavra]\".\". Essa demanda é voltada para a análise do padrão de frases geradas pela inteligência artificial.\n",
    "\n",
    "Os dados para o teste do código são:\n",
    "\n",
    "- Lista tratada:\\\n",
    "lista_tratada = ['Python', 'é', 'uma', 'linguagem', 'de', 'programação', 'poderosa', 'versátil',\n",
    "                  'e', 'fácil', 'de', 'aprender', 'utilizada', 'em', 'diversos', 'campos', 'desde',\n",
    "                  'análise', 'de', 'dados', 'até', 'inteligência', 'artificial']\n",
    "\n",
    "- Lista não tratada:\\\n",
    "lista_nao_tratada = ['Python', 'é', 'uma', 'linguagem', 'de', 'programação', 'poderosa,', 'versátil',\n",
    "                  'e', 'fácil,', 'de', 'aprender', 'utilizada', 'em', 'diversos', 'campos,', 'desde',\n",
    "                  'análise', 'de', 'dados', 'até', 'inteligência', 'artificial!']"
   ]
  },
  {
   "cell_type": "code",
   "execution_count": null,
   "id": "7dfe6d9a-4677-483c-8f0c-0093e4c5c351",
   "metadata": {},
   "outputs": [],
   "source": [
    "def verificar_pontuacao(lista_palavras):\n",
    "    # Definindo os símbolos de pontuação a serem verificados\n",
    "    simbolos_pontuacao = [',', '.', '!', '?']\n",
    "    \n",
    "    # Percorrendo cada palavra na lista\n",
    "    for palavra in lista_palavras:\n",
    "        # Verificando se a palavra contém algum símbolo de pontuação\n",
    "        for simbolo in simbolos_pontuacao:\n",
    "            if simbolo in palavra:\n",
    "                raise ValueError(f'O texto apresenta pontuações na palavra \"{palavra}\".')\n",
    "    \n",
    "    # Se não houver exceções, todas as palavras estão sem pontuação\n",
    "    print(\"Todas as palavras estão sem pontuação.\")\n",
    "\n",
    "# Dados para o teste do código\n",
    "lista_tratada = ['Python', 'é', 'uma', 'linguagem', 'de', 'programação', 'poderosa', 'versátil',\n",
    "                 'e', 'fácil', 'de', 'aprender', 'utilizada', 'em', 'diversos', 'campos', 'desde',\n",
    "                 'análise', 'de', 'dados', 'até', 'inteligência', 'artificial']\n",
    "\n",
    "lista_nao_tratada = ['Python', 'é', 'uma', 'linguagem', 'de', 'programação', 'poderosa,', 'versátil',\n",
    "                     'e', 'fácil,', 'de', 'aprender', 'utilizada', 'em', 'diversos', 'campos,', 'desde',\n",
    "                     'análise', 'de', 'dados', 'até', 'inteligência', 'artificial!']\n",
    "\n",
    "# Testando a função com a lista tratada\n",
    "try:\n",
    "    verificar_pontuacao(lista_tratada)\n",
    "except ValueError as e:\n",
    "    print(e)\n",
    "\n",
    "# Testando a função com a lista não tratada\n",
    "try:\n",
    "    verificar_pontuacao(lista_nao_tratada)\n",
    "except ValueError as e:\n",
    "    print(e)"
   ]
  },
  {
   "cell_type": "markdown",
   "id": "29e066ae-c8f5-4021-bdf6-04df77b9a6cc",
   "metadata": {},
   "source": [
    "7. Você foi contratado(a) como uma pessoa cientista de dados para auxiliar um laboratório que faz experimentos sobre o comportamento de uma cultura de fungos. O laboratório precisa avaliar constantemente a razão (divisão) entre os dados de pressão e temperatura do ambiente controlado recolhidos durante a experimentação para definir a melhor condição para os testes. Para cumprir com a demanda, você precisa criar uma função divide_colunas que recebe os dados das colunas de pressão e temperatura (que vem no formato de listas) e gerar uma nova coluna com o resultado da divisão. Os parâmetros da função são as duas listas e você deve tratar dentro dela ao menos 2 tipos de exceções:\n",
    "\n",
    "- Verificar se as listas têm o mesmo tamanho (ValueError)\n",
    "- Verificar se existe alguma divisão por zero (ZeroDivisionError)\\\n",
    "Para testar a função, vamos realizar a divisão entre duas listas de dados coletados no experimento, com os valores de pressão e temperatura do ambiente controlado.\n",
    "\n",
    "Como teste, use os seguintes dados:\n",
    "\n",
    "- Dados sem exceção:\\\n",
    "pressoes = [100, 120, 140, 160, 180]\\\n",
    "temperaturas = [20, 25, 30, 35, 40]\n",
    "\n",
    "Dados com exceção:\n",
    "1) Exceção de ZeroDivisionError\n",
    "\n",
    "pressoes = [60, 120, 140, 160, 180]\\\n",
    "temperaturas = [0, 25, 30, 35, 40]\n",
    "\n",
    "2) Exceção de ValueError\n",
    "\n",
    "pressoes = [100, 120, 140, 160]\\\n",
    "temperaturas = [20, 25, 30, 35, 40]"
   ]
  },
  {
   "cell_type": "code",
   "execution_count": null,
   "id": "23980027-c222-48ce-b51c-59e9b0a81a49",
   "metadata": {},
   "outputs": [],
   "source": [
    "def divide_colunas(pressoes, temperaturas):\n",
    "\n",
    "    razoes = []\n",
    "\n",
    "    if len(pressoes) == len(temperaturas):\n",
    "        for i in range(len(pressoes)):\n",
    "            if temperaturas[i] > 0:\n",
    "                razoes.append(pressoes[i]/temperaturas[i])\n",
    "            else:\n",
    "                raise ValueError(\"Divisão por zero\")\n",
    "    else:\n",
    "        raise ValueError(\"O tamanho das colunas são diferentes\")\n",
    "\n",
    "    return razoes\n",
    "\n",
    "# Dados sem exceção:\n",
    "pressoes = [100, 120, 140, 160, 180]\n",
    "temperaturas = [20, 25, 30, 35, 40]\n",
    "\n",
    "try: \n",
    "    print(divide_colunas(pressoes, temperaturas))\n",
    "except ValueError as e:\n",
    "    print(e)\n",
    "\n",
    "#Dados com exceção:\n",
    "\n",
    "#Exceção de ZeroDivisionError\n",
    "pressoes = [60, 120, 140, 160, 180]\n",
    "temperaturas = [0, 25, 30, 35, 40]\n",
    "\n",
    "try: \n",
    "    divide_colunas(pressoes, temperaturas)\n",
    "except ValueError as e:\n",
    "    print(e)\n",
    "\n",
    "#Exceção de ValueError\n",
    "pressoes = [100, 120, 140, 160]\n",
    "temperaturas = [20, 25, 30, 35, 40]\n",
    "\n",
    "try: \n",
    "    divide_colunas(pressoes, temperaturas)\n",
    "except ValueError as e:\n",
    "    print(e)"
   ]
  }
 ],
 "metadata": {
  "kernelspec": {
   "display_name": "Python 3 (Spyder)",
   "language": "python3",
   "name": "python3"
  },
  "language_info": {
   "codemirror_mode": {
    "name": "ipython",
    "version": 3
   },
   "file_extension": ".py",
   "mimetype": "text/x-python",
   "name": "python",
   "nbconvert_exporter": "python",
   "pygments_lexer": "ipython3",
   "version": "3.11.8"
  }
 },
 "nbformat": 4,
 "nbformat_minor": 5
}
