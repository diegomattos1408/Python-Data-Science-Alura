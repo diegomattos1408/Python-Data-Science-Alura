{
 "cells": [
  {
   "cell_type": "markdown",
   "id": "e20331f0-9e5c-4b20-a331-8c758526d563",
   "metadata": {},
   "source": [
    "## Python para Data Science: trabalhando com funções, estruturas de dados e exceções"
   ]
  },
  {
   "cell_type": "markdown",
   "id": "383c343e-25f2-4ec4-ba53-80ab68b31b01",
   "metadata": {},
   "source": [
    "### Aula 1 - Bibliotecas"
   ]
  },
  {
   "cell_type": "markdown",
   "id": "024f5af1-e84b-4d54-acf4-062d416cc517",
   "metadata": {},
   "source": [
    "1. Escreva um código para instalar a versão 3.7.1 da biblioteca matplotlib."
   ]
  },
  {
   "cell_type": "markdown",
   "id": "4f14dddf-120a-4b63-9988-324174b97c8f",
   "metadata": {},
   "source": [
    "!pip install matplotlib==3.7.1"
   ]
  },
  {
   "cell_type": "markdown",
   "id": "5637ce42-ad6e-4549-a5b9-28a4c0b4413c",
   "metadata": {},
   "source": [
    "2. Escreva um código para importar a biblioteca numpy com o alias np."
   ]
  },
  {
   "cell_type": "code",
   "execution_count": null,
   "id": "0c185242-843f-43bd-8d5f-d46b2b6a2c50",
   "metadata": {},
   "outputs": [],
   "source": [
    "import numpy as np"
   ]
  },
  {
   "cell_type": "markdown",
   "id": "35e2de89-9c5a-460e-837a-814a44c49f99",
   "metadata": {},
   "source": [
    "3. Crie um programa que leia a seguinte lista de números e escolha um número desta aleatoriamente.\n",
    "\n",
    "lista = [8, 12, 54, 23, 43, 1, 90, 87, 105, 77]"
   ]
  },
  {
   "cell_type": "code",
   "execution_count": null,
   "id": "6b8b01ca-b6ef-4a6d-8955-48cad3e5c921",
   "metadata": {},
   "outputs": [],
   "source": [
    "import random\n",
    "\n",
    "# Lista de números\n",
    "lista = [8, 12, 54, 23, 43, 1, 90, 87, 105, 77]\n",
    "\n",
    "# Escolhe um número aleatoriamente da lista\n",
    "numero_aleatorio = random.choice(lista)\n",
    "\n",
    "# Imprime o número escolhido\n",
    "print(\"Número escolhido aleatoriamente:\", numero_aleatorio)"
   ]
  },
  {
   "cell_type": "markdown",
   "id": "d6af1320-d675-4e07-965d-37c9de1b0d81",
   "metadata": {},
   "source": [
    "4. Crie um programa que sorteia, aleatoriamente, um número inteiro positivo menor que 100."
   ]
  },
  {
   "cell_type": "code",
   "execution_count": null,
   "id": "42e7ac6c-1325-444a-b0c8-841d40d1e2e9",
   "metadata": {},
   "outputs": [],
   "source": [
    "import random\n",
    "\n",
    "# Sorteia um número inteiro positivo menor que 100\n",
    "numero_aleatorio = random.randint(0, 99)\n",
    "\n",
    "# Imprime o número sorteado\n",
    "print(\"Número sorteado aleatoriamente:\", numero_aleatorio)"
   ]
  },
  {
   "cell_type": "markdown",
   "id": "c29fb288-1dce-441e-b5e8-cc56659e1169",
   "metadata": {},
   "source": [
    "5. Crie um programa que solicite à pessoa usuária digitar dois números inteiros e calcular a potência do 1º número elevado ao 2º."
   ]
  },
  {
   "cell_type": "code",
   "execution_count": null,
   "id": "392b9668-845f-4d5c-8fe9-198f2a32b33c",
   "metadata": {},
   "outputs": [],
   "source": [
    "# Solicita dois números inteiros à pessoa usuária\n",
    "base = int(input(\"Digite o primeiro número (base): \"))\n",
    "expoente = int(input(\"Digite o segundo número (expoente): \"))\n",
    "\n",
    "# Calcula a potência\n",
    "resultado = base ** expoente\n",
    "\n",
    "# Imprime o resultado\n",
    "print(f\"{base} elevado a {expoente} é igual a {resultado}\")"
   ]
  },
  {
   "cell_type": "markdown",
   "id": "66ca9982-960e-40a8-a079-d394aab744a4",
   "metadata": {},
   "source": [
    "6. Um programa deve ser escrito para sortear uma pessoa seguidora de uma rede social para ganhar um prêmio. A lista de participantes é numerada e devemos escolher aleatoriamente um número de acordo com a quantidade de participantes. Peça à pessoa usuária para fornecer o número de participantes do sorteio e devolva para ela o número sorteado."
   ]
  },
  {
   "cell_type": "code",
   "execution_count": null,
   "id": "32e2308e-dfdf-4b70-b520-8c7c3d430aa8",
   "metadata": {},
   "outputs": [],
   "source": [
    "import random\n",
    "\n",
    "# Solicita à pessoa usuária fornecer o número de participantes\n",
    "num_participantes = int(input(\"Digite o número de participantes do sorteio: \"))\n",
    "\n",
    "# Verifica se o número de participantes é maior que 0\n",
    "if num_participantes > 0:\n",
    "    # Sorteia um número aleatoriamente entre 1 e o número de participantes\n",
    "    numero_sorteado = random.randint(1, num_participantes)\n",
    "\n",
    "    # Imprime o número sorteado\n",
    "    print(f\"O número sorteado é: {numero_sorteado}\")\n",
    "else:\n",
    "    print(\"O número de participantes deve ser maior que 0.\")"
   ]
  },
  {
   "cell_type": "markdown",
   "id": "6f0e5da1-424a-496e-a44b-3ee49696fa0c",
   "metadata": {},
   "source": [
    "7. Você recebeu uma demanda para gerar números de token para acessar o aplicativo de uma empresa. O token precisa ser par e variar de 1000 até 9998. Escreva um código que solicita à pessoa usuária o seu nome e exibe uma mensagem junto a esse token gerado aleatoriamente.\n",
    "\n",
    "\"Olá, [nome], o seu token de acesso é [token]! Seja bem-vindo(a)!\""
   ]
  },
  {
   "cell_type": "code",
   "execution_count": null,
   "id": "7db586d4-4e4f-4d7f-b518-f626036b2e50",
   "metadata": {},
   "outputs": [],
   "source": [
    "# Solicita o nome da pessoa usuária\n",
    "nome = input(\"Digite o seu nome: \")\n",
    "\n",
    "# Gera um token par entre 1000 e 9998\n",
    "token = random.choice(range(1000, 9999, 2))\n",
    "\n",
    "# Exibe a mensagem com o token gerado\n",
    "print(f\"Olá, {nome}, o seu token de acesso é {token}! Seja bem-vindo(a)!\")"
   ]
  },
  {
   "cell_type": "markdown",
   "id": "715e95f4-97e1-4860-a507-6b82178a7074",
   "metadata": {},
   "source": [
    "8. Para diversificar e atrair novos(as) clientes, uma lanchonete criou um item misterioso em seu cardápio chamado \"salada de frutas surpresa\". Neste item, são escolhidas aleatoriamente 3 frutas de uma lista de 12 para compor a salada de frutas da pessoa cliente. Crie o código que faça essa seleção aleatória de acordo com a lista abaixo:\n",
    "\n",
    "frutas = [\"maçã\", \"banana\", \"uva\", \"pêra\", \n",
    "          \"manga\", \"coco\", \"melancia\", \"mamão\",\n",
    "          \"laranja\", \"abacaxi\", \"kiwi\", \"ameixa\"]"
   ]
  },
  {
   "cell_type": "code",
   "execution_count": null,
   "id": "40e617d9-8e2e-4421-beb2-38500c47ab8e",
   "metadata": {},
   "outputs": [],
   "source": [
    "# Lista de frutas\n",
    "frutas = [\"maçã\", \"banana\", \"uva\", \"pêra\", \n",
    "          \"manga\", \"coco\", \"melancia\", \"mamão\",\n",
    "          \"laranja\", \"abacaxi\", \"kiwi\", \"ameixa\"]\n",
    "\n",
    "# Seleciona aleatoriamente 3 frutas da lista\n",
    "salada_de_frutas_surpresa = random.sample(frutas, 3)\n",
    "\n",
    "# Imprime as frutas selecionadas\n",
    "print(\"A salada de frutas surpresa contém:\", salada_de_frutas_surpresa)"
   ]
  },
  {
   "cell_type": "markdown",
   "id": "7b28b8b3-2f39-4a5b-bd41-ebff0586b86a",
   "metadata": {},
   "source": [
    "9. Você recebeu um desafio de calcular a raiz quadrada de uma lista de números, identificando quais resultaram em um número inteiro. A lista é a seguinte:\\\n",
    "numeros = [2, 8, 15, 23, 91, 112, 256]\\\n",
    "No final, informe quais números possuem raízes inteiras e seus respectivos valores.\\\n",
    "Saída:\\\n",
    "1,5 é inteiro? : False\\\n",
    "2 é inteiro? : True"
   ]
  },
  {
   "cell_type": "code",
   "execution_count": null,
   "id": "3878c4ac-57e4-49c6-a51f-9e6feda2e923",
   "metadata": {},
   "outputs": [],
   "source": [
    "import math\n",
    "\n",
    "# Lista de números\n",
    "numeros = [2, 8, 15, 23, 91, 112, 256]\n",
    "\n",
    "# Lista para armazenar números com raízes inteiras\n",
    "numeros_com_raizes_inteiras = []\n",
    "\n",
    "# Verifica a raiz quadrada de cada número na lista\n",
    "for num in numeros:\n",
    "    raiz = math.sqrt(num)\n",
    "    if raiz // 1 == raiz:\n",
    "        numeros_com_raizes_inteiras.append((num, int(raiz)))\n",
    "\n",
    "# Imprime os números que possuem raízes inteiras e seus respectivos valores\n",
    "print(\"Números com raízes inteiras e seus respectivos valores:\")\n",
    "for numero, raiz in numeros_com_raizes_inteiras:\n",
    "    print(f\"Número: {numero}, Raiz quadrada: {raiz}\")"
   ]
  },
  {
   "cell_type": "markdown",
   "id": "4123883b-740f-4893-b39a-894da9e011b5",
   "metadata": {},
   "source": [
    "10. Faça um programa para uma loja que vende grama para jardins. Essa loja trabalha com jardins circulares e o preço do metro quadrado da grama é de R$ 25,00. Peça à pessoa usuária o raio da área circular e devolva o valor em reais do quanto precisará pagar."
   ]
  },
  {
   "cell_type": "code",
   "execution_count": null,
   "id": "31dadba1-64fb-4853-b771-ed2adbc0cd07",
   "metadata": {},
   "outputs": [],
   "source": [
    "# Preço por metro quadrado da grama\n",
    "preco_metro_quadrado = 25.00\n",
    "\n",
    "# Solicita o raio da área circular à pessoa usuária\n",
    "raio = float(input(\"Digite o raio da área circular em metros: \"))\n",
    "\n",
    "# Calcula a área do círculo\n",
    "area = math.pi * math.pow(raio, 2)\n",
    "\n",
    "# Calcula o valor total a ser pago\n",
    "valor_total = area * preco_metro_quadrado\n",
    "\n",
    "# Imprime o valor total\n",
    "print(f\"O valor a ser pago pela grama é: R$ {valor_total:.2f}\")"
   ]
  },
  {
   "cell_type": "markdown",
   "id": "44c1c611-19a2-44a9-8f64-4af185b618f4",
   "metadata": {},
   "source": [
    "### Aula 2 - Funções"
   ]
  },
  {
   "cell_type": "markdown",
   "id": "6bd03fdf-0f59-4faa-8634-5d38c62d97c6",
   "metadata": {},
   "source": [
    "1. Escreva um código que lê a lista abaixo e faça:\n",
    "\n",
    "lista = [16, 14, 63, 65, 17, 99, 70, 11, 20, 48, 79, 32, 17, 89, 12, 25, 66]\n",
    "\n",
    "A leitura do tamanho da lista\\\n",
    "A leitura do maior e menor valor\\\n",
    "A soma dos valores da lista\\\n",
    "Ao final exiba uma mensagem dizendo:\n",
    "\n",
    "\"A lista possui [tam] números em que o maior número é [maior] e o menor número é [menor]. A soma dos valores presentes nela é igual a [soma]\""
   ]
  },
  {
   "cell_type": "code",
   "execution_count": null,
   "id": "d59449f2-4822-4cf7-80cd-c3f17d9ceefb",
   "metadata": {},
   "outputs": [],
   "source": [
    "# Lista fornecida\n",
    "lista = [16, 14, 63, 65, 17, 99, 70, 11, 20, 48, 79, 32, 17, 89, 12, 25, 66]\n",
    "\n",
    "# Leitura do tamanho da lista\n",
    "tamanho_lista = len(lista)\n",
    "\n",
    "# Leitura do maior e menor valor da lista\n",
    "maior_valor = max(lista)\n",
    "menor_valor = min(lista)\n",
    "\n",
    "# Soma dos valores da lista\n",
    "soma_valores = sum(lista)\n",
    "\n",
    "# Exibe a mensagem com as informações\n",
    "mensagem = (f\"A lista possui {tamanho_lista} números em que o maior número é {maior_valor} \"\n",
    "            f\"e o menor número é {menor_valor}. A soma dos valores presentes nela é igual a {soma_valores}\")\n",
    "\n",
    "print(mensagem)"
   ]
  },
  {
   "cell_type": "markdown",
   "id": "83acb192-bba9-447a-9436-0b9b9a762302",
   "metadata": {},
   "source": [
    "2. Escreva uma função que gere a tabuada de um número inteiro de 1 a 10, de acordo com a escolha da pessoa usuária. Como exemplo, para o número 7, a tabuada deve ser mostrada no seguinte formato:\n",
    "\n",
    "Tabuada do 7:\\\n",
    "7 x 0 = 0\\\n",
    "7 x 1 = 7\\\n",
    "[...]\\\n",
    "7 x 10 = 70"
   ]
  },
  {
   "cell_type": "code",
   "execution_count": null,
   "id": "7dc21e60-cf67-4a1b-9fe5-8136641b45e1",
   "metadata": {},
   "outputs": [],
   "source": [
    "def gerar_tabuada(numero):\n",
    "    print(f\"Tabuada do {numero}:\")\n",
    "    for i in range(11):\n",
    "        resultado = numero * i\n",
    "        print(f\"{numero} x {i} = {resultado}\")\n",
    "\n",
    "numero_escolhido = int(input(\"Digite um número inteiro para ver a tabuada: \"))\n",
    "gerar_tabuada(numero_escolhido)"
   ]
  },
  {
   "cell_type": "markdown",
   "id": "6a458f56-d5ef-49e8-8c86-7caec9f309a2",
   "metadata": {},
   "source": [
    "3. Crie a função que leia a lista abaixo e retorne uma nova lista com os múltiplos de 3:\n",
    "\n",
    "[97, 80, 94, 88, 80, 1, 16, 53, 62, 32, 24, 99]\\\n",
    "\n",
    "Utilize o return na função e salve a nova lista na variável mult_3."
   ]
  },
  {
   "cell_type": "code",
   "execution_count": null,
   "id": "533d79fd-f65e-4502-854b-2309f632a32e",
   "metadata": {},
   "outputs": [],
   "source": [
    "def encontrar_multiplos_de_3(lista):\n",
    "    # Cria uma nova lista com os múltiplos de 3\n",
    "    multiplos_de_3 = [numero for numero in lista if numero % 3 == 0]\n",
    "    return multiplos_de_3\n",
    "\n",
    "# Lista fornecida\n",
    "lista = [97, 80, 94, 88, 80, 1, 16, 53, 62, 32, 24, 99]\n",
    "\n",
    "# Chama a função e salva a nova lista na variável mult_3\n",
    "mult_3 = encontrar_multiplos_de_3(lista)\n",
    "\n",
    "# Imprime a nova lista com os múltiplos de 3\n",
    "print(\"Múltiplos de 3 na lista:\", mult_3)"
   ]
  },
  {
   "cell_type": "markdown",
   "id": "64503765-2278-4a4b-9b57-8d68d9fe0ca8",
   "metadata": {},
   "source": [
    "4. Crie uma lista dos quadrados dos números da seguinte lista [1, 2, 3, 4, 5, 6, 7, 8, 9, 10]. Lembre-se de utilizar as funções lambda e map() para calcular o quadrado de cada elemento da lista."
   ]
  },
  {
   "cell_type": "code",
   "execution_count": null,
   "id": "446e7170-510f-4135-ae92-3a72abc5a39f",
   "metadata": {},
   "outputs": [],
   "source": [
    "# Lista fornecida\n",
    "lista = [1, 2, 3, 4, 5, 6, 7, 8, 9, 10]\n",
    "\n",
    "# Usa a função lambda e map() para calcular o quadrado de cada elemento da lista\n",
    "quadrados = list(map(lambda x: x**2, lista))\n",
    "\n",
    "# Imprime a lista dos quadrados\n",
    "print(\"Lista dos quadrados:\", quadrados)"
   ]
  },
  {
   "cell_type": "markdown",
   "id": "df8a877c-f7a4-44be-b054-2455bab75892",
   "metadata": {},
   "source": [
    "5. Você foi contratado(a) como cientista de dados de uma associação de skate. Para analisar as notas recebidas de skatistas em algumas competições ao longo do ano, você precisa criar um código que calcula a pontuação dos(as) atletas. Para isso, o seu código deve receber 5 notas digitadas pelas pessoas juradas.\n",
    "\n",
    "Para calcular a pontuação de um(a) skatista, você precisa eliminar a maior e a menor pontuação dentre as 5 notas e tirar a média das 3 notas que sobraram. Retorne a média para apresentar o texto:\n",
    "\n",
    "\"Nota da manobra: [media]\""
   ]
  },
  {
   "cell_type": "code",
   "execution_count": null,
   "id": "1e050be5-c3c5-4728-b6a4-6e21daa98f82",
   "metadata": {},
   "outputs": [],
   "source": [
    "def calcular_pontuacao():\n",
    "    # Solicita as 5 notas das pessoas juradas\n",
    "    notas = []\n",
    "    for i in range(5):\n",
    "        nota = float(input(f\"Digite a nota {i+1}: \"))\n",
    "        notas.append(nota)\n",
    "    \n",
    "    # Elimina a maior e a menor pontuação\n",
    "    maior_nota = max(notas)\n",
    "    menor_nota = min(notas)\n",
    "    notas.remove(maior_nota)\n",
    "    notas.remove(menor_nota)\n",
    "    \n",
    "    # Calcula a média das 3 notas restantes\n",
    "    media = sum(notas) / len(notas)\n",
    "    \n",
    "    # Retorna a média com o texto especificado\n",
    "    return f\"Nota da manobra: {media:.2f}\"\n",
    "\n",
    "# Chama a função e imprime o resultado\n",
    "print(calcular_pontuacao())"
   ]
  },
  {
   "cell_type": "markdown",
   "id": "b6542410-d1a5-4b70-ae2e-c7e0b6a9df4c",
   "metadata": {},
   "source": [
    "6. Para atender a uma demanda de uma instituição de ensino para a análise do desempenho de seus(suas) estudantes, você precisa criar uma função que receba uma lista de 4 notas e retorne:\n",
    "\n",
    "maior nota\\\n",
    "menor nota\\\n",
    "média\\\n",
    "situação (Aprovado(a) ou Reprovado(a))\\\n",
    "Para testar o comportamento da função, os dados podem ser exibidos em um texto:\n",
    "\n",
    "\"O(a) estudante obteve uma média de [media], com a sua maior nota de [maior] pontos e a menor nota de [menor] pontos e foi [situacao]\""
   ]
  },
  {
   "cell_type": "code",
   "execution_count": null,
   "id": "6ec1f8bf-9919-4499-977b-cc10e1da963e",
   "metadata": {},
   "outputs": [],
   "source": [
    "def analisar_desempenho(notas):\n",
    "    # Calcula a maior nota\n",
    "    maior_nota = max(notas)\n",
    "    \n",
    "    # Calcula a menor nota\n",
    "    menor_nota = min(notas)\n",
    "    \n",
    "    # Calcula a média das notas\n",
    "    media = sum(notas) / len(notas)\n",
    "    \n",
    "    # Determina a situação (Aprovado(a) ou Reprovado(a))\n",
    "    situacao = \"Aprovado(a)\" if media >= 6 else \"Reprovado(a)\"\n",
    "    \n",
    "    return maior_nota, menor_nota, media, situacao\n",
    "\n",
    "# Solicita as 4 notas do(a) estudante\n",
    "notas = []\n",
    "for i in range(4):\n",
    "    nota = float(input(f\"Digite a nota {i+1}: \"))\n",
    "    notas.append(nota)\n",
    "\n",
    "# Chama a função e obtém os resultados\n",
    "maior_nota, menor_nota, media, situacao = analisar_desempenho(notas)\n",
    "\n",
    "# Exibe o texto com os resultados\n",
    "print(f\"O(a) estudante obteve uma média de {media:.2f}, com a sua maior nota de {maior_nota} pontos e a menor nota de {menor_nota} pontos e foi {situacao}\")"
   ]
  },
  {
   "cell_type": "markdown",
   "id": "6624ec50-dc16-4823-b0f8-baeb2e532b88",
   "metadata": {},
   "source": [
    "7. Você recebeu uma demanda para tratar 2 listas com os nomes e sobrenomes de cada estudante concatenando-as para apresentar seus nomes completos na forma Nome Sobrenome. As listas são:\n",
    "\n",
    "nomes = [\"joão\", \"MaRia\", \"JOSÉ\"]\\\n",
    "sobrenomes = [\"SILVA\", \"souza\", \"Tavares\"]\n",
    "\n",
    "O texto exibido ao fim deve ser parecido com:\\\n",
    "\"Nome completo: Ana Silva\""
   ]
  },
  {
   "cell_type": "code",
   "execution_count": null,
   "id": "db30fe45-d245-44a8-a7f9-0b11b38be6ac",
   "metadata": {},
   "outputs": [],
   "source": [
    "# Listas fornecidas\n",
    "nomes = [\"joão\", \"MaRia\", \"JOSÉ\"]\n",
    "sobrenomes = [\"SILVA\", \"souza\", \"Tavares\"]\n",
    "\n",
    "# Inicializa uma lista para armazenar os nomes completos\n",
    "nomes_completos = []\n",
    "\n",
    "# Concatena os nomes e sobrenomes, tratando a formatação\n",
    "for nome, sobrenome in zip(nomes, sobrenomes):\n",
    "    nome_completo = nome.capitalize() + \" \" + sobrenome.capitalize()\n",
    "    nomes_completos.append(nome_completo)\n",
    "\n",
    "# Exibe os nomes completos\n",
    "for nome_completo in nomes_completos:\n",
    "    print(f\"Nome completo: {nome_completo}\")"
   ]
  },
  {
   "cell_type": "markdown",
   "id": "89b85715-ee9a-48ee-b383-44efd50daca5",
   "metadata": {},
   "source": [
    "8. Como cientista de dados em um time de futebol, você precisa implementar novas formas de coleta de dados sobre o desempenho de jogadores e do time como um todo. Sua primeira ação é criar uma forma de calcular a pontuação do time no campeonato nacional a partir dos dados de gols marcados e sofridos em cada jogo.\n",
    "\n",
    "Escreva uma função chamada calcula_pontos que recebe como parâmetros duas listas de números inteiros, representando os gols marcados e sofridos pelo time em cada partida do campeonato. A função deve retornar a pontuação do time e o aproveitamento em percentual, levando em consideração que a vitória vale 3 pontos, o empate vale 1 ponto e a derrota 0 pontos.\n",
    "\n",
    "Para teste, utilize as seguintes listas de gols marcados e sofridos:\n",
    "\n",
    "gols_marcados = [2, 1, 3, 1, 0]\\\n",
    "gols_sofridos = [1, 2, 2, 1, 3]\\\n",
    "\n",
    "Provável texto exibido:\n",
    "\n",
    "\"A pontuação do time foi de [pontos] e seu aproveitamento foi de [aprov]%\""
   ]
  },
  {
   "cell_type": "code",
   "execution_count": null,
   "id": "c63521c6-e136-4da4-a0de-820e4325989a",
   "metadata": {},
   "outputs": [],
   "source": [
    "def calcula_pontos(gols_marcados, gols_sofridos):\n",
    "    # Inicializa a pontuação do time\n",
    "    pontos = 0\n",
    "    total_jogos = len(gols_marcados)\n",
    "    \n",
    "    # Calcula a pontuação do time\n",
    "    for marcados, sofridos in zip(gols_marcados, gols_sofridos):\n",
    "        if marcados > sofridos:\n",
    "            pontos += 3  # Vitória\n",
    "        elif marcados == sofridos:\n",
    "            pontos += 1  # Empate\n",
    "        # Derrota não adiciona pontos\n",
    "    \n",
    "    # Calcula a pontuação máxima possível\n",
    "    pontos_maximos = total_jogos * 3\n",
    "    \n",
    "    # Calcula o aproveitamento em percentual\n",
    "    aproveitamento = (pontos / pontos_maximos) * 100\n",
    "    \n",
    "    return pontos, aproveitamento\n",
    "\n",
    "# Listas de gols marcados e sofridos\n",
    "gols_marcados = [2, 1, 3, 1, 0]\n",
    "gols_sofridos = [1, 2, 2, 1, 3]\n",
    "\n",
    "# Calcula a pontuação e o aproveitamento do time\n",
    "pontos, aproveitamento = calcula_pontos(gols_marcados, gols_sofridos)\n",
    "\n",
    "# Exibe os resultados\n",
    "print(f\"A pontuação do time foi de {pontos} e seu aproveitamento foi de {aproveitamento:.2f}%\")"
   ]
  },
  {
   "cell_type": "markdown",
   "id": "e986d60e-fc9f-4d38-b2b2-5dcc7eb50cbb",
   "metadata": {},
   "source": [
    "10. Você iniciou um estágio em uma empresa que trabalha com processamento de linguagem natural (NLP). Sua líder requisitou que você criasse um trecho de código que recebe uma frase digitada pela pessoa usuária e filtre apenas as palavras com tamanho maior ou igual a 5, exibindo-as em uma lista. Essa demanda é voltada para a análise do padrão de comportamento de pessoas na escrita de palavras acima dessa quantidade de caracteres.\n",
    "\n",
    "Dica: utilize as funções lambda e filter() para filtrar essas palavras. Lembrando que a função embutida filter() recebe uma função (no nosso exemplo uma função lambda) e filtra um iterável de acordo com a função. Para tratar a frase use replace() para trocar a ',' '.', '!' e '?' por espaço.\n",
    "\n",
    "Use a frase \"Aprender Python aqui na Alura é muito bom\" para testar o código."
   ]
  },
  {
   "cell_type": "code",
   "execution_count": null,
   "id": "3ebc1900-3ee2-4536-8d15-e9ebb38ea61d",
   "metadata": {},
   "outputs": [],
   "source": [
    "def filtrar_palavras(frase):\n",
    "    # Substitui ',' '.' '!' e '?' por espaço\n",
    "    frase = frase.replace(',', ' ').replace('.', ' ').replace('!', ' ').replace('?', ' ')\n",
    "    \n",
    "    # Divide a frase em palavras\n",
    "    palavras = frase.split()\n",
    "    \n",
    "    # Filtra as palavras com tamanho maior ou igual a 5\n",
    "    palavras_filtradas = list(filter(lambda palavra: len(palavra) >= 5, palavras))\n",
    "    \n",
    "    return palavras_filtradas\n",
    "\n",
    "# Solicita uma frase da pessoa usuária\n",
    "frase = input(\"Digite uma frase: \")\n",
    "\n",
    "# Filtra as palavras e exibe a lista\n",
    "palavras_filtradas = filtrar_palavras(frase)\n",
    "print(\"Palavras com tamanho maior ou igual a 5:\", palavras_filtradas)\n",
    "\n",
    "# Testa com a frase fornecida no exemplo\n",
    "frase_teste = \"Aprender Python aqui na Alura é muito bom\"\n",
    "print(\"Teste com a frase:\", frase_teste)\n",
    "print(\"Palavras com tamanho maior ou igual a 5:\", filtrar_palavras(frase_teste))"
   ]
  },
  {
   "cell_type": "markdown",
   "id": "ca2fc892-c6fb-46fb-93f8-a6653ed5eb74",
   "metadata": {},
   "source": [
    "### Aula 3 - Estrutura de dados"
   ]
  },
  {
   "cell_type": "code",
   "execution_count": null,
   "id": "7350b107-25c9-4e40-9fcc-a4e38d09d2b3",
   "metadata": {},
   "outputs": [],
   "source": []
  }
 ],
 "metadata": {
  "kernelspec": {
   "display_name": "Python 3 (Spyder)",
   "language": "python3",
   "name": "python3"
  },
  "language_info": {
   "codemirror_mode": {
    "name": "ipython",
    "version": 3
   },
   "file_extension": ".py",
   "mimetype": "text/x-python",
   "name": "python",
   "nbconvert_exporter": "python",
   "pygments_lexer": "ipython3",
   "version": "3.11.8"
  }
 },
 "nbformat": 4,
 "nbformat_minor": 5
}
