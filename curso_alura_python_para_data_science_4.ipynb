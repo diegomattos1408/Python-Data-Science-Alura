{
 "cells": [
  {
   "cell_type": "markdown",
   "id": "d73804ff-fab1-4624-be89-cf595177a64b",
   "metadata": {},
   "source": [
    "# Pandas I/O: trabalhando com diferentes formatos de arquivos"
   ]
  },
  {
   "cell_type": "markdown",
   "id": "cceb2d1f-8bc2-4d8a-8384-d0244cd2dab1",
   "metadata": {},
   "source": [
    "### Aula 1 - Fazendo leitura de arquivos csv"
   ]
  },
  {
   "cell_type": "markdown",
   "id": "0af099df-80c9-4c4e-afbd-c3df06b51378",
   "metadata": {},
   "source": [
    "1. Verifique se o arquivo CSV está separado por vírgula ou ponto e vírgula."
   ]
  },
  {
   "cell_type": "markdown",
   "id": "5919cc6b-0f0e-4ff3-9f37-2251dcc709c4",
   "metadata": {},
   "source": [
    "2. A codificação do arquivo é ISO-8859-1."
   ]
  },
  {
   "cell_type": "markdown",
   "id": "bf1a2064-ca20-4896-9b40-8ee861a007f0",
   "metadata": {},
   "source": [
    "3. As três primeiras linhas linhas do arquivo podem ser desconsideradas, pois o cabeçalho só começa na quarta linha."
   ]
  },
  {
   "cell_type": "markdown",
   "id": "2aca17d9-e46f-4c10-a1d4-396e84bb16f1",
   "metadata": {},
   "source": [
    "4. As 9 últimas linhas também podem ser desconsideradas, pois são apenas informações sobre onde os dados foram obtidos."
   ]
  },
  {
   "cell_type": "markdown",
   "id": "8b527ad8-657f-4b3b-b007-d1272fa04f9c",
   "metadata": {},
   "source": [
    "5. Para deletar as últimas linhas é necessário adicionar o parâmetro engine='python'."
   ]
  },
  {
   "cell_type": "code",
   "execution_count": null,
   "id": "e60c17bb-5308-417c-bef8-09f0c5629e54",
   "metadata": {},
   "outputs": [],
   "source": [
    "import pandas as pd\n",
    "\n",
    "try:\n",
    "    data_sus = pd.read_csv('dados_sus.csv', encoding='ISO-8859-1', sep=';', engine='python', skiprows=3, skipfooter=9)\n",
    "    print(\"Arquivo carregado com separador por vírgula.\")\n",
    "except:\n",
    "    # Se falhar, tentando carregar o arquivo com separador por ponto e vírgula\n",
    "    try:\n",
    "        data_sus = pd.read_csv('dados_sus.csv', encoding='ISO-8859-1', sep=';', engine='python', skiprows=3, skipfooter=9)\n",
    "        print(\"Arquivo carregado com separador por ponto e vírgula.\")\n",
    "    except Exception as e:\n",
    "        print(f\"Falha ao carregar o arquivo: {e}\")"
   ]
  },
  {
   "cell_type": "markdown",
   "id": "ff70de2a-7f6f-42b4-9653-cecf88e99ed5",
   "metadata": {},
   "source": [
    "### Aula 2 - Utilizando planilhas"
   ]
  },
  {
   "cell_type": "markdown",
   "id": "b561f141-9850-45b1-8a01-6b5c89a75756",
   "metadata": {},
   "source": [
    "Chegou a hora de você testar os conhecimentos desenvolvidos durante a aula. Nós temos um link do Google Planilhas que contém dados importantes sobre as emissões de gás carbônico pelo mundo. O conjunto de dados foi obtido no Kaggle e consiste em emissões de CO2 per capita de todos os países do mundo de 1990 a 2019."
   ]
  },
  {
   "cell_type": "code",
   "execution_count": null,
   "id": "5ca24328-6168-4a25-9bea-9f702fd9fad2",
   "metadata": {},
   "outputs": [],
   "source": [
    "# id da url da planilha\n",
    "idplanilha = \"1pvBoLyX8kP0TjtUbadVMGdTl4yzm6bHMThhPiqCVtpw\"\n",
    "\n",
    "# Endereço url google docs\n",
    "url = f'https://docs.google.com/spreadsheets/d/{idplanilha}/gviz/tq?tqx=out:csv$sheet'\n",
    "\n",
    "# Lendo o arquivo\n",
    "dados = pd.read_csv(url)\n",
    "\n",
    "# Verificando \n",
    "dados.head()"
   ]
  },
  {
   "cell_type": "markdown",
   "id": "d7806a9c-1554-4e6d-b1ae-d47b672363fd",
   "metadata": {},
   "source": [
    "### Aula 3 - Manipulando arquivos JSON"
   ]
  },
  {
   "cell_type": "markdown",
   "id": "b34ac74e-5617-499d-aff4-6145146a75fb",
   "metadata": {},
   "source": [
    "Chegou a hora de testar os conhecimentos desenvolvidos durante a aula. O DataFrame mostrado abaixo foi gerado após a obtenção de dados da API Fruitvice:\n",
    "Este DataFrame possui 6 colunas: genus (gênero), name (nome), id, family (família), order (ordem) e nutritions (nutrições). Note que a coluna nutritions está com todas as informações nutricionais aninhadas. Portanto, os dados precisam ser normalizados. O desafio agora é normalizar esse DataFrame."
   ]
  },
  {
   "cell_type": "code",
   "execution_count": null,
   "id": "db77f078-6fb9-444f-9d58-3cc90ee8089e",
   "metadata": {},
   "outputs": [],
   "source": [
    "import requests\n",
    "import json\n",
    "\n",
    "# Request usando requests\n",
    "df_frutas = requests.get('https://fruityvice.com/api/fruit/all')\n",
    "\n",
    "# Lendo o arquivo json\n",
    "df_frutas_json = json.loads(df_frutas.text)\n",
    "\n",
    "# Normalizando o arquivo json\n",
    "df_frutas_normalizado = pd.json_normalize(df_frutas_json)\n",
    "\n",
    "# Verificando o arquivo json\n",
    "df_frutas_normalizado.head()"
   ]
  },
  {
   "cell_type": "markdown",
   "id": "0ff0b055-cd80-4531-9153-641c814db3dc",
   "metadata": {},
   "source": [
    "### Aula 4 - Lendo dados em HTML e XML"
   ]
  },
  {
   "cell_type": "markdown",
   "id": "48bc82b8-ca8f-40a5-a72c-9d6b9647c58a",
   "metadata": {},
   "source": [
    "Chegou a hora de testar os conhecimentos desenvolvidos durante a aula. Vanessa é uma cientista de dados que está realizando algumas análises com dados ambientais. Ela está desenvolvendo um projeto para avaliar o impacto ambiental das atividades humanas em diferentes países do mundo, mas para isso precisa das estimativas populacionais desses países. Ao pesquisar na internet, encontrou uma tabela de estimativas populacionais em um artigo da página Wikipédia. Assim como Vanessa, seu desafio é obter um DataFrame da tabela que contém as informações do número de habitantes de cada país."
   ]
  },
  {
   "cell_type": "code",
   "execution_count": null,
   "id": "716acfcd-008b-468d-939b-ee8b8cb0f7e0",
   "metadata": {},
   "outputs": [],
   "source": [
    "# Url \n",
    "url = \"https://pt.wikipedia.org/wiki/Lista_de_pa%C3%ADses_por_popula%C3%A7%C3%A3o\"\n",
    "\n",
    "# Lendo a url\n",
    "df = pd.read_html(url)[0]\n",
    "\n",
    "# Revendo a coluna Unnamed\n",
    "df = df.drop(columns=['Unnamed: 0']).reset_index(drop=True)\n",
    "\n",
    "# Verificando o df\n",
    "df.head()"
   ]
  },
  {
   "cell_type": "markdown",
   "id": "949accfc-62d5-4e16-b623-4fb62b2d451f",
   "metadata": {},
   "source": [
    "### Aula 5 - Trabalhando com banco de dados"
   ]
  },
  {
   "cell_type": "markdown",
   "id": "28537d9b-160c-4505-8470-59fcaeaf1645",
   "metadata": {},
   "source": [
    "Chegou a hora de testar os conhecimentos desenvolvidos durante a aula. Você é responsável por criar um banco de dados local de clientes para uma instituição financeira. Temos o arquivo CSV com os dados de clientes. Sua missão é:\n",
    "\n",
    "- Criar o banco de dados local com a biblioteca SQLAlchemy.\n",
    "- Escrever os dados do arquivo CSV neste banco de dados local.\n",
    "- Realizar três atualizações no banco de dados:\n",
    "- Atualizar o registro do cliente de ID 6840104 que teve o rendimento anual alterado para 300000.\n",
    "- Excluir o registro do cliente de ID 5008809, pois essa pessoa não possui mais conta na instituição financeira.\n",
    "- Criar um novo registro de cliente seguindo as especificações abaixo:\n",
    "- ID_Cliente: 6850985\n",
    "- Idade: 33\n",
    "- Grau_escolaridade: Doutorado\n",
    "- Estado_civil: Solteiro\n",
    "- Tamanho_familia: 1\n",
    "- Categoria_de_renda: Empregado\n",
    "- Ocupacao: TI\n",
    "- Anos_empregado: 2\n",
    "- Rendimento_anual: 290000\n",
    "- Tem_carro: 0\n",
    "- Moradia: Casa/apartamento próprio"
   ]
  },
  {
   "cell_type": "code",
   "execution_count": null,
   "id": "c801e19d-c912-4dac-ae38-5719aa359493",
   "metadata": {},
   "outputs": [],
   "source": [
    "from sqlalchemy import create_engine, MetaData, Table, Column, Integer, String, Float, Boolean\n",
    "\n",
    "# Ler o arquivo CSV\n",
    "url = \"https://raw.githubusercontent.com/alura-cursos/Pandas/main/clientes_banco.csv\"\n",
    "df = pd.read_csv(url)\n",
    "\n",
    "# Criar o banco de dados local\n",
    "engine = create_engine('sqlite:///clientes_banco.db')\n",
    "df.to_sql('clientes', con=engine, if_exists='replace', index=False)\n",
    "\n",
    "# Verificar os dados inseridos\n",
    "df = pd.read_sql('clientes', con=engine)\n",
    "\n",
    "df.head()"
   ]
  },
  {
   "cell_type": "code",
   "execution_count": null,
   "id": "938a0725-d27c-4777-8991-c441dad629aa",
   "metadata": {},
   "outputs": [],
   "source": [
    "from sqlalchemy.orm import sessionmaker\n",
    "from sqlalchemy.ext.declarative import declarative_base\n",
    "from sqlalchemy import update, delete\n",
    "\n",
    "# Configurar a sessão\n",
    "Base = declarative_base()\n",
    "Session = sessionmaker(bind=engine)\n",
    "session = Session()\n",
    "\n",
    "# Definir o mapeamento da tabela\n",
    "class Cliente(Base):\n",
    "    __tablename__ = 'clientes'\n",
    "    ID_Cliente = Column(Integer, primary_key=True)\n",
    "    Idade = Column(Integer)\n",
    "    Grau_escolaridade = Column(String)\n",
    "    Estado_civil = Column(String)\n",
    "    Tamanho_familia = Column(Integer)\n",
    "    Categoria_de_renda = Column(String)\n",
    "    Ocupacao = Column(String)\n",
    "    Anos_empregado = Column(Float)\n",
    "    Rendimento_anual = Column(Float)\n",
    "    Tem_carro = Column(Boolean)\n",
    "    Moradia = Column(String)"
   ]
  },
  {
   "cell_type": "code",
   "execution_count": null,
   "id": "30263865-4d14-4896-b7d7-1c2780204a0f",
   "metadata": {},
   "outputs": [],
   "source": [
    "# Atualizar o registro do cliente de ID 6840104\n",
    "session.query(Cliente).filter(Cliente.ID_Cliente == 6840104).update({\"Rendimento_anual\": 300000})\n",
    "session.commit()"
   ]
  },
  {
   "cell_type": "code",
   "execution_count": null,
   "id": "79bb12ab-662a-461c-b671-de6d4cb3b01c",
   "metadata": {},
   "outputs": [],
   "source": [
    "# Excluir o registro do cliente de ID 5008809\n",
    "session.query(Cliente).filter(Cliente.ID_Cliente == 5008809).delete()\n",
    "session.commit()"
   ]
  },
  {
   "cell_type": "code",
   "execution_count": null,
   "id": "3185dc78-ff13-487d-a3b7-2d32991f9f21",
   "metadata": {},
   "outputs": [],
   "source": [
    "# Criar um novo registro de cliente\n",
    "novo_cliente = Cliente(\n",
    "    ID_Cliente=6850985,\n",
    "    Idade=33,\n",
    "    Grau_escolaridade='Doutorado',\n",
    "    Estado_civil='Solteiro',\n",
    "    Tamanho_familia=1,\n",
    "    Categoria_de_renda='Empregado',\n",
    "    Ocupacao='TI',\n",
    "    Anos_empregado=2,\n",
    "    Rendimento_anual=290000,\n",
    "    Tem_carro=0,\n",
    "    Moradia='Casa/apartamento próprio'\n",
    ")\n",
    "session.add(novo_cliente)\n",
    "session.commit()"
   ]
  },
  {
   "cell_type": "code",
   "execution_count": null,
   "id": "e4cf206e-e08b-4550-bc52-db0c4c10f95d",
   "metadata": {},
   "outputs": [],
   "source": [
    "df = pd.read_sql('clientes', con=engine)\n",
    "\n",
    "df.tail()"
   ]
  },
  {
   "cell_type": "code",
   "execution_count": null,
   "id": "dbaa8327-5a7b-4900-ba51-bd67fae4a50d",
   "metadata": {},
   "outputs": [],
   "source": []
  }
 ],
 "metadata": {
  "kernelspec": {
   "display_name": "Python 3 (Spyder)",
   "language": "python3",
   "name": "python3"
  },
  "language_info": {
   "codemirror_mode": {
    "name": "ipython",
    "version": 3
   },
   "file_extension": ".py",
   "mimetype": "text/x-python",
   "name": "python",
   "nbconvert_exporter": "python",
   "pygments_lexer": "ipython3",
   "version": "3.11.8"
  }
 },
 "nbformat": 4,
 "nbformat_minor": 5
}
