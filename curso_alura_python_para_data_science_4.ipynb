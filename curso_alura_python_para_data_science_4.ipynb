{
 "cells": [
  {
   "cell_type": "markdown",
   "id": "d73804ff-fab1-4624-be89-cf595177a64b",
   "metadata": {},
   "source": [
    "# Pandas I/O: trabalhando com diferentes formatos de arquivos"
   ]
  },
  {
   "cell_type": "markdown",
   "id": "cceb2d1f-8bc2-4d8a-8384-d0244cd2dab1",
   "metadata": {},
   "source": [
    "### Aula 1"
   ]
  },
  {
   "cell_type": "markdown",
   "id": "0af099df-80c9-4c4e-afbd-c3df06b51378",
   "metadata": {},
   "source": [
    "1. Verifique se o arquivo CSV está separado por vírgula ou ponto e vírgula."
   ]
  },
  {
   "cell_type": "markdown",
   "id": "5919cc6b-0f0e-4ff3-9f37-2251dcc709c4",
   "metadata": {},
   "source": [
    "2. A codificação do arquivo é ISO-8859-1."
   ]
  },
  {
   "cell_type": "markdown",
   "id": "bf1a2064-ca20-4896-9b40-8ee861a007f0",
   "metadata": {},
   "source": [
    "3. As três primeiras linhas linhas do arquivo podem ser desconsideradas, pois o cabeçalho só começa na quarta linha."
   ]
  },
  {
   "cell_type": "markdown",
   "id": "2aca17d9-e46f-4c10-a1d4-396e84bb16f1",
   "metadata": {},
   "source": [
    "4. As 9 últimas linhas também podem ser desconsideradas, pois são apenas informações sobre onde os dados foram obtidos."
   ]
  },
  {
   "cell_type": "markdown",
   "id": "8b527ad8-657f-4b3b-b007-d1272fa04f9c",
   "metadata": {},
   "source": [
    "5. Para deletar as últimas linhas é necessário adicionar o parâmetro engine='python'."
   ]
  },
  {
   "cell_type": "code",
   "execution_count": 1,
   "id": "e60c17bb-5308-417c-bef8-09f0c5629e54",
   "metadata": {},
   "outputs": [
    {
     "name": "stdout",
     "output_type": "stream",
     "text": [
      "Arquivo carregado com separador por vírgula.\n"
     ]
    }
   ],
   "source": [
    "import pandas as pd\n",
    "\n",
    "try:\n",
    "    data_sus = pd.read_csv('dados_sus.csv', encoding='ISO-8859-1', sep=';', engine='python', skiprows=3, skipfooter=9)\n",
    "    print(\"Arquivo carregado com separador por vírgula.\")\n",
    "except:\n",
    "    # Se falhar, tentando carregar o arquivo com separador por ponto e vírgula\n",
    "    try:\n",
    "        data_sus = pd.read_csv('dados_sus.csv', encoding='ISO-8859-1', sep=';', engine='python', skiprows=3, skipfooter=9)\n",
    "        print(\"Arquivo carregado com separador por ponto e vírgula.\")\n",
    "    except Exception as e:\n",
    "        print(f\"Falha ao carregar o arquivo: {e}\")"
   ]
  }
 ],
 "metadata": {
  "kernelspec": {
   "display_name": "Python 3 (Spyder)",
   "language": "python3",
   "name": "python3"
  },
  "language_info": {
   "codemirror_mode": {
    "name": "ipython",
    "version": 3
   },
   "file_extension": ".py",
   "mimetype": "text/x-python",
   "name": "python",
   "nbconvert_exporter": "python",
   "pygments_lexer": "ipython3",
   "version": "3.11.8"
  }
 },
 "nbformat": 4,
 "nbformat_minor": 5
}
