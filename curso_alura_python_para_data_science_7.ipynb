{
 "cells": [
  {
   "cell_type": "markdown",
   "id": "abe1a159-186e-4924-ac41-047a7b1b3968",
   "metadata": {},
   "source": [
    "# Pandas: Limpeza e tratamento de dados"
   ]
  },
  {
   "cell_type": "markdown",
   "id": "71afb254-6c43-4de8-8675-c7517d0c974a",
   "metadata": {},
   "source": [
    "### Aula 1 - Conhecendo os dados"
   ]
  },
  {
   "cell_type": "markdown",
   "id": "bddfc65f-ea85-46b9-a02e-6283fc1fca3a",
   "metadata": {},
   "source": [
    "Você recebeu a tarefa de normalizar o seguinte arquivo JSON chamado “informacoes.json” referente a algumas informações de identificação de um cliente."
   ]
  },
  {
   "cell_type": "code",
   "execution_count": 1,
   "id": "55f2c4fd-e589-4454-8d22-e939a2ae06d7",
   "metadata": {},
   "outputs": [],
   "source": [
    "import json\n",
    "\n",
    "with open('informacoes.json') as f:\n",
    "    dados = json.load(f)"
   ]
  },
  {
   "cell_type": "code",
   "execution_count": 2,
   "id": "c628c47a-487b-4316-86d8-161ee2059812",
   "metadata": {},
   "outputs": [],
   "source": [
    "import pandas as pd\n",
    "\n",
    "informacoes = pd.json_normalize(dados, record_path='enderecos', meta=['nome', 'idade'])"
   ]
  },
  {
   "cell_type": "code",
   "execution_count": 3,
   "id": "bb0f7213-9e70-477d-8b46-85952ddc52d4",
   "metadata": {},
   "outputs": [
    {
     "data": {
      "text/html": [
       "<div>\n",
       "<style scoped>\n",
       "    .dataframe tbody tr th:only-of-type {\n",
       "        vertical-align: middle;\n",
       "    }\n",
       "\n",
       "    .dataframe tbody tr th {\n",
       "        vertical-align: top;\n",
       "    }\n",
       "\n",
       "    .dataframe thead th {\n",
       "        text-align: right;\n",
       "    }\n",
       "</style>\n",
       "<table border=\"1\" class=\"dataframe\">\n",
       "  <thead>\n",
       "    <tr style=\"text-align: right;\">\n",
       "      <th></th>\n",
       "      <th>tipo</th>\n",
       "      <th>rua</th>\n",
       "      <th>numero</th>\n",
       "      <th>cidade</th>\n",
       "      <th>nome</th>\n",
       "      <th>idade</th>\n",
       "    </tr>\n",
       "  </thead>\n",
       "  <tbody>\n",
       "    <tr>\n",
       "      <th>0</th>\n",
       "      <td>casa</td>\n",
       "      <td>Rua A</td>\n",
       "      <td>123</td>\n",
       "      <td>SÃ£o Paulo</td>\n",
       "      <td>JoÃ£o</td>\n",
       "      <td>28</td>\n",
       "    </tr>\n",
       "    <tr>\n",
       "      <th>1</th>\n",
       "      <td>trabalho</td>\n",
       "      <td>Rua B</td>\n",
       "      <td>456</td>\n",
       "      <td>Rio de Janeiro</td>\n",
       "      <td>JoÃ£o</td>\n",
       "      <td>28</td>\n",
       "    </tr>\n",
       "  </tbody>\n",
       "</table>\n",
       "</div>"
      ],
      "text/plain": [
       "       tipo    rua  numero          cidade   nome idade\n",
       "0      casa  Rua A     123      SÃ£o Paulo  JoÃ£o    28\n",
       "1  trabalho  Rua B     456  Rio de Janeiro  JoÃ£o    28"
      ]
     },
     "execution_count": 3,
     "metadata": {},
     "output_type": "execute_result"
    }
   ],
   "source": [
    "informacoes"
   ]
  },
  {
   "cell_type": "markdown",
   "id": "8222c848-33d9-4fdc-973c-ffee4d6db9f5",
   "metadata": {},
   "source": [
    "### Aula 2 - Transformação inicial dos dados"
   ]
  },
  {
   "cell_type": "code",
   "execution_count": 4,
   "id": "59e17064-63f0-43b0-b6cd-5f634151d106",
   "metadata": {},
   "outputs": [],
   "source": [
    "with open('dados.json', 'r') as f:\n",
    "    dados = json.load(f)"
   ]
  },
  {
   "cell_type": "code",
   "execution_count": 5,
   "id": "ddbd5309-58df-47d0-8fd6-1edaddc5eb6f",
   "metadata": {},
   "outputs": [
    {
     "data": {
      "text/html": [
       "<div>\n",
       "<style scoped>\n",
       "    .dataframe tbody tr th:only-of-type {\n",
       "        vertical-align: middle;\n",
       "    }\n",
       "\n",
       "    .dataframe tbody tr th {\n",
       "        vertical-align: top;\n",
       "    }\n",
       "\n",
       "    .dataframe thead th {\n",
       "        text-align: right;\n",
       "    }\n",
       "</style>\n",
       "<table border=\"1\" class=\"dataframe\">\n",
       "  <thead>\n",
       "    <tr style=\"text-align: right;\">\n",
       "      <th></th>\n",
       "      <th>nome</th>\n",
       "      <th>idade</th>\n",
       "      <th>telefones</th>\n",
       "      <th>endereco.rua</th>\n",
       "      <th>endereco.numero</th>\n",
       "      <th>endereco.cidade</th>\n",
       "    </tr>\n",
       "  </thead>\n",
       "  <tbody>\n",
       "    <tr>\n",
       "      <th>0</th>\n",
       "      <td>JoÃ£o</td>\n",
       "      <td>25</td>\n",
       "      <td>[11 1111-1111, 11 2222-2222]</td>\n",
       "      <td>Rua A</td>\n",
       "      <td>123</td>\n",
       "      <td>SÃ£o Paulo</td>\n",
       "    </tr>\n",
       "    <tr>\n",
       "      <th>1</th>\n",
       "      <td>Maria</td>\n",
       "      <td>30</td>\n",
       "      <td>[21 3333-3333]</td>\n",
       "      <td></td>\n",
       "      <td>456</td>\n",
       "      <td>Rio de Janeiro</td>\n",
       "    </tr>\n",
       "  </tbody>\n",
       "</table>\n",
       "</div>"
      ],
      "text/plain": [
       "    nome idade  ... endereco.numero endereco.cidade\n",
       "0  JoÃ£o    25  ...             123      SÃ£o Paulo\n",
       "1  Maria    30  ...             456  Rio de Janeiro\n",
       "\n",
       "[2 rows x 6 columns]"
      ]
     },
     "execution_count": 5,
     "metadata": {},
     "output_type": "execute_result"
    }
   ],
   "source": [
    "import pandas as pd\n",
    "\n",
    "df = pd.json_normalize(dados, record_path=['pessoas'])\n",
    "df"
   ]
  },
  {
   "cell_type": "code",
   "execution_count": 6,
   "id": "df357a79-7aac-492f-92e3-c921cf354497",
   "metadata": {},
   "outputs": [
    {
     "name": "stdout",
     "output_type": "stream",
     "text": [
      "<class 'pandas.core.frame.DataFrame'>\n",
      "RangeIndex: 2 entries, 0 to 1\n",
      "Data columns (total 6 columns):\n",
      " #   Column           Non-Null Count  Dtype \n",
      "---  ------           --------------  ----- \n",
      " 0   nome             2 non-null      object\n",
      " 1   idade            2 non-null      object\n",
      " 2   telefones        2 non-null      object\n",
      " 3   endereco.rua     2 non-null      object\n",
      " 4   endereco.numero  2 non-null      int64 \n",
      " 5   endereco.cidade  2 non-null      object\n",
      "dtypes: int64(1), object(5)\n",
      "memory usage: 228.0+ bytes\n"
     ]
    }
   ],
   "source": [
    "df.info()"
   ]
  },
  {
   "cell_type": "code",
   "execution_count": 7,
   "id": "354525f7-843e-43b8-830e-b00324881597",
   "metadata": {},
   "outputs": [],
   "source": [
    "df['idade'] = df['idade'].astype(int)"
   ]
  },
  {
   "cell_type": "code",
   "execution_count": 8,
   "id": "5570c023-99bc-496b-8953-bf5f6b8c9533",
   "metadata": {},
   "outputs": [
    {
     "data": {
      "text/html": [
       "<div>\n",
       "<style scoped>\n",
       "    .dataframe tbody tr th:only-of-type {\n",
       "        vertical-align: middle;\n",
       "    }\n",
       "\n",
       "    .dataframe tbody tr th {\n",
       "        vertical-align: top;\n",
       "    }\n",
       "\n",
       "    .dataframe thead th {\n",
       "        text-align: right;\n",
       "    }\n",
       "</style>\n",
       "<table border=\"1\" class=\"dataframe\">\n",
       "  <thead>\n",
       "    <tr style=\"text-align: right;\">\n",
       "      <th></th>\n",
       "      <th>nome</th>\n",
       "      <th>idade</th>\n",
       "      <th>telefones</th>\n",
       "      <th>endereco.rua</th>\n",
       "      <th>endereco.numero</th>\n",
       "      <th>endereco.cidade</th>\n",
       "    </tr>\n",
       "  </thead>\n",
       "  <tbody>\n",
       "    <tr>\n",
       "      <th>0</th>\n",
       "      <td>JoÃ£o</td>\n",
       "      <td>25</td>\n",
       "      <td>[11 1111-1111, 11 2222-2222]</td>\n",
       "      <td>Rua A</td>\n",
       "      <td>123</td>\n",
       "      <td>SÃ£o Paulo</td>\n",
       "    </tr>\n",
       "  </tbody>\n",
       "</table>\n",
       "</div>"
      ],
      "text/plain": [
       "    nome  idade  ... endereco.numero endereco.cidade\n",
       "0  JoÃ£o     25  ...             123      SÃ£o Paulo\n",
       "\n",
       "[1 rows x 6 columns]"
      ]
     },
     "execution_count": 8,
     "metadata": {},
     "output_type": "execute_result"
    }
   ],
   "source": [
    "df_filtrado = df.query('`endereco.rua` != \"\"')\n",
    "df_filtrado"
   ]
  },
  {
   "cell_type": "code",
   "execution_count": 9,
   "id": "483d4c56-e182-4563-8439-f24acc5aec2e",
   "metadata": {},
   "outputs": [
    {
     "data": {
      "text/html": [
       "<div>\n",
       "<style scoped>\n",
       "    .dataframe tbody tr th:only-of-type {\n",
       "        vertical-align: middle;\n",
       "    }\n",
       "\n",
       "    .dataframe tbody tr th {\n",
       "        vertical-align: top;\n",
       "    }\n",
       "\n",
       "    .dataframe thead th {\n",
       "        text-align: right;\n",
       "    }\n",
       "</style>\n",
       "<table border=\"1\" class=\"dataframe\">\n",
       "  <thead>\n",
       "    <tr style=\"text-align: right;\">\n",
       "      <th></th>\n",
       "      <th>nome</th>\n",
       "      <th>idade</th>\n",
       "      <th>telefones</th>\n",
       "      <th>endereco.rua</th>\n",
       "      <th>endereco.numero</th>\n",
       "      <th>endereco.cidade</th>\n",
       "    </tr>\n",
       "  </thead>\n",
       "  <tbody>\n",
       "    <tr>\n",
       "      <th>0</th>\n",
       "      <td>JoÃ£o</td>\n",
       "      <td>25</td>\n",
       "      <td>[11 1111-1111, 11 2222-2222]</td>\n",
       "      <td>Rua A</td>\n",
       "      <td>123</td>\n",
       "      <td>SÃ£o Paulo</td>\n",
       "    </tr>\n",
       "  </tbody>\n",
       "</table>\n",
       "</div>"
      ],
      "text/plain": [
       "    nome  idade  ... endereco.numero endereco.cidade\n",
       "0  JoÃ£o     25  ...             123      SÃ£o Paulo\n",
       "\n",
       "[1 rows x 6 columns]"
      ]
     },
     "execution_count": 9,
     "metadata": {},
     "output_type": "execute_result"
    }
   ],
   "source": [
    "df_filtrado = df[df['endereco.rua'] != \"\"]\n",
    "df_filtrado"
   ]
  },
  {
   "cell_type": "markdown",
   "id": "3fc8e99d-c4cd-47c5-9461-ae1cdbd3d079",
   "metadata": {},
   "source": [
    "### Aula 3 - Utilizando dados duplicados e nulos"
   ]
  },
  {
   "cell_type": "code",
   "execution_count": 10,
   "id": "ee87313d-2697-4256-9666-85f8db0e1449",
   "metadata": {},
   "outputs": [
    {
     "name": "stdout",
     "output_type": "stream",
     "text": [
      "                              curso  ... instrutor.telefone\n",
      "0     IntroduÃ§Ã£o Ã  programaÃ§Ã£o  ...     (11) 9999-9999\n",
      "1             Excel para iniciantes  ...     (11) 8888-8888\n",
      "2  Marketing digital para negÃ³cios  ...     (11) 7777-7777\n",
      "3          InteligÃªncia artificial  ...                   \n",
      "4            InglÃªs para negÃ³cios  ...                   \n",
      "5     IntroduÃ§Ã£o Ã  programaÃ§Ã£o  ...     (11) 9999-9999\n",
      "\n",
      "[6 rows x 11 columns]\n"
     ]
    }
   ],
   "source": [
    "# Importando as bibliotecas necessárias\n",
    "import pandas as pd\n",
    "import json\n",
    "\n",
    "# carrega o conjunto de dados\n",
    "with open('cursos_cadastrados.json', 'r') as f:\n",
    "    data = json.load(f)\n",
    "\n",
    "# normaliza o json\n",
    "df = pd.json_normalize(data)\n",
    "\n",
    "# exibe o DataFrame resultante\n",
    "print(df)"
   ]
  },
  {
   "cell_type": "code",
   "execution_count": 11,
   "id": "7a02555d-6349-4d44-a483-c0359270512f",
   "metadata": {},
   "outputs": [
    {
     "data": {
      "text/plain": [
       "6"
      ]
     },
     "execution_count": 11,
     "metadata": {},
     "output_type": "execute_result"
    }
   ],
   "source": [
    "df.isnull().sum().sum()"
   ]
  },
  {
   "cell_type": "code",
   "execution_count": 12,
   "id": "640f55a8-475f-49e4-a82c-f7d1bb60caa3",
   "metadata": {},
   "outputs": [
    {
     "data": {
      "text/html": [
       "<div>\n",
       "<style scoped>\n",
       "    .dataframe tbody tr th:only-of-type {\n",
       "        vertical-align: middle;\n",
       "    }\n",
       "\n",
       "    .dataframe tbody tr th {\n",
       "        vertical-align: top;\n",
       "    }\n",
       "\n",
       "    .dataframe thead th {\n",
       "        text-align: right;\n",
       "    }\n",
       "</style>\n",
       "<table border=\"1\" class=\"dataframe\">\n",
       "  <thead>\n",
       "    <tr style=\"text-align: right;\">\n",
       "      <th></th>\n",
       "      <th>curso</th>\n",
       "      <th>categoria</th>\n",
       "      <th>carga_horaria</th>\n",
       "      <th>concluintes</th>\n",
       "      <th>data_inicio</th>\n",
       "      <th>data_conclusao</th>\n",
       "      <th>descricao</th>\n",
       "      <th>preco</th>\n",
       "      <th>instrutor.nome</th>\n",
       "      <th>instrutor.email</th>\n",
       "      <th>instrutor.telefone</th>\n",
       "    </tr>\n",
       "  </thead>\n",
       "  <tbody>\n",
       "    <tr>\n",
       "      <th>1</th>\n",
       "      <td>Excel para iniciantes</td>\n",
       "      <td>Produtividade</td>\n",
       "      <td>None</td>\n",
       "      <td>None</td>\n",
       "      <td>None</td>\n",
       "      <td>None</td>\n",
       "      <td>None</td>\n",
       "      <td>None</td>\n",
       "      <td>Maria Oliveira</td>\n",
       "      <td>maria.oliveira@emailaleatorio.com</td>\n",
       "      <td>(11) 8888-8888</td>\n",
       "    </tr>\n",
       "  </tbody>\n",
       "</table>\n",
       "</div>"
      ],
      "text/plain": [
       "                   curso  ... instrutor.telefone\n",
       "1  Excel para iniciantes  ...     (11) 8888-8888\n",
       "\n",
       "[1 rows x 11 columns]"
      ]
     },
     "execution_count": 12,
     "metadata": {},
     "output_type": "execute_result"
    }
   ],
   "source": [
    "df[df.isna().any(axis=1)]"
   ]
  },
  {
   "cell_type": "code",
   "execution_count": 13,
   "id": "77f3c200-cac8-4c6b-8f18-503aa603c8df",
   "metadata": {},
   "outputs": [],
   "source": [
    "df.dropna(inplace=True)"
   ]
  },
  {
   "cell_type": "code",
   "execution_count": 14,
   "id": "5d50d855-7389-43b8-aef5-5b66101459b0",
   "metadata": {},
   "outputs": [
    {
     "data": {
      "text/plain": [
       "0    False\n",
       "2    False\n",
       "3    False\n",
       "4    False\n",
       "5     True\n",
       "dtype: bool"
      ]
     },
     "execution_count": 14,
     "metadata": {},
     "output_type": "execute_result"
    }
   ],
   "source": [
    "df.duplicated()"
   ]
  },
  {
   "cell_type": "code",
   "execution_count": 15,
   "id": "2a89f584-0565-45a1-82b8-37c810636cd7",
   "metadata": {},
   "outputs": [],
   "source": [
    "df.drop_duplicates(inplace=True)"
   ]
  },
  {
   "cell_type": "code",
   "execution_count": 16,
   "id": "bf58b66b-2c57-414c-a7f6-48f05930f1d4",
   "metadata": {},
   "outputs": [
    {
     "data": {
      "text/html": [
       "<div>\n",
       "<style scoped>\n",
       "    .dataframe tbody tr th:only-of-type {\n",
       "        vertical-align: middle;\n",
       "    }\n",
       "\n",
       "    .dataframe tbody tr th {\n",
       "        vertical-align: top;\n",
       "    }\n",
       "\n",
       "    .dataframe thead th {\n",
       "        text-align: right;\n",
       "    }\n",
       "</style>\n",
       "<table border=\"1\" class=\"dataframe\">\n",
       "  <thead>\n",
       "    <tr style=\"text-align: right;\">\n",
       "      <th></th>\n",
       "      <th>curso</th>\n",
       "      <th>categoria</th>\n",
       "      <th>carga_horaria</th>\n",
       "      <th>concluintes</th>\n",
       "      <th>data_inicio</th>\n",
       "      <th>data_conclusao</th>\n",
       "      <th>descricao</th>\n",
       "      <th>preco</th>\n",
       "      <th>instrutor.nome</th>\n",
       "      <th>instrutor.email</th>\n",
       "      <th>instrutor.telefone</th>\n",
       "    </tr>\n",
       "  </thead>\n",
       "  <tbody>\n",
       "    <tr>\n",
       "      <th>3</th>\n",
       "      <td>InteligÃªncia artificial</td>\n",
       "      <td>ProgramaÃ§Ã£o</td>\n",
       "      <td>40 horas</td>\n",
       "      <td></td>\n",
       "      <td>2022-04-01</td>\n",
       "      <td></td>\n",
       "      <td>Curso avanÃ§ado sobre inteligÃªncia artificial...</td>\n",
       "      <td>129.9</td>\n",
       "      <td></td>\n",
       "      <td>contato@emailaleatorio.com</td>\n",
       "      <td></td>\n",
       "    </tr>\n",
       "  </tbody>\n",
       "</table>\n",
       "</div>"
      ],
      "text/plain": [
       "                      curso  ... instrutor.telefone\n",
       "3  InteligÃªncia artificial  ...                   \n",
       "\n",
       "[1 rows x 11 columns]"
      ]
     },
     "execution_count": 16,
     "metadata": {},
     "output_type": "execute_result"
    }
   ],
   "source": [
    "df[df['instrutor.nome'] == \"\"]"
   ]
  },
  {
   "cell_type": "code",
   "execution_count": 17,
   "id": "0ce8c0f6-4395-4a2d-a2a1-27a654b6f3b5",
   "metadata": {},
   "outputs": [
    {
     "data": {
      "text/html": [
       "<div>\n",
       "<style scoped>\n",
       "    .dataframe tbody tr th:only-of-type {\n",
       "        vertical-align: middle;\n",
       "    }\n",
       "\n",
       "    .dataframe tbody tr th {\n",
       "        vertical-align: top;\n",
       "    }\n",
       "\n",
       "    .dataframe thead th {\n",
       "        text-align: right;\n",
       "    }\n",
       "</style>\n",
       "<table border=\"1\" class=\"dataframe\">\n",
       "  <thead>\n",
       "    <tr style=\"text-align: right;\">\n",
       "      <th></th>\n",
       "      <th>curso</th>\n",
       "      <th>categoria</th>\n",
       "      <th>carga_horaria</th>\n",
       "      <th>concluintes</th>\n",
       "      <th>data_inicio</th>\n",
       "      <th>data_conclusao</th>\n",
       "      <th>descricao</th>\n",
       "      <th>preco</th>\n",
       "      <th>instrutor.nome</th>\n",
       "      <th>instrutor.email</th>\n",
       "      <th>instrutor.telefone</th>\n",
       "    </tr>\n",
       "  </thead>\n",
       "  <tbody>\n",
       "    <tr>\n",
       "      <th>3</th>\n",
       "      <td>InteligÃªncia artificial</td>\n",
       "      <td>ProgramaÃ§Ã£o</td>\n",
       "      <td>40 horas</td>\n",
       "      <td></td>\n",
       "      <td>2022-04-01</td>\n",
       "      <td></td>\n",
       "      <td>Curso avanÃ§ado sobre inteligÃªncia artificial...</td>\n",
       "      <td>129.9</td>\n",
       "      <td></td>\n",
       "      <td>contato@emailaleatorio.com</td>\n",
       "      <td></td>\n",
       "    </tr>\n",
       "    <tr>\n",
       "      <th>4</th>\n",
       "      <td>InglÃªs para negÃ³cios</td>\n",
       "      <td>Idiomas</td>\n",
       "      <td>20 horas</td>\n",
       "      <td>30</td>\n",
       "      <td></td>\n",
       "      <td></td>\n",
       "      <td>Curso de inglÃªs para negÃ³cios</td>\n",
       "      <td>69.9</td>\n",
       "      <td>John Smith</td>\n",
       "      <td></td>\n",
       "      <td></td>\n",
       "    </tr>\n",
       "  </tbody>\n",
       "</table>\n",
       "</div>"
      ],
      "text/plain": [
       "                      curso  ... instrutor.telefone\n",
       "3  InteligÃªncia artificial  ...                   \n",
       "4    InglÃªs para negÃ³cios  ...                   \n",
       "\n",
       "[2 rows x 11 columns]"
      ]
     },
     "execution_count": 17,
     "metadata": {},
     "output_type": "execute_result"
    }
   ],
   "source": [
    "df[df['data_conclusao'] == \"\"]"
   ]
  },
  {
   "cell_type": "code",
   "execution_count": 18,
   "id": "b8833ca6-89a0-4171-aaa2-8c8e3df12cdc",
   "metadata": {},
   "outputs": [],
   "source": [
    "# Substitui strings vazias por valores nulos\n",
    "df.replace('', pd.NA, inplace=True)"
   ]
  },
  {
   "cell_type": "code",
   "execution_count": 19,
   "id": "2f750ff3-a8fd-47a6-a9fa-831fc3b3e035",
   "metadata": {},
   "outputs": [
    {
     "name": "stdout",
     "output_type": "stream",
     "text": [
      "                              curso  ... instrutor.telefone\n",
      "0     IntroduÃ§Ã£o Ã  programaÃ§Ã£o  ...     (11) 9999-9999\n",
      "2  Marketing digital para negÃ³cios  ...     (11) 7777-7777\n",
      "\n",
      "[2 rows x 11 columns]\n"
     ]
    }
   ],
   "source": [
    "df.dropna(inplace=True)\n",
    "print(df)"
   ]
  },
  {
   "cell_type": "code",
   "execution_count": 20,
   "id": "4e1683ab-11ed-420c-80fa-e9c2bfe18d68",
   "metadata": {},
   "outputs": [
    {
     "name": "stdout",
     "output_type": "stream",
     "text": [
      "<class 'pandas.core.frame.DataFrame'>\n",
      "Index: 2 entries, 0 to 2\n",
      "Data columns (total 11 columns):\n",
      " #   Column              Non-Null Count  Dtype \n",
      "---  ------              --------------  ----- \n",
      " 0   curso               2 non-null      object\n",
      " 1   categoria           2 non-null      object\n",
      " 2   carga_horaria       2 non-null      object\n",
      " 3   concluintes         2 non-null      object\n",
      " 4   data_inicio         2 non-null      object\n",
      " 5   data_conclusao      2 non-null      object\n",
      " 6   descricao           2 non-null      object\n",
      " 7   preco               2 non-null      object\n",
      " 8   instrutor.nome      2 non-null      object\n",
      " 9   instrutor.email     2 non-null      object\n",
      " 10  instrutor.telefone  2 non-null      object\n",
      "dtypes: object(11)\n",
      "memory usage: 192.0+ bytes\n"
     ]
    }
   ],
   "source": [
    "df.info()"
   ]
  },
  {
   "cell_type": "code",
   "execution_count": 21,
   "id": "0e9161a5-e763-4d6d-a472-8f0471e976d9",
   "metadata": {},
   "outputs": [],
   "source": [
    "# Converte a concluintes para o tipo inteiro\n",
    "df['concluintes'] = df['concluintes'].astype(int)\n",
    "\n",
    "# Converte a coluna data_inicio e data_conclusao para o tipo datetime\n",
    "df['data_inicio'] = pd.to_datetime(df['data_inicio'])\n",
    "df['data_conclusao'] = pd.to_datetime(df['data_conclusao'])\n",
    "\n",
    "# Convertendo a coluna preço para o tipo float\n",
    "df['preco'] = df['preco'].astype(float)"
   ]
  },
  {
   "cell_type": "code",
   "execution_count": 22,
   "id": "85c80b62-f8f0-45ba-8b13-9c39e0a24b15",
   "metadata": {},
   "outputs": [
    {
     "name": "stdout",
     "output_type": "stream",
     "text": [
      "<class 'pandas.core.frame.DataFrame'>\n",
      "Index: 2 entries, 0 to 2\n",
      "Data columns (total 11 columns):\n",
      " #   Column              Non-Null Count  Dtype         \n",
      "---  ------              --------------  -----         \n",
      " 0   curso               2 non-null      object        \n",
      " 1   categoria           2 non-null      object        \n",
      " 2   carga_horaria       2 non-null      object        \n",
      " 3   concluintes         2 non-null      int32         \n",
      " 4   data_inicio         2 non-null      datetime64[ns]\n",
      " 5   data_conclusao      2 non-null      datetime64[ns]\n",
      " 6   descricao           2 non-null      object        \n",
      " 7   preco               2 non-null      float64       \n",
      " 8   instrutor.nome      2 non-null      object        \n",
      " 9   instrutor.email     2 non-null      object        \n",
      " 10  instrutor.telefone  2 non-null      object        \n",
      "dtypes: datetime64[ns](2), float64(1), int32(1), object(7)\n",
      "memory usage: 184.0+ bytes\n"
     ]
    }
   ],
   "source": [
    "df.info()"
   ]
  },
  {
   "cell_type": "markdown",
   "id": "2264c714-26c1-4ee9-b805-e3d211aa51cc",
   "metadata": {},
   "source": [
    "### Aula 4 - Lidando com Outliers"
   ]
  },
  {
   "cell_type": "code",
   "execution_count": 23,
   "id": "85abf8ae-f307-4215-8cab-e518e25e5afd",
   "metadata": {},
   "outputs": [],
   "source": [
    "import pandas as pd\n",
    "\n",
    "# criando um DataFrame com 30 transações aleatórias\n",
    "df = pd.DataFrame({\n",
    "    'ID da transação': range(1, 31),\n",
    "    'Valor da transação': [100, 200, 150, 500, 300, 913, 250, 400, 200, 150, \n",
    "                           200, 200, 400, 300, 150, 301, 805, 300, 400, 250, \n",
    "                           150, 100, 500, 600, 200, 350, 100, 250, 800, 250],\n",
    "    'Data da transação': pd.date_range(start='2022-01-01', end='2022-01-30', freq='D'),\n",
    "    'Local da transação': ['São Paulo, Brasil', 'Rio de Janeiro, Brasil', 'Belo Horizonte, Brasil', 'São Paulo, Brasil', \n",
    "                           'São Paulo, Brasil', 'Nova Iorque, EUA', 'São Paulo, Brasil', 'São Paulo, Brasil', 'São Paulo, Brasil',\n",
    "                           'Rio de Janeiro, Brasil', 'São Paulo, Brasil', 'São Paulo, Brasil', 'São Paulo, Brasil', 'São Paulo, Brasil',\n",
    "                           'São Paulo, Brasil', 'São Paulo, Brasil', 'Los Angeles, EUA', 'São Paulo, Brasil', 'São Paulo, Brasil', 'São Paulo, Brasil',\n",
    "                           'São Paulo, Brasil', 'São Paulo, Brasil', 'São Paulo, Brasil', 'São Paulo, Brasil', 'São Paulo, Brasil', 'São Paulo, Brasil',\n",
    "                           'São Paulo, Brasil', 'São Paulo, Brasil', 'Miami, EUA', 'São Paulo, Brasil']\n",
    "})"
   ]
  },
  {
   "cell_type": "code",
   "execution_count": 24,
   "id": "fa28bbb5-3444-48d3-9735-85830a058c75",
   "metadata": {},
   "outputs": [
    {
     "data": {
      "text/html": [
       "<div>\n",
       "<style scoped>\n",
       "    .dataframe tbody tr th:only-of-type {\n",
       "        vertical-align: middle;\n",
       "    }\n",
       "\n",
       "    .dataframe tbody tr th {\n",
       "        vertical-align: top;\n",
       "    }\n",
       "\n",
       "    .dataframe thead th {\n",
       "        text-align: right;\n",
       "    }\n",
       "</style>\n",
       "<table border=\"1\" class=\"dataframe\">\n",
       "  <thead>\n",
       "    <tr style=\"text-align: right;\">\n",
       "      <th></th>\n",
       "      <th>ID da transação</th>\n",
       "      <th>Valor da transação</th>\n",
       "      <th>Data da transação</th>\n",
       "      <th>Local da transação</th>\n",
       "    </tr>\n",
       "  </thead>\n",
       "  <tbody>\n",
       "    <tr>\n",
       "      <th>0</th>\n",
       "      <td>1</td>\n",
       "      <td>100</td>\n",
       "      <td>2022-01-01</td>\n",
       "      <td>São Paulo, Brasil</td>\n",
       "    </tr>\n",
       "    <tr>\n",
       "      <th>1</th>\n",
       "      <td>2</td>\n",
       "      <td>200</td>\n",
       "      <td>2022-01-02</td>\n",
       "      <td>Rio de Janeiro, Brasil</td>\n",
       "    </tr>\n",
       "    <tr>\n",
       "      <th>2</th>\n",
       "      <td>3</td>\n",
       "      <td>150</td>\n",
       "      <td>2022-01-03</td>\n",
       "      <td>Belo Horizonte, Brasil</td>\n",
       "    </tr>\n",
       "    <tr>\n",
       "      <th>3</th>\n",
       "      <td>4</td>\n",
       "      <td>500</td>\n",
       "      <td>2022-01-04</td>\n",
       "      <td>São Paulo, Brasil</td>\n",
       "    </tr>\n",
       "    <tr>\n",
       "      <th>4</th>\n",
       "      <td>5</td>\n",
       "      <td>300</td>\n",
       "      <td>2022-01-05</td>\n",
       "      <td>São Paulo, Brasil</td>\n",
       "    </tr>\n",
       "  </tbody>\n",
       "</table>\n",
       "</div>"
      ],
      "text/plain": [
       "   ID da transação  ...      Local da transação\n",
       "0                1  ...       São Paulo, Brasil\n",
       "1                2  ...  Rio de Janeiro, Brasil\n",
       "2                3  ...  Belo Horizonte, Brasil\n",
       "3                4  ...       São Paulo, Brasil\n",
       "4                5  ...       São Paulo, Brasil\n",
       "\n",
       "[5 rows x 4 columns]"
      ]
     },
     "execution_count": 24,
     "metadata": {},
     "output_type": "execute_result"
    }
   ],
   "source": [
    "df.head()"
   ]
  },
  {
   "cell_type": "code",
   "execution_count": 25,
   "id": "f4b53e77-4abc-4239-b183-3cdc177d0042",
   "metadata": {},
   "outputs": [
    {
     "data": {
      "text/html": [
       "<div>\n",
       "<style scoped>\n",
       "    .dataframe tbody tr th:only-of-type {\n",
       "        vertical-align: middle;\n",
       "    }\n",
       "\n",
       "    .dataframe tbody tr th {\n",
       "        vertical-align: top;\n",
       "    }\n",
       "\n",
       "    .dataframe thead th {\n",
       "        text-align: right;\n",
       "    }\n",
       "</style>\n",
       "<table border=\"1\" class=\"dataframe\">\n",
       "  <thead>\n",
       "    <tr style=\"text-align: right;\">\n",
       "      <th></th>\n",
       "      <th>ID da transação</th>\n",
       "      <th>Valor da transação</th>\n",
       "      <th>Data da transação</th>\n",
       "      <th>Local da transação</th>\n",
       "    </tr>\n",
       "  </thead>\n",
       "  <tbody>\n",
       "    <tr>\n",
       "      <th>5</th>\n",
       "      <td>6</td>\n",
       "      <td>913</td>\n",
       "      <td>2022-01-06</td>\n",
       "      <td>Nova Iorque, EUA</td>\n",
       "    </tr>\n",
       "    <tr>\n",
       "      <th>16</th>\n",
       "      <td>17</td>\n",
       "      <td>805</td>\n",
       "      <td>2022-01-17</td>\n",
       "      <td>Los Angeles, EUA</td>\n",
       "    </tr>\n",
       "    <tr>\n",
       "      <th>28</th>\n",
       "      <td>29</td>\n",
       "      <td>800</td>\n",
       "      <td>2022-01-29</td>\n",
       "      <td>Miami, EUA</td>\n",
       "    </tr>\n",
       "  </tbody>\n",
       "</table>\n",
       "</div>"
      ],
      "text/plain": [
       "    ID da transação  Valor da transação Data da transação Local da transação\n",
       "5                 6                 913        2022-01-06   Nova Iorque, EUA\n",
       "16               17                 805        2022-01-17   Los Angeles, EUA\n",
       "28               29                 800        2022-01-29         Miami, EUA"
      ]
     },
     "execution_count": 25,
     "metadata": {},
     "output_type": "execute_result"
    }
   ],
   "source": [
    "# Calculate Q1 (25th percentile) and Q3 (75th percentile)\n",
    "Q1 = df['Valor da transação'].quantile(0.25)\n",
    "Q3 = df['Valor da transação'].quantile(0.75)\n",
    "\n",
    "# Calculate the Interquartile Range (IQR)\n",
    "IQR = Q3 - Q1\n",
    "\n",
    "# Define the lower and upper bound for outliers\n",
    "lower_bound = Q1 - 1.5 * IQR\n",
    "upper_bound = Q3 + 1.5 * IQR\n",
    "\n",
    "# Identify outliers\n",
    "outliers = df[(df['Valor da transação'] < lower_bound) | (df['Valor da transação'] > upper_bound)]\n",
    "\n",
    "# Display the outliers\n",
    "outliers"
   ]
  },
  {
   "cell_type": "code",
   "execution_count": 26,
   "id": "dcd7c22a-2a90-4224-91e1-97f5bd152373",
   "metadata": {},
   "outputs": [
    {
     "data": {
      "text/plain": [
       "(-100.0, 700.0)"
      ]
     },
     "execution_count": 26,
     "metadata": {},
     "output_type": "execute_result"
    }
   ],
   "source": [
    "lower_bound, upper_bound"
   ]
  },
  {
   "cell_type": "code",
   "execution_count": 27,
   "id": "317d55a4-4f51-4f6d-8b85-2e4fdeefd1df",
   "metadata": {},
   "outputs": [
    {
     "data": {
      "text/html": [
       "<div>\n",
       "<style scoped>\n",
       "    .dataframe tbody tr th:only-of-type {\n",
       "        vertical-align: middle;\n",
       "    }\n",
       "\n",
       "    .dataframe tbody tr th {\n",
       "        vertical-align: top;\n",
       "    }\n",
       "\n",
       "    .dataframe thead th {\n",
       "        text-align: right;\n",
       "    }\n",
       "</style>\n",
       "<table border=\"1\" class=\"dataframe\">\n",
       "  <thead>\n",
       "    <tr style=\"text-align: right;\">\n",
       "      <th></th>\n",
       "      <th>ID da transação</th>\n",
       "      <th>Valor da transação</th>\n",
       "      <th>Data da transação</th>\n",
       "      <th>Local da transação</th>\n",
       "    </tr>\n",
       "  </thead>\n",
       "  <tbody>\n",
       "    <tr>\n",
       "      <th>0</th>\n",
       "      <td>1</td>\n",
       "      <td>100</td>\n",
       "      <td>2022-01-01</td>\n",
       "      <td>São Paulo, Brasil</td>\n",
       "    </tr>\n",
       "    <tr>\n",
       "      <th>1</th>\n",
       "      <td>2</td>\n",
       "      <td>200</td>\n",
       "      <td>2022-01-02</td>\n",
       "      <td>Rio de Janeiro, Brasil</td>\n",
       "    </tr>\n",
       "    <tr>\n",
       "      <th>2</th>\n",
       "      <td>3</td>\n",
       "      <td>150</td>\n",
       "      <td>2022-01-03</td>\n",
       "      <td>Belo Horizonte, Brasil</td>\n",
       "    </tr>\n",
       "    <tr>\n",
       "      <th>3</th>\n",
       "      <td>4</td>\n",
       "      <td>500</td>\n",
       "      <td>2022-01-04</td>\n",
       "      <td>São Paulo, Brasil</td>\n",
       "    </tr>\n",
       "    <tr>\n",
       "      <th>4</th>\n",
       "      <td>5</td>\n",
       "      <td>300</td>\n",
       "      <td>2022-01-05</td>\n",
       "      <td>São Paulo, Brasil</td>\n",
       "    </tr>\n",
       "    <tr>\n",
       "      <th>6</th>\n",
       "      <td>7</td>\n",
       "      <td>250</td>\n",
       "      <td>2022-01-07</td>\n",
       "      <td>São Paulo, Brasil</td>\n",
       "    </tr>\n",
       "    <tr>\n",
       "      <th>7</th>\n",
       "      <td>8</td>\n",
       "      <td>400</td>\n",
       "      <td>2022-01-08</td>\n",
       "      <td>São Paulo, Brasil</td>\n",
       "    </tr>\n",
       "    <tr>\n",
       "      <th>8</th>\n",
       "      <td>9</td>\n",
       "      <td>200</td>\n",
       "      <td>2022-01-09</td>\n",
       "      <td>São Paulo, Brasil</td>\n",
       "    </tr>\n",
       "    <tr>\n",
       "      <th>9</th>\n",
       "      <td>10</td>\n",
       "      <td>150</td>\n",
       "      <td>2022-01-10</td>\n",
       "      <td>Rio de Janeiro, Brasil</td>\n",
       "    </tr>\n",
       "    <tr>\n",
       "      <th>10</th>\n",
       "      <td>11</td>\n",
       "      <td>200</td>\n",
       "      <td>2022-01-11</td>\n",
       "      <td>São Paulo, Brasil</td>\n",
       "    </tr>\n",
       "    <tr>\n",
       "      <th>11</th>\n",
       "      <td>12</td>\n",
       "      <td>200</td>\n",
       "      <td>2022-01-12</td>\n",
       "      <td>São Paulo, Brasil</td>\n",
       "    </tr>\n",
       "    <tr>\n",
       "      <th>12</th>\n",
       "      <td>13</td>\n",
       "      <td>400</td>\n",
       "      <td>2022-01-13</td>\n",
       "      <td>São Paulo, Brasil</td>\n",
       "    </tr>\n",
       "    <tr>\n",
       "      <th>13</th>\n",
       "      <td>14</td>\n",
       "      <td>300</td>\n",
       "      <td>2022-01-14</td>\n",
       "      <td>São Paulo, Brasil</td>\n",
       "    </tr>\n",
       "    <tr>\n",
       "      <th>14</th>\n",
       "      <td>15</td>\n",
       "      <td>150</td>\n",
       "      <td>2022-01-15</td>\n",
       "      <td>São Paulo, Brasil</td>\n",
       "    </tr>\n",
       "    <tr>\n",
       "      <th>15</th>\n",
       "      <td>16</td>\n",
       "      <td>301</td>\n",
       "      <td>2022-01-16</td>\n",
       "      <td>São Paulo, Brasil</td>\n",
       "    </tr>\n",
       "    <tr>\n",
       "      <th>17</th>\n",
       "      <td>18</td>\n",
       "      <td>300</td>\n",
       "      <td>2022-01-18</td>\n",
       "      <td>São Paulo, Brasil</td>\n",
       "    </tr>\n",
       "    <tr>\n",
       "      <th>18</th>\n",
       "      <td>19</td>\n",
       "      <td>400</td>\n",
       "      <td>2022-01-19</td>\n",
       "      <td>São Paulo, Brasil</td>\n",
       "    </tr>\n",
       "    <tr>\n",
       "      <th>19</th>\n",
       "      <td>20</td>\n",
       "      <td>250</td>\n",
       "      <td>2022-01-20</td>\n",
       "      <td>São Paulo, Brasil</td>\n",
       "    </tr>\n",
       "    <tr>\n",
       "      <th>20</th>\n",
       "      <td>21</td>\n",
       "      <td>150</td>\n",
       "      <td>2022-01-21</td>\n",
       "      <td>São Paulo, Brasil</td>\n",
       "    </tr>\n",
       "    <tr>\n",
       "      <th>21</th>\n",
       "      <td>22</td>\n",
       "      <td>100</td>\n",
       "      <td>2022-01-22</td>\n",
       "      <td>São Paulo, Brasil</td>\n",
       "    </tr>\n",
       "    <tr>\n",
       "      <th>22</th>\n",
       "      <td>23</td>\n",
       "      <td>500</td>\n",
       "      <td>2022-01-23</td>\n",
       "      <td>São Paulo, Brasil</td>\n",
       "    </tr>\n",
       "    <tr>\n",
       "      <th>23</th>\n",
       "      <td>24</td>\n",
       "      <td>600</td>\n",
       "      <td>2022-01-24</td>\n",
       "      <td>São Paulo, Brasil</td>\n",
       "    </tr>\n",
       "    <tr>\n",
       "      <th>24</th>\n",
       "      <td>25</td>\n",
       "      <td>200</td>\n",
       "      <td>2022-01-25</td>\n",
       "      <td>São Paulo, Brasil</td>\n",
       "    </tr>\n",
       "    <tr>\n",
       "      <th>25</th>\n",
       "      <td>26</td>\n",
       "      <td>350</td>\n",
       "      <td>2022-01-26</td>\n",
       "      <td>São Paulo, Brasil</td>\n",
       "    </tr>\n",
       "    <tr>\n",
       "      <th>26</th>\n",
       "      <td>27</td>\n",
       "      <td>100</td>\n",
       "      <td>2022-01-27</td>\n",
       "      <td>São Paulo, Brasil</td>\n",
       "    </tr>\n",
       "    <tr>\n",
       "      <th>27</th>\n",
       "      <td>28</td>\n",
       "      <td>250</td>\n",
       "      <td>2022-01-28</td>\n",
       "      <td>São Paulo, Brasil</td>\n",
       "    </tr>\n",
       "    <tr>\n",
       "      <th>29</th>\n",
       "      <td>30</td>\n",
       "      <td>250</td>\n",
       "      <td>2022-01-30</td>\n",
       "      <td>São Paulo, Brasil</td>\n",
       "    </tr>\n",
       "  </tbody>\n",
       "</table>\n",
       "</div>"
      ],
      "text/plain": [
       "    ID da transação  ...      Local da transação\n",
       "0                 1  ...       São Paulo, Brasil\n",
       "1                 2  ...  Rio de Janeiro, Brasil\n",
       "2                 3  ...  Belo Horizonte, Brasil\n",
       "3                 4  ...       São Paulo, Brasil\n",
       "4                 5  ...       São Paulo, Brasil\n",
       "6                 7  ...       São Paulo, Brasil\n",
       "7                 8  ...       São Paulo, Brasil\n",
       "8                 9  ...       São Paulo, Brasil\n",
       "9                10  ...  Rio de Janeiro, Brasil\n",
       "10               11  ...       São Paulo, Brasil\n",
       "11               12  ...       São Paulo, Brasil\n",
       "12               13  ...       São Paulo, Brasil\n",
       "13               14  ...       São Paulo, Brasil\n",
       "14               15  ...       São Paulo, Brasil\n",
       "15               16  ...       São Paulo, Brasil\n",
       "17               18  ...       São Paulo, Brasil\n",
       "18               19  ...       São Paulo, Brasil\n",
       "19               20  ...       São Paulo, Brasil\n",
       "20               21  ...       São Paulo, Brasil\n",
       "21               22  ...       São Paulo, Brasil\n",
       "22               23  ...       São Paulo, Brasil\n",
       "23               24  ...       São Paulo, Brasil\n",
       "24               25  ...       São Paulo, Brasil\n",
       "25               26  ...       São Paulo, Brasil\n",
       "26               27  ...       São Paulo, Brasil\n",
       "27               28  ...       São Paulo, Brasil\n",
       "29               30  ...       São Paulo, Brasil\n",
       "\n",
       "[27 rows x 4 columns]"
      ]
     },
     "execution_count": 27,
     "metadata": {},
     "output_type": "execute_result"
    }
   ],
   "source": [
    "# Remove outliers from the dataset\n",
    "df_no_outliers = df[(df['Valor da transação'] >= lower_bound) & (df['Valor da transação'] <= upper_bound)]\n",
    "df_no_outliers"
   ]
  }
 ],
 "metadata": {
  "kernelspec": {
   "display_name": "Python 3 (Spyder)",
   "language": "python3",
   "name": "python3"
  },
  "language_info": {
   "codemirror_mode": {
    "name": "ipython",
    "version": 3
   },
   "file_extension": ".py",
   "mimetype": "text/x-python",
   "name": "python",
   "nbconvert_exporter": "python",
   "pygments_lexer": "ipython3",
   "version": "3.11.8"
  }
 },
 "nbformat": 4,
 "nbformat_minor": 5
}
