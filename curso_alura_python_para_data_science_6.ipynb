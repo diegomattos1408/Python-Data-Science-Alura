{
 "cells": [
  {
   "cell_type": "markdown",
   "id": "23d6ccff-49b9-4968-9a99-b37cb5cf09bf",
   "metadata": {},
   "source": [
    "# Pandas: transformações e manipulação de dados"
   ]
  },
  {
   "cell_type": "markdown",
   "id": "218b0190-c9da-478f-ad9a-821fb5ce4b18",
   "metadata": {},
   "source": [
    "## Aula 1 - Entendendo o problema"
   ]
  },
  {
   "cell_type": "markdown",
   "id": "236215a8-6227-48a0-8d0f-a1a5d6ee0754",
   "metadata": {},
   "source": [
    "1. desafio do projeto 1: vendas online será abrir a base de dados com Pandas e aplicar o json_normalize."
   ]
  },
  {
   "cell_type": "code",
   "execution_count": 1,
   "id": "4701fe88-6758-4cff-8867-4960380f9990",
   "metadata": {},
   "outputs": [
    {
     "data": {
      "text/html": [
       "<div>\n",
       "<style scoped>\n",
       "    .dataframe tbody tr th:only-of-type {\n",
       "        vertical-align: middle;\n",
       "    }\n",
       "\n",
       "    .dataframe tbody tr th {\n",
       "        vertical-align: top;\n",
       "    }\n",
       "\n",
       "    .dataframe thead th {\n",
       "        text-align: right;\n",
       "    }\n",
       "</style>\n",
       "<table border=\"1\" class=\"dataframe\">\n",
       "  <thead>\n",
       "    <tr style=\"text-align: right;\">\n",
       "      <th></th>\n",
       "      <th>dados_vendas</th>\n",
       "    </tr>\n",
       "  </thead>\n",
       "  <tbody>\n",
       "    <tr>\n",
       "      <th>0</th>\n",
       "      <td>{'Data de venda': '06/06/2022', 'Cliente': ['@...</td>\n",
       "    </tr>\n",
       "    <tr>\n",
       "      <th>1</th>\n",
       "      <td>{'Data de venda': '07/06/2022', 'Cliente': ['I...</td>\n",
       "    </tr>\n",
       "    <tr>\n",
       "      <th>2</th>\n",
       "      <td>{'Data de venda': '08/06/2022', 'Cliente': ['I...</td>\n",
       "    </tr>\n",
       "    <tr>\n",
       "      <th>3</th>\n",
       "      <td>{'Data de venda': '09/06/2022', 'Cliente': ['J...</td>\n",
       "    </tr>\n",
       "    <tr>\n",
       "      <th>4</th>\n",
       "      <td>{'Data de venda': '10/06/2022', 'Cliente': ['M...</td>\n",
       "    </tr>\n",
       "  </tbody>\n",
       "</table>\n",
       "</div>"
      ],
      "text/plain": [
       "                                        dados_vendas\n",
       "0  {'Data de venda': '06/06/2022', 'Cliente': ['@...\n",
       "1  {'Data de venda': '07/06/2022', 'Cliente': ['I...\n",
       "2  {'Data de venda': '08/06/2022', 'Cliente': ['I...\n",
       "3  {'Data de venda': '09/06/2022', 'Cliente': ['J...\n",
       "4  {'Data de venda': '10/06/2022', 'Cliente': ['M..."
      ]
     },
     "execution_count": 1,
     "metadata": {},
     "output_type": "execute_result"
    }
   ],
   "source": [
    "import pandas as pd\n",
    "\n",
    "# Read the file\n",
    "dados_vendas_clientes = pd.read_json(\"dados_vendas_clientes.json\")\n",
    "\n",
    "# See the file\n",
    "dados_vendas_clientes"
   ]
  },
  {
   "cell_type": "code",
   "execution_count": 2,
   "id": "0568b54b-c00a-4fe5-801f-680433b6f49b",
   "metadata": {},
   "outputs": [
    {
     "data": {
      "text/html": [
       "<div>\n",
       "<style scoped>\n",
       "    .dataframe tbody tr th:only-of-type {\n",
       "        vertical-align: middle;\n",
       "    }\n",
       "\n",
       "    .dataframe tbody tr th {\n",
       "        vertical-align: top;\n",
       "    }\n",
       "\n",
       "    .dataframe thead th {\n",
       "        text-align: right;\n",
       "    }\n",
       "</style>\n",
       "<table border=\"1\" class=\"dataframe\">\n",
       "  <thead>\n",
       "    <tr style=\"text-align: right;\">\n",
       "      <th></th>\n",
       "      <th>Data de venda</th>\n",
       "      <th>Cliente</th>\n",
       "      <th>Valor da compra</th>\n",
       "    </tr>\n",
       "  </thead>\n",
       "  <tbody>\n",
       "    <tr>\n",
       "      <th>0</th>\n",
       "      <td>06/06/2022</td>\n",
       "      <td>[@ANA _LUCIA 321, DieGO ARMANDIU 210, DieGO AR...</td>\n",
       "      <td>[R$ 836,5, R$ 573,33, R$ 392,8, R$ 512,34]</td>\n",
       "    </tr>\n",
       "    <tr>\n",
       "      <th>1</th>\n",
       "      <td>07/06/2022</td>\n",
       "      <td>[Isabely JOanes 738, Isabely JOanes 738, Isabe...</td>\n",
       "      <td>[R$ 825,31, R$ 168,07, R$ 339,18, R$ 314,69]</td>\n",
       "    </tr>\n",
       "    <tr>\n",
       "      <th>2</th>\n",
       "      <td>08/06/2022</td>\n",
       "      <td>[Isabely JOanes 738, JOãO Gabriel 671, Julya m...</td>\n",
       "      <td>[R$ 682,05, R$ 386,34, R$ 622,65, R$ 630,79]</td>\n",
       "    </tr>\n",
       "    <tr>\n",
       "      <th>3</th>\n",
       "      <td>09/06/2022</td>\n",
       "      <td>[Julya meireles 914, MaRIA Julia 444, MaRIA Ju...</td>\n",
       "      <td>[R$ 390,3, R$ 759,16, R$ 334,47, R$ 678,78]</td>\n",
       "    </tr>\n",
       "    <tr>\n",
       "      <th>4</th>\n",
       "      <td>10/06/2022</td>\n",
       "      <td>[MaRIA Julia 444, PEDRO PASCO 812, Paulo castr...</td>\n",
       "      <td>[R$ 314,24, R$ 311,15, R$ 899,16, R$ 885,24]</td>\n",
       "    </tr>\n",
       "  </tbody>\n",
       "</table>\n",
       "</div>"
      ],
      "text/plain": [
       "  Data de venda  ...                               Valor da compra\n",
       "0    06/06/2022  ...    [R$ 836,5, R$ 573,33, R$ 392,8, R$ 512,34]\n",
       "1    07/06/2022  ...  [R$ 825,31, R$ 168,07, R$ 339,18, R$ 314,69]\n",
       "2    08/06/2022  ...  [R$ 682,05, R$ 386,34, R$ 622,65, R$ 630,79]\n",
       "3    09/06/2022  ...   [R$ 390,3, R$ 759,16, R$ 334,47, R$ 678,78]\n",
       "4    10/06/2022  ...  [R$ 314,24, R$ 311,15, R$ 899,16, R$ 885,24]\n",
       "\n",
       "[5 rows x 3 columns]"
      ]
     },
     "execution_count": 2,
     "metadata": {},
     "output_type": "execute_result"
    }
   ],
   "source": [
    "# Normalize the data\n",
    "df_vendas_online = pd.json_normalize(dados_vendas_clientes[\"dados_vendas\"])\n",
    "\n",
    "# Vizualise\n",
    "df_vendas_online.head()"
   ]
  },
  {
   "cell_type": "markdown",
   "id": "2de99fe7-9900-46ca-a6f7-b544ecc64688",
   "metadata": {},
   "source": [
    "2. desafio do projeto 2: administração de condomínios será similar ao desafio do projeto 1, abrir a base de dados com Pandas e aplicar o json_normalize no DataFrame."
   ]
  },
  {
   "cell_type": "code",
   "execution_count": 3,
   "id": "d0fe6cbd-ad17-4d65-98b8-9035f1d87da0",
   "metadata": {},
   "outputs": [
    {
     "data": {
      "text/html": [
       "<div>\n",
       "<style scoped>\n",
       "    .dataframe tbody tr th:only-of-type {\n",
       "        vertical-align: middle;\n",
       "    }\n",
       "\n",
       "    .dataframe tbody tr th {\n",
       "        vertical-align: top;\n",
       "    }\n",
       "\n",
       "    .dataframe thead th {\n",
       "        text-align: right;\n",
       "    }\n",
       "</style>\n",
       "<table border=\"1\" class=\"dataframe\">\n",
       "  <thead>\n",
       "    <tr style=\"text-align: right;\">\n",
       "      <th></th>\n",
       "      <th>dados_locacao</th>\n",
       "    </tr>\n",
       "  </thead>\n",
       "  <tbody>\n",
       "    <tr>\n",
       "      <th>0</th>\n",
       "      <td>{'apartamento': 'A101 (blocoAP)', 'datas_combi...</td>\n",
       "    </tr>\n",
       "    <tr>\n",
       "      <th>1</th>\n",
       "      <td>{'apartamento': 'A102 (blocoAP)', 'datas_combi...</td>\n",
       "    </tr>\n",
       "    <tr>\n",
       "      <th>2</th>\n",
       "      <td>{'apartamento': 'B201 (blocoAP)', 'datas_combi...</td>\n",
       "    </tr>\n",
       "    <tr>\n",
       "      <th>3</th>\n",
       "      <td>{'apartamento': 'B202 (blocoAP)', 'datas_combi...</td>\n",
       "    </tr>\n",
       "    <tr>\n",
       "      <th>4</th>\n",
       "      <td>{'apartamento': 'C301 (blocoAP)', 'datas_combi...</td>\n",
       "    </tr>\n",
       "    <tr>\n",
       "      <th>5</th>\n",
       "      <td>{'apartamento': 'C302 (blocoAP)', 'datas_combi...</td>\n",
       "    </tr>\n",
       "    <tr>\n",
       "      <th>6</th>\n",
       "      <td>{'apartamento': 'D401 (blocoAP)', 'datas_combi...</td>\n",
       "    </tr>\n",
       "    <tr>\n",
       "      <th>7</th>\n",
       "      <td>{'apartamento': 'D402 (blocoAP)', 'datas_combi...</td>\n",
       "    </tr>\n",
       "    <tr>\n",
       "      <th>8</th>\n",
       "      <td>{'apartamento': 'E501 (blocoAP)', 'datas_combi...</td>\n",
       "    </tr>\n",
       "    <tr>\n",
       "      <th>9</th>\n",
       "      <td>{'apartamento': 'E502 (blocoAP)', 'datas_combi...</td>\n",
       "    </tr>\n",
       "    <tr>\n",
       "      <th>10</th>\n",
       "      <td>{'apartamento': 'F601 (blocoAP)', 'datas_combi...</td>\n",
       "    </tr>\n",
       "    <tr>\n",
       "      <th>11</th>\n",
       "      <td>{'apartamento': 'F602 (blocoAP)', 'datas_combi...</td>\n",
       "    </tr>\n",
       "    <tr>\n",
       "      <th>12</th>\n",
       "      <td>{'apartamento': 'G701 (blocoAP)', 'datas_combi...</td>\n",
       "    </tr>\n",
       "    <tr>\n",
       "      <th>13</th>\n",
       "      <td>{'apartamento': 'G702 (blocoAP)', 'datas_combi...</td>\n",
       "    </tr>\n",
       "    <tr>\n",
       "      <th>14</th>\n",
       "      <td>{'apartamento': 'H801 (blocoAP)', 'datas_combi...</td>\n",
       "    </tr>\n",
       "  </tbody>\n",
       "</table>\n",
       "</div>"
      ],
      "text/plain": [
       "                                        dados_locacao\n",
       "0   {'apartamento': 'A101 (blocoAP)', 'datas_combi...\n",
       "1   {'apartamento': 'A102 (blocoAP)', 'datas_combi...\n",
       "2   {'apartamento': 'B201 (blocoAP)', 'datas_combi...\n",
       "3   {'apartamento': 'B202 (blocoAP)', 'datas_combi...\n",
       "4   {'apartamento': 'C301 (blocoAP)', 'datas_combi...\n",
       "5   {'apartamento': 'C302 (blocoAP)', 'datas_combi...\n",
       "6   {'apartamento': 'D401 (blocoAP)', 'datas_combi...\n",
       "7   {'apartamento': 'D402 (blocoAP)', 'datas_combi...\n",
       "8   {'apartamento': 'E501 (blocoAP)', 'datas_combi...\n",
       "9   {'apartamento': 'E502 (blocoAP)', 'datas_combi...\n",
       "10  {'apartamento': 'F601 (blocoAP)', 'datas_combi...\n",
       "11  {'apartamento': 'F602 (blocoAP)', 'datas_combi...\n",
       "12  {'apartamento': 'G701 (blocoAP)', 'datas_combi...\n",
       "13  {'apartamento': 'G702 (blocoAP)', 'datas_combi...\n",
       "14  {'apartamento': 'H801 (blocoAP)', 'datas_combi..."
      ]
     },
     "execution_count": 3,
     "metadata": {},
     "output_type": "execute_result"
    }
   ],
   "source": [
    "# Read the file\n",
    "dados_locacao_imoveis = pd.read_json(\"dados_locacao_imoveis.json\")\n",
    "\n",
    "# See the file\n",
    "dados_locacao_imoveis"
   ]
  },
  {
   "cell_type": "code",
   "execution_count": 4,
   "id": "a08cd457-a335-4bd6-8613-1fcf5c49499d",
   "metadata": {},
   "outputs": [
    {
     "data": {
      "text/html": [
       "<div>\n",
       "<style scoped>\n",
       "    .dataframe tbody tr th:only-of-type {\n",
       "        vertical-align: middle;\n",
       "    }\n",
       "\n",
       "    .dataframe tbody tr th {\n",
       "        vertical-align: top;\n",
       "    }\n",
       "\n",
       "    .dataframe thead th {\n",
       "        text-align: right;\n",
       "    }\n",
       "</style>\n",
       "<table border=\"1\" class=\"dataframe\">\n",
       "  <thead>\n",
       "    <tr style=\"text-align: right;\">\n",
       "      <th></th>\n",
       "      <th>apartamento</th>\n",
       "      <th>datas_combinadas_pagamento</th>\n",
       "      <th>datas_de_pagamento</th>\n",
       "      <th>valor_aluguel</th>\n",
       "    </tr>\n",
       "  </thead>\n",
       "  <tbody>\n",
       "    <tr>\n",
       "      <th>0</th>\n",
       "      <td>A101 (blocoAP)</td>\n",
       "      <td>[01/06/2022, 01/07/2022]</td>\n",
       "      <td>[05/06/2022, 03/07/2022]</td>\n",
       "      <td>[$ 1000,0 reais, $ 2500,0 reais]</td>\n",
       "    </tr>\n",
       "    <tr>\n",
       "      <th>1</th>\n",
       "      <td>A102 (blocoAP)</td>\n",
       "      <td>[02/06/2022, 02/07/2022]</td>\n",
       "      <td>[02/06/2022, 06/07/2022]</td>\n",
       "      <td>[$ 1100,0 reais, $ 2600,0 reais]</td>\n",
       "    </tr>\n",
       "    <tr>\n",
       "      <th>2</th>\n",
       "      <td>B201 (blocoAP)</td>\n",
       "      <td>[03/06/2022, 03/07/2022]</td>\n",
       "      <td>[07/06/2022, 03/07/2022]</td>\n",
       "      <td>[$ 1200,0 reais, $ 2700,0 reais]</td>\n",
       "    </tr>\n",
       "    <tr>\n",
       "      <th>3</th>\n",
       "      <td>B202 (blocoAP)</td>\n",
       "      <td>[04/06/2022, 04/07/2022]</td>\n",
       "      <td>[07/06/2022, 05/07/2022]</td>\n",
       "      <td>[$ 1300,0 reais, $ 2800,0 reais]</td>\n",
       "    </tr>\n",
       "    <tr>\n",
       "      <th>4</th>\n",
       "      <td>C301 (blocoAP)</td>\n",
       "      <td>[05/06/2022, 05/07/2022]</td>\n",
       "      <td>[10/06/2022, 09/07/2022]</td>\n",
       "      <td>[$ 1400,0 reais, $ 2900,0 reais]</td>\n",
       "    </tr>\n",
       "  </tbody>\n",
       "</table>\n",
       "</div>"
      ],
      "text/plain": [
       "      apartamento  ...                     valor_aluguel\n",
       "0  A101 (blocoAP)  ...  [$ 1000,0 reais, $ 2500,0 reais]\n",
       "1  A102 (blocoAP)  ...  [$ 1100,0 reais, $ 2600,0 reais]\n",
       "2  B201 (blocoAP)  ...  [$ 1200,0 reais, $ 2700,0 reais]\n",
       "3  B202 (blocoAP)  ...  [$ 1300,0 reais, $ 2800,0 reais]\n",
       "4  C301 (blocoAP)  ...  [$ 1400,0 reais, $ 2900,0 reais]\n",
       "\n",
       "[5 rows x 4 columns]"
      ]
     },
     "execution_count": 4,
     "metadata": {},
     "output_type": "execute_result"
    }
   ],
   "source": [
    "# Normalize the data\n",
    "df_locacao_imoveis= pd.json_normalize(dados_locacao_imoveis[\"dados_locacao\"])\n",
    "\n",
    "# Vizualise\n",
    "df_locacao_imoveis.head()"
   ]
  },
  {
   "cell_type": "markdown",
   "id": "4ec7d3c1-b282-4423-aedb-67f345a00a5f",
   "metadata": {},
   "source": [
    "## Aula 2 - Dados numéricos"
   ]
  },
  {
   "cell_type": "markdown",
   "id": "40556a5a-8edf-4ad2-ad92-a5a370d20602",
   "metadata": {},
   "source": [
    "### Projeto desafio 1: vendas online\n",
    "Lemos a base de dados no desafio anterior, agora podemos avançar nas transformações desses dados. Então, o novo desafio do projeto 1 será dividido em algumas metas:\n",
    "\n",
    "Remover os dados em listas dentro do DataFrame;\\\n",
    "Verificar os tipos de dados;\\\n",
    "Identificar colunas numéricas;\\\n",
    "Transformar a coluna numérica para o tipo numérico."
   ]
  },
  {
   "cell_type": "code",
   "execution_count": 5,
   "id": "4b6a998b-a8d4-4bb0-b700-1d2a4be45ffd",
   "metadata": {},
   "outputs": [
    {
     "data": {
      "text/plain": [
       "['Data de venda', 'Cliente', 'Valor da compra']"
      ]
     },
     "execution_count": 5,
     "metadata": {},
     "output_type": "execute_result"
    }
   ],
   "source": [
    "# Columns\n",
    "columns_vendas_online = list(df_vendas_online.columns)\n",
    "columns_vendas_online"
   ]
  },
  {
   "cell_type": "code",
   "execution_count": 6,
   "id": "71fa2691-21a2-4c89-a2af-56d5ac23d53b",
   "metadata": {},
   "outputs": [
    {
     "data": {
      "text/html": [
       "<div>\n",
       "<style scoped>\n",
       "    .dataframe tbody tr th:only-of-type {\n",
       "        vertical-align: middle;\n",
       "    }\n",
       "\n",
       "    .dataframe tbody tr th {\n",
       "        vertical-align: top;\n",
       "    }\n",
       "\n",
       "    .dataframe thead th {\n",
       "        text-align: right;\n",
       "    }\n",
       "</style>\n",
       "<table border=\"1\" class=\"dataframe\">\n",
       "  <thead>\n",
       "    <tr style=\"text-align: right;\">\n",
       "      <th></th>\n",
       "      <th>Data de venda</th>\n",
       "      <th>Cliente</th>\n",
       "      <th>Valor da compra</th>\n",
       "    </tr>\n",
       "  </thead>\n",
       "  <tbody>\n",
       "    <tr>\n",
       "      <th>0</th>\n",
       "      <td>06/06/2022</td>\n",
       "      <td>@ANA _LUCIA 321</td>\n",
       "      <td>R$ 836,5</td>\n",
       "    </tr>\n",
       "    <tr>\n",
       "      <th>0</th>\n",
       "      <td>06/06/2022</td>\n",
       "      <td>DieGO ARMANDIU 210</td>\n",
       "      <td>R$ 573,33</td>\n",
       "    </tr>\n",
       "    <tr>\n",
       "      <th>0</th>\n",
       "      <td>06/06/2022</td>\n",
       "      <td>DieGO ARMANDIU 210</td>\n",
       "      <td>R$ 392,8</td>\n",
       "    </tr>\n",
       "    <tr>\n",
       "      <th>0</th>\n",
       "      <td>06/06/2022</td>\n",
       "      <td>DieGO ARMANDIU 210</td>\n",
       "      <td>R$ 512,34</td>\n",
       "    </tr>\n",
       "    <tr>\n",
       "      <th>1</th>\n",
       "      <td>07/06/2022</td>\n",
       "      <td>Isabely JOanes 738</td>\n",
       "      <td>R$ 825,31</td>\n",
       "    </tr>\n",
       "  </tbody>\n",
       "</table>\n",
       "</div>"
      ],
      "text/plain": [
       "  Data de venda             Cliente Valor da compra\n",
       "0    06/06/2022     @ANA _LUCIA 321        R$ 836,5\n",
       "0    06/06/2022  DieGO ARMANDIU 210       R$ 573,33\n",
       "0    06/06/2022  DieGO ARMANDIU 210        R$ 392,8\n",
       "0    06/06/2022  DieGO ARMANDIU 210       R$ 512,34\n",
       "1    07/06/2022  Isabely JOanes 738       R$ 825,31"
      ]
     },
     "execution_count": 6,
     "metadata": {},
     "output_type": "execute_result"
    }
   ],
   "source": [
    "# Expanding the columns\n",
    "df_vendas_online = df_vendas_online.explode(columns_vendas_online[1:])\n",
    "\n",
    "df_vendas_online.head()"
   ]
  },
  {
   "cell_type": "code",
   "execution_count": 7,
   "id": "3add806f-887b-4b46-b0f9-992cc0ded6cc",
   "metadata": {},
   "outputs": [
    {
     "data": {
      "text/html": [
       "<div>\n",
       "<style scoped>\n",
       "    .dataframe tbody tr th:only-of-type {\n",
       "        vertical-align: middle;\n",
       "    }\n",
       "\n",
       "    .dataframe tbody tr th {\n",
       "        vertical-align: top;\n",
       "    }\n",
       "\n",
       "    .dataframe thead th {\n",
       "        text-align: right;\n",
       "    }\n",
       "</style>\n",
       "<table border=\"1\" class=\"dataframe\">\n",
       "  <thead>\n",
       "    <tr style=\"text-align: right;\">\n",
       "      <th></th>\n",
       "      <th>Data de venda</th>\n",
       "      <th>Cliente</th>\n",
       "      <th>Valor da compra</th>\n",
       "    </tr>\n",
       "  </thead>\n",
       "  <tbody>\n",
       "    <tr>\n",
       "      <th>0</th>\n",
       "      <td>06/06/2022</td>\n",
       "      <td>@ANA _LUCIA 321</td>\n",
       "      <td>R$ 836,5</td>\n",
       "    </tr>\n",
       "    <tr>\n",
       "      <th>1</th>\n",
       "      <td>06/06/2022</td>\n",
       "      <td>DieGO ARMANDIU 210</td>\n",
       "      <td>R$ 573,33</td>\n",
       "    </tr>\n",
       "    <tr>\n",
       "      <th>2</th>\n",
       "      <td>06/06/2022</td>\n",
       "      <td>DieGO ARMANDIU 210</td>\n",
       "      <td>R$ 392,8</td>\n",
       "    </tr>\n",
       "    <tr>\n",
       "      <th>3</th>\n",
       "      <td>06/06/2022</td>\n",
       "      <td>DieGO ARMANDIU 210</td>\n",
       "      <td>R$ 512,34</td>\n",
       "    </tr>\n",
       "    <tr>\n",
       "      <th>4</th>\n",
       "      <td>07/06/2022</td>\n",
       "      <td>Isabely JOanes 738</td>\n",
       "      <td>R$ 825,31</td>\n",
       "    </tr>\n",
       "  </tbody>\n",
       "</table>\n",
       "</div>"
      ],
      "text/plain": [
       "  Data de venda             Cliente Valor da compra\n",
       "0    06/06/2022     @ANA _LUCIA 321        R$ 836,5\n",
       "1    06/06/2022  DieGO ARMANDIU 210       R$ 573,33\n",
       "2    06/06/2022  DieGO ARMANDIU 210        R$ 392,8\n",
       "3    06/06/2022  DieGO ARMANDIU 210       R$ 512,34\n",
       "4    07/06/2022  Isabely JOanes 738       R$ 825,31"
      ]
     },
     "execution_count": 7,
     "metadata": {},
     "output_type": "execute_result"
    }
   ],
   "source": [
    "# Reset index\n",
    "df_vendas_online.reset_index(drop=True,inplace=True)\n",
    "\n",
    "df_vendas_online.head()"
   ]
  },
  {
   "cell_type": "code",
   "execution_count": 8,
   "id": "387ebbb5-4163-4a33-9852-883495806fc5",
   "metadata": {},
   "outputs": [
    {
     "name": "stdout",
     "output_type": "stream",
     "text": [
      "<class 'pandas.core.frame.DataFrame'>\n",
      "RangeIndex: 20 entries, 0 to 19\n",
      "Data columns (total 3 columns):\n",
      " #   Column           Non-Null Count  Dtype \n",
      "---  ------           --------------  ----- \n",
      " 0   Data de venda    20 non-null     object\n",
      " 1   Cliente          20 non-null     object\n",
      " 2   Valor da compra  20 non-null     object\n",
      "dtypes: object(3)\n",
      "memory usage: 612.0+ bytes\n"
     ]
    }
   ],
   "source": [
    "# Dataframe types\n",
    "df_vendas_online.info()"
   ]
  },
  {
   "cell_type": "code",
   "execution_count": 9,
   "id": "61cbc396-ffef-433c-809b-c0a690cdc1c8",
   "metadata": {},
   "outputs": [],
   "source": [
    "import numpy as np\n",
    "\n",
    "# Edit to decimal\n",
    "df_vendas_online['Valor da compra'] = df_vendas_online['Valor da compra'].apply(lambda x: x.replace('R$ ', '').replace(',','.').strip())"
   ]
  },
  {
   "cell_type": "code",
   "execution_count": 10,
   "id": "ef7875a4-2c5f-455b-90cc-cb9565164e31",
   "metadata": {},
   "outputs": [],
   "source": [
    "# Change data type\n",
    "df_vendas_online['Valor da compra'] = df_vendas_online['Valor da compra'].astype(np.float64)"
   ]
  },
  {
   "cell_type": "code",
   "execution_count": 11,
   "id": "98e95f5f-873a-4bb6-8a37-7621d149d265",
   "metadata": {},
   "outputs": [
    {
     "name": "stdout",
     "output_type": "stream",
     "text": [
      "<class 'pandas.core.frame.DataFrame'>\n",
      "RangeIndex: 20 entries, 0 to 19\n",
      "Data columns (total 3 columns):\n",
      " #   Column           Non-Null Count  Dtype  \n",
      "---  ------           --------------  -----  \n",
      " 0   Data de venda    20 non-null     object \n",
      " 1   Cliente          20 non-null     object \n",
      " 2   Valor da compra  20 non-null     float64\n",
      "dtypes: float64(1), object(2)\n",
      "memory usage: 612.0+ bytes\n"
     ]
    }
   ],
   "source": [
    "df_vendas_online.info()"
   ]
  },
  {
   "cell_type": "markdown",
   "id": "ccb7b806-8210-425b-947d-1336716ea083",
   "metadata": {},
   "source": [
    "### Projeto desafio 2: administração de condomínios\n",
    "Lemos a base de dados no desafio anterior, agora podemos avançar nas transformações desses dados. Então, da mesma forma que o projeto 1, o desafio do projeto 2 está listado em algumas metas:\n",
    "\n",
    "Remover os dados em listas dentro do DataFrame;\\\n",
    "Verificar os tipos de dados;\\\n",
    "Identificar colunas numéricas;\\\n",
    "Transformar a coluna numérica para o tipo numérico."
   ]
  },
  {
   "cell_type": "code",
   "execution_count": 12,
   "id": "a9fc4a8e-5669-4e17-b37b-03bdb342963b",
   "metadata": {},
   "outputs": [
    {
     "data": {
      "text/plain": [
       "['apartamento',\n",
       " 'datas_combinadas_pagamento',\n",
       " 'datas_de_pagamento',\n",
       " 'valor_aluguel']"
      ]
     },
     "execution_count": 12,
     "metadata": {},
     "output_type": "execute_result"
    }
   ],
   "source": [
    "# Columns\n",
    "columns_locacao_imoveis = list(df_locacao_imoveis.columns)\n",
    "columns_locacao_imoveis"
   ]
  },
  {
   "cell_type": "code",
   "execution_count": 13,
   "id": "98b8ad55-dc09-4022-96bf-a2b0c94b6bd9",
   "metadata": {},
   "outputs": [
    {
     "data": {
      "text/html": [
       "<div>\n",
       "<style scoped>\n",
       "    .dataframe tbody tr th:only-of-type {\n",
       "        vertical-align: middle;\n",
       "    }\n",
       "\n",
       "    .dataframe tbody tr th {\n",
       "        vertical-align: top;\n",
       "    }\n",
       "\n",
       "    .dataframe thead th {\n",
       "        text-align: right;\n",
       "    }\n",
       "</style>\n",
       "<table border=\"1\" class=\"dataframe\">\n",
       "  <thead>\n",
       "    <tr style=\"text-align: right;\">\n",
       "      <th></th>\n",
       "      <th>apartamento</th>\n",
       "      <th>datas_combinadas_pagamento</th>\n",
       "      <th>datas_de_pagamento</th>\n",
       "      <th>valor_aluguel</th>\n",
       "    </tr>\n",
       "  </thead>\n",
       "  <tbody>\n",
       "    <tr>\n",
       "      <th>0</th>\n",
       "      <td>A101 (blocoAP)</td>\n",
       "      <td>01/06/2022</td>\n",
       "      <td>05/06/2022</td>\n",
       "      <td>$ 1000,0 reais</td>\n",
       "    </tr>\n",
       "    <tr>\n",
       "      <th>0</th>\n",
       "      <td>A101 (blocoAP)</td>\n",
       "      <td>01/07/2022</td>\n",
       "      <td>03/07/2022</td>\n",
       "      <td>$ 2500,0 reais</td>\n",
       "    </tr>\n",
       "    <tr>\n",
       "      <th>1</th>\n",
       "      <td>A102 (blocoAP)</td>\n",
       "      <td>02/06/2022</td>\n",
       "      <td>02/06/2022</td>\n",
       "      <td>$ 1100,0 reais</td>\n",
       "    </tr>\n",
       "    <tr>\n",
       "      <th>1</th>\n",
       "      <td>A102 (blocoAP)</td>\n",
       "      <td>02/07/2022</td>\n",
       "      <td>06/07/2022</td>\n",
       "      <td>$ 2600,0 reais</td>\n",
       "    </tr>\n",
       "    <tr>\n",
       "      <th>2</th>\n",
       "      <td>B201 (blocoAP)</td>\n",
       "      <td>03/06/2022</td>\n",
       "      <td>07/06/2022</td>\n",
       "      <td>$ 1200,0 reais</td>\n",
       "    </tr>\n",
       "  </tbody>\n",
       "</table>\n",
       "</div>"
      ],
      "text/plain": [
       "      apartamento datas_combinadas_pagamento datas_de_pagamento   valor_aluguel\n",
       "0  A101 (blocoAP)                 01/06/2022         05/06/2022  $ 1000,0 reais\n",
       "0  A101 (blocoAP)                 01/07/2022         03/07/2022  $ 2500,0 reais\n",
       "1  A102 (blocoAP)                 02/06/2022         02/06/2022  $ 1100,0 reais\n",
       "1  A102 (blocoAP)                 02/07/2022         06/07/2022  $ 2600,0 reais\n",
       "2  B201 (blocoAP)                 03/06/2022         07/06/2022  $ 1200,0 reais"
      ]
     },
     "execution_count": 13,
     "metadata": {},
     "output_type": "execute_result"
    }
   ],
   "source": [
    "# Expanding the columns\n",
    "df_locacao_imoveis = df_locacao_imoveis.explode(columns_locacao_imoveis[1:])\n",
    "\n",
    "df_locacao_imoveis.head()"
   ]
  },
  {
   "cell_type": "code",
   "execution_count": 14,
   "id": "2f9fe2d6-6b3d-400e-beab-1fd6e23fb522",
   "metadata": {},
   "outputs": [
    {
     "name": "stdout",
     "output_type": "stream",
     "text": [
      "<class 'pandas.core.frame.DataFrame'>\n",
      "Index: 30 entries, 0 to 14\n",
      "Data columns (total 4 columns):\n",
      " #   Column                      Non-Null Count  Dtype \n",
      "---  ------                      --------------  ----- \n",
      " 0   apartamento                 30 non-null     object\n",
      " 1   datas_combinadas_pagamento  30 non-null     object\n",
      " 2   datas_de_pagamento          30 non-null     object\n",
      " 3   valor_aluguel               30 non-null     object\n",
      "dtypes: object(4)\n",
      "memory usage: 1.2+ KB\n"
     ]
    }
   ],
   "source": [
    "# Dataframe types\n",
    "df_locacao_imoveis.info()"
   ]
  },
  {
   "cell_type": "code",
   "execution_count": 15,
   "id": "a267049e-7c3e-4ea1-912a-60aaa680164a",
   "metadata": {},
   "outputs": [
    {
     "data": {
      "text/html": [
       "<div>\n",
       "<style scoped>\n",
       "    .dataframe tbody tr th:only-of-type {\n",
       "        vertical-align: middle;\n",
       "    }\n",
       "\n",
       "    .dataframe tbody tr th {\n",
       "        vertical-align: top;\n",
       "    }\n",
       "\n",
       "    .dataframe thead th {\n",
       "        text-align: right;\n",
       "    }\n",
       "</style>\n",
       "<table border=\"1\" class=\"dataframe\">\n",
       "  <thead>\n",
       "    <tr style=\"text-align: right;\">\n",
       "      <th></th>\n",
       "      <th>apartamento</th>\n",
       "      <th>datas_combinadas_pagamento</th>\n",
       "      <th>datas_de_pagamento</th>\n",
       "      <th>valor_aluguel</th>\n",
       "    </tr>\n",
       "  </thead>\n",
       "  <tbody>\n",
       "    <tr>\n",
       "      <th>0</th>\n",
       "      <td>A101 (blocoAP)</td>\n",
       "      <td>01/06/2022</td>\n",
       "      <td>05/06/2022</td>\n",
       "      <td>1000.0</td>\n",
       "    </tr>\n",
       "    <tr>\n",
       "      <th>0</th>\n",
       "      <td>A101 (blocoAP)</td>\n",
       "      <td>01/07/2022</td>\n",
       "      <td>03/07/2022</td>\n",
       "      <td>2500.0</td>\n",
       "    </tr>\n",
       "    <tr>\n",
       "      <th>1</th>\n",
       "      <td>A102 (blocoAP)</td>\n",
       "      <td>02/06/2022</td>\n",
       "      <td>02/06/2022</td>\n",
       "      <td>1100.0</td>\n",
       "    </tr>\n",
       "    <tr>\n",
       "      <th>1</th>\n",
       "      <td>A102 (blocoAP)</td>\n",
       "      <td>02/07/2022</td>\n",
       "      <td>06/07/2022</td>\n",
       "      <td>2600.0</td>\n",
       "    </tr>\n",
       "    <tr>\n",
       "      <th>2</th>\n",
       "      <td>B201 (blocoAP)</td>\n",
       "      <td>03/06/2022</td>\n",
       "      <td>07/06/2022</td>\n",
       "      <td>1200.0</td>\n",
       "    </tr>\n",
       "  </tbody>\n",
       "</table>\n",
       "</div>"
      ],
      "text/plain": [
       "      apartamento datas_combinadas_pagamento datas_de_pagamento valor_aluguel\n",
       "0  A101 (blocoAP)                 01/06/2022         05/06/2022        1000.0\n",
       "0  A101 (blocoAP)                 01/07/2022         03/07/2022        2500.0\n",
       "1  A102 (blocoAP)                 02/06/2022         02/06/2022        1100.0\n",
       "1  A102 (blocoAP)                 02/07/2022         06/07/2022        2600.0\n",
       "2  B201 (blocoAP)                 03/06/2022         07/06/2022        1200.0"
      ]
     },
     "execution_count": 15,
     "metadata": {},
     "output_type": "execute_result"
    }
   ],
   "source": [
    "# Edit to decimal\n",
    "df_locacao_imoveis['valor_aluguel'] = df_locacao_imoveis['valor_aluguel'].apply(lambda x: x.replace('$ ', '').replace(',','.').replace(\"reais\", '').strip())\n",
    "\n",
    "df_locacao_imoveis.head()"
   ]
  },
  {
   "cell_type": "code",
   "execution_count": 16,
   "id": "0a2164da-f2b7-49d0-8f34-fa6e5b3d5356",
   "metadata": {},
   "outputs": [],
   "source": [
    "# Change data type\n",
    "df_locacao_imoveis['valor_aluguel'] = df_locacao_imoveis['valor_aluguel'].astype(np.float64)"
   ]
  },
  {
   "cell_type": "code",
   "execution_count": 17,
   "id": "e20712e5-4236-42fa-9b44-23ac8353d8b2",
   "metadata": {},
   "outputs": [
    {
     "name": "stdout",
     "output_type": "stream",
     "text": [
      "<class 'pandas.core.frame.DataFrame'>\n",
      "Index: 30 entries, 0 to 14\n",
      "Data columns (total 4 columns):\n",
      " #   Column                      Non-Null Count  Dtype  \n",
      "---  ------                      --------------  -----  \n",
      " 0   apartamento                 30 non-null     object \n",
      " 1   datas_combinadas_pagamento  30 non-null     object \n",
      " 2   datas_de_pagamento          30 non-null     object \n",
      " 3   valor_aluguel               30 non-null     float64\n",
      "dtypes: float64(1), object(3)\n",
      "memory usage: 1.2+ KB\n"
     ]
    }
   ],
   "source": [
    "df_locacao_imoveis.info()"
   ]
  },
  {
   "cell_type": "markdown",
   "id": "283259d9-8dd1-4c46-89f1-29c07594fd6e",
   "metadata": {},
   "source": [
    "## Aula 3 - Dados Textuais"
   ]
  },
  {
   "cell_type": "markdown",
   "id": "f4efe09a-c500-404d-bbbb-616422e3d99b",
   "metadata": {},
   "source": [
    "### Projeto desafio 1: vendas online\n",
    "Na etapa 2, trabalhamos na transformação dos dados numéricos. Agora, podemos trabalhar com valores textuais.\n",
    "\n",
    "Devido a uma instabilidade no site da empresa, tivemos problemas com os nomes dos clientes durante o salvamento. Isso resultou em uma coluna de nomes de clientes com uma mistura de letras, maiúsculas e minúsculas, números e outros caracteres.\n",
    "\n",
    "Sabendo disso, manipule os textos presentes na coluna Cliente para que seja obtido como resultado os nomes dos clientes em letras minúsculas, com a ausência de caracteres especiais ou números."
   ]
  },
  {
   "cell_type": "code",
   "execution_count": 18,
   "id": "c34818ea-764a-496d-8d40-d9d22f737b8d",
   "metadata": {},
   "outputs": [
    {
     "data": {
      "text/html": [
       "<div>\n",
       "<style scoped>\n",
       "    .dataframe tbody tr th:only-of-type {\n",
       "        vertical-align: middle;\n",
       "    }\n",
       "\n",
       "    .dataframe tbody tr th {\n",
       "        vertical-align: top;\n",
       "    }\n",
       "\n",
       "    .dataframe thead th {\n",
       "        text-align: right;\n",
       "    }\n",
       "</style>\n",
       "<table border=\"1\" class=\"dataframe\">\n",
       "  <thead>\n",
       "    <tr style=\"text-align: right;\">\n",
       "      <th></th>\n",
       "      <th>Data de venda</th>\n",
       "      <th>Cliente</th>\n",
       "      <th>Valor da compra</th>\n",
       "    </tr>\n",
       "  </thead>\n",
       "  <tbody>\n",
       "    <tr>\n",
       "      <th>0</th>\n",
       "      <td>06/06/2022</td>\n",
       "      <td>@ana _lucia 321</td>\n",
       "      <td>836.50</td>\n",
       "    </tr>\n",
       "    <tr>\n",
       "      <th>1</th>\n",
       "      <td>06/06/2022</td>\n",
       "      <td>diego armandiu 210</td>\n",
       "      <td>573.33</td>\n",
       "    </tr>\n",
       "    <tr>\n",
       "      <th>2</th>\n",
       "      <td>06/06/2022</td>\n",
       "      <td>diego armandiu 210</td>\n",
       "      <td>392.80</td>\n",
       "    </tr>\n",
       "    <tr>\n",
       "      <th>3</th>\n",
       "      <td>06/06/2022</td>\n",
       "      <td>diego armandiu 210</td>\n",
       "      <td>512.34</td>\n",
       "    </tr>\n",
       "    <tr>\n",
       "      <th>4</th>\n",
       "      <td>07/06/2022</td>\n",
       "      <td>isabely joanes 738</td>\n",
       "      <td>825.31</td>\n",
       "    </tr>\n",
       "  </tbody>\n",
       "</table>\n",
       "</div>"
      ],
      "text/plain": [
       "  Data de venda             Cliente  Valor da compra\n",
       "0    06/06/2022     @ana _lucia 321           836.50\n",
       "1    06/06/2022  diego armandiu 210           573.33\n",
       "2    06/06/2022  diego armandiu 210           392.80\n",
       "3    06/06/2022  diego armandiu 210           512.34\n",
       "4    07/06/2022  isabely joanes 738           825.31"
      ]
     },
     "execution_count": 18,
     "metadata": {},
     "output_type": "execute_result"
    }
   ],
   "source": [
    "# Lowering the words\n",
    "df_vendas_online[\"Cliente\"] = df_vendas_online[\"Cliente\"].str.lower()\n",
    "\n",
    "df_vendas_online.head()"
   ]
  },
  {
   "cell_type": "code",
   "execution_count": 19,
   "id": "0adc2316-b1d0-4ea7-9b45-28021a71116a",
   "metadata": {},
   "outputs": [
    {
     "data": {
      "text/html": [
       "<div>\n",
       "<style scoped>\n",
       "    .dataframe tbody tr th:only-of-type {\n",
       "        vertical-align: middle;\n",
       "    }\n",
       "\n",
       "    .dataframe tbody tr th {\n",
       "        vertical-align: top;\n",
       "    }\n",
       "\n",
       "    .dataframe thead th {\n",
       "        text-align: right;\n",
       "    }\n",
       "</style>\n",
       "<table border=\"1\" class=\"dataframe\">\n",
       "  <thead>\n",
       "    <tr style=\"text-align: right;\">\n",
       "      <th></th>\n",
       "      <th>Data de venda</th>\n",
       "      <th>Cliente</th>\n",
       "      <th>Valor da compra</th>\n",
       "    </tr>\n",
       "  </thead>\n",
       "  <tbody>\n",
       "    <tr>\n",
       "      <th>0</th>\n",
       "      <td>06/06/2022</td>\n",
       "      <td>ana lucia</td>\n",
       "      <td>836.50</td>\n",
       "    </tr>\n",
       "    <tr>\n",
       "      <th>1</th>\n",
       "      <td>06/06/2022</td>\n",
       "      <td>diego armandiu</td>\n",
       "      <td>573.33</td>\n",
       "    </tr>\n",
       "    <tr>\n",
       "      <th>2</th>\n",
       "      <td>06/06/2022</td>\n",
       "      <td>diego armandiu</td>\n",
       "      <td>392.80</td>\n",
       "    </tr>\n",
       "    <tr>\n",
       "      <th>3</th>\n",
       "      <td>06/06/2022</td>\n",
       "      <td>diego armandiu</td>\n",
       "      <td>512.34</td>\n",
       "    </tr>\n",
       "    <tr>\n",
       "      <th>4</th>\n",
       "      <td>07/06/2022</td>\n",
       "      <td>isabely joanes</td>\n",
       "      <td>825.31</td>\n",
       "    </tr>\n",
       "  </tbody>\n",
       "</table>\n",
       "</div>"
      ],
      "text/plain": [
       "  Data de venda         Cliente  Valor da compra\n",
       "0    06/06/2022       ana lucia           836.50\n",
       "1    06/06/2022  diego armandiu           573.33\n",
       "2    06/06/2022  diego armandiu           392.80\n",
       "3    06/06/2022  diego armandiu           512.34\n",
       "4    07/06/2022  isabely joanes           825.31"
      ]
     },
     "execution_count": 19,
     "metadata": {},
     "output_type": "execute_result"
    }
   ],
   "source": [
    "# Replacing\n",
    "df_vendas_online[\"Cliente\"] = df_vendas_online[\"Cliente\"].str.replace(\"[^a-z ]\", '', regex=True).str.strip()\n",
    "\n",
    "df_vendas_online.head()"
   ]
  },
  {
   "cell_type": "markdown",
   "id": "5776c89d-a68f-43d0-938b-c5da867ad4f3",
   "metadata": {},
   "source": [
    "### Projeto desafio 2: administração de condomínios\n",
    "Na etapa 2, trabalhamos na transformação dos dados numéricos. Agora, podemos trabalhar com valores textuais.\n",
    "\n",
    "Buscando explicar a organização da identificação dos apartamentos, durante a criação do conjunto de dados, foi adicionado o texto (blocoAP). Esse texto informa que os nomes dos apartamentos estão organizados com a letra do bloco seguida do número do apartamento. No entanto, isso não traz nenhuma informação para nossos dados, sendo interessante realizar a remoção desse texto no conjunto de dados.\n",
    "\n",
    "Com isso, manipule os textos na coluna apartamento para remover o texto (blocoAP) do DataFrame."
   ]
  },
  {
   "cell_type": "code",
   "execution_count": 20,
   "id": "eb8dff13-701a-4472-a685-45987f2f2c4e",
   "metadata": {},
   "outputs": [
    {
     "data": {
      "text/html": [
       "<div>\n",
       "<style scoped>\n",
       "    .dataframe tbody tr th:only-of-type {\n",
       "        vertical-align: middle;\n",
       "    }\n",
       "\n",
       "    .dataframe tbody tr th {\n",
       "        vertical-align: top;\n",
       "    }\n",
       "\n",
       "    .dataframe thead th {\n",
       "        text-align: right;\n",
       "    }\n",
       "</style>\n",
       "<table border=\"1\" class=\"dataframe\">\n",
       "  <thead>\n",
       "    <tr style=\"text-align: right;\">\n",
       "      <th></th>\n",
       "      <th>apartamento</th>\n",
       "      <th>datas_combinadas_pagamento</th>\n",
       "      <th>datas_de_pagamento</th>\n",
       "      <th>valor_aluguel</th>\n",
       "    </tr>\n",
       "  </thead>\n",
       "  <tbody>\n",
       "    <tr>\n",
       "      <th>0</th>\n",
       "      <td>A101</td>\n",
       "      <td>01/06/2022</td>\n",
       "      <td>05/06/2022</td>\n",
       "      <td>1000.0</td>\n",
       "    </tr>\n",
       "    <tr>\n",
       "      <th>0</th>\n",
       "      <td>A101</td>\n",
       "      <td>01/07/2022</td>\n",
       "      <td>03/07/2022</td>\n",
       "      <td>2500.0</td>\n",
       "    </tr>\n",
       "    <tr>\n",
       "      <th>1</th>\n",
       "      <td>A102</td>\n",
       "      <td>02/06/2022</td>\n",
       "      <td>02/06/2022</td>\n",
       "      <td>1100.0</td>\n",
       "    </tr>\n",
       "    <tr>\n",
       "      <th>1</th>\n",
       "      <td>A102</td>\n",
       "      <td>02/07/2022</td>\n",
       "      <td>06/07/2022</td>\n",
       "      <td>2600.0</td>\n",
       "    </tr>\n",
       "    <tr>\n",
       "      <th>2</th>\n",
       "      <td>B201</td>\n",
       "      <td>03/06/2022</td>\n",
       "      <td>07/06/2022</td>\n",
       "      <td>1200.0</td>\n",
       "    </tr>\n",
       "  </tbody>\n",
       "</table>\n",
       "</div>"
      ],
      "text/plain": [
       "  apartamento datas_combinadas_pagamento datas_de_pagamento  valor_aluguel\n",
       "0        A101                 01/06/2022         05/06/2022         1000.0\n",
       "0        A101                 01/07/2022         03/07/2022         2500.0\n",
       "1        A102                 02/06/2022         02/06/2022         1100.0\n",
       "1        A102                 02/07/2022         06/07/2022         2600.0\n",
       "2        B201                 03/06/2022         07/06/2022         1200.0"
      ]
     },
     "execution_count": 20,
     "metadata": {},
     "output_type": "execute_result"
    }
   ],
   "source": [
    "# Removing BlocoAP\n",
    "df_locacao_imoveis['apartamento'] = df_locacao_imoveis['apartamento'].str.replace(' \\(blocoAP\\)', '', regex=True)\n",
    "\n",
    "df_locacao_imoveis.head()"
   ]
  },
  {
   "cell_type": "markdown",
   "id": "559366a2-92b8-4668-a836-8999fb0c5486",
   "metadata": {},
   "source": [
    "## Aula 4 - Dados de tempo"
   ]
  },
  {
   "cell_type": "markdown",
   "id": "ed0b6ce5-8443-415b-a921-2e31f783bc64",
   "metadata": {},
   "source": [
    "### Projeto desafio 1: vendas online\n",
    "Nas etapas anteriores, já trabalhamos com vários tipos de dados, agora podemos trabalhar com os dados de tempo.\n",
    "\n",
    "Na coluna Data de venda, temos datas em formato 'dia/mês/ano' (dd/mm/AAAA). Transforme esses dados para o tipo datetime e busque uma forma de visualização de subconjunto que possa contribuir no objetivo do contexto que os dados estão inseridos.\n",
    "\n",
    "Se você não lembra o problema do projeto desafio 1, vou deixar abaixo o texto da situação para facilitar o encontro da informação:\n",
    "\n",
    "O objetivo desse projeto é realizar uma análise dos resultados de um evento com os clientes de uma empresa de vendas online. Foi coletado um conjunto de dados que contém os clientes que mais gastaram com produtos dentro de 5 dias de vendas, que é o período de duração do evento. Essa análise vai identificar o cliente com a maior compra na semana, que irá receber um prêmio da loja, e posteriormente, ela pode ajudar a empresa a criar novas estratégias para atrair mais clientes."
   ]
  },
  {
   "cell_type": "code",
   "execution_count": 21,
   "id": "da6336f6-13b3-40a4-a6b5-6f930b10a49e",
   "metadata": {},
   "outputs": [
    {
     "name": "stdout",
     "output_type": "stream",
     "text": [
      "<class 'pandas.core.frame.DataFrame'>\n",
      "RangeIndex: 20 entries, 0 to 19\n",
      "Data columns (total 3 columns):\n",
      " #   Column           Non-Null Count  Dtype         \n",
      "---  ------           --------------  -----         \n",
      " 0   Data de venda    20 non-null     datetime64[ns]\n",
      " 1   Cliente          20 non-null     object        \n",
      " 2   Valor da compra  20 non-null     float64       \n",
      "dtypes: datetime64[ns](1), float64(1), object(1)\n",
      "memory usage: 612.0+ bytes\n"
     ]
    }
   ],
   "source": [
    "# Transform into date\n",
    "df_vendas_online[\"Data de venda\"] = pd.to_datetime(df_vendas_online[\"Data de venda\"])\n",
    "# Adjust the format\n",
    "df_vendas_online[\"Data de venda\"].dt.strftime(\"d%m%Y\")\n",
    "# Check if it worked\n",
    "df_vendas_online.info()"
   ]
  },
  {
   "cell_type": "code",
   "execution_count": 34,
   "id": "672d5bb5-1b84-4283-860f-a30f53f8376f",
   "metadata": {},
   "outputs": [
    {
     "name": "stdout",
     "output_type": "stream",
     "text": [
      "isabely joanes 2329.3\n"
     ]
    }
   ],
   "source": [
    "# Finding the client that bought more items\n",
    "total_compras = df_vendas_online.groupby(['Cliente'])['Valor da compra'].sum()\n",
    "\n",
    "total_compras.sort_values(ascending=False)\n",
    "\n",
    "print(total_compras.idxmax(), total_compras.max())"
   ]
  },
  {
   "cell_type": "markdown",
   "id": "ad854f94-d167-48c4-84ee-28d2023387c6",
   "metadata": {},
   "source": [
    "### Projeto desafio 2: administração de condomínios\n",
    "Assim como no projeto desafio 1, trabalhamos com todas as colunas exceto as que envolvem datas.\n",
    "\n",
    "Nas colunas datas_de_pagamento e datas_combinadas_pagamento, temos datas em formato 'dia/mês/ano' (dd/mm/AAAA). Transforme esses dados para o tipo datetime e busque uma forma de visualização de subconjunto que possa contribuir no objetivo do contexto que os dados estão inseridos.\n",
    "\n",
    "Se você não lembra o problema do projeto desafio 2, vou deixar abaixo o texto da situação para facilitar o encontro da informação:\n",
    "\n",
    "A administração de condomínios é uma tarefa que requer muita atenção e organização. Entre as diversas responsabilidades da gestão está o recebimento dos aluguéis dos locatários. Para garantir uma boa saúde financeira do empreendimento, é fundamental que esses pagamentos sejam feitos de forma regular e pontual. No entanto, sabemos que nem sempre isso acontece. Pensando nisso, proponho um desafio de tratamento de dados com o objetivo de analisar o atraso no pagamento de aluguéis no condomínio fictício de alguns moradores."
   ]
  },
  {
   "cell_type": "code",
   "execution_count": 39,
   "id": "553c8a4d-4204-42f4-a426-e5f107ff34a1",
   "metadata": {},
   "outputs": [],
   "source": [
    "# Transform into date\n",
    "df_locacao_imoveis['datas_combinadas_pagamento'] = pd.to_datetime(df_locacao_imoveis['datas_combinadas_pagamento'], format='%d/%m/%Y')\n",
    "df_locacao_imoveis['datas_de_pagamento'] = pd.to_datetime(df_locacao_imoveis['datas_de_pagamento'], format='%d/%m/%Y')"
   ]
  },
  {
   "cell_type": "code",
   "execution_count": 41,
   "id": "14a52d71-901d-4f9f-ba39-28f96c7e3e21",
   "metadata": {},
   "outputs": [],
   "source": [
    "# Calculate the delay in the payment\n",
    "df_locacao_imoveis['Atraso'] = (df_locacao_imoveis['datas_de_pagamento'] - df_locacao_imoveis['datas_combinadas_pagamento']).dt.days"
   ]
  },
  {
   "cell_type": "code",
   "execution_count": 42,
   "id": "031dd38a-4e79-4c81-916d-ed0561ae1616",
   "metadata": {},
   "outputs": [
    {
     "data": {
      "text/plain": [
       "apartamento\n",
       "A101    3.0\n",
       "A102    2.0\n",
       "B201    2.0\n",
       "B202    2.0\n",
       "C301    4.5\n",
       "C302    4.0\n",
       "D401    1.0\n",
       "D402    4.0\n",
       "E501    0.5\n",
       "E502    4.0\n",
       "F601    4.0\n",
       "F602    1.5\n",
       "G701    6.5\n",
       "G702    2.0\n",
       "H801    2.0\n",
       "Name: Atraso, dtype: float64"
      ]
     },
     "execution_count": 42,
     "metadata": {},
     "output_type": "execute_result"
    }
   ],
   "source": [
    "# Calculate the mean of the delay in the payment\n",
    "media_atraso = df_locacao_imoveis.groupby(['apartamento'])['Atraso'].mean()\n",
    "\n",
    "media_atraso"
   ]
  },
  {
   "cell_type": "code",
   "execution_count": null,
   "id": "428bc5ce-5ca2-4547-8f41-67f0bc638faf",
   "metadata": {},
   "outputs": [],
   "source": []
  }
 ],
 "metadata": {
  "kernelspec": {
   "display_name": "Python 3 (Spyder)",
   "language": "python3",
   "name": "python3"
  },
  "language_info": {
   "codemirror_mode": {
    "name": "ipython",
    "version": 3
   },
   "file_extension": ".py",
   "mimetype": "text/x-python",
   "name": "python",
   "nbconvert_exporter": "python",
   "pygments_lexer": "ipython3",
   "version": "3.11.8"
  }
 },
 "nbformat": 4,
 "nbformat_minor": 5
}
